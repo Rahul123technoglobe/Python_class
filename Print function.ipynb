{
 "cells": [
  {
   "cell_type": "markdown",
   "id": "bbe93915-b515-4715-80f5-5667597fef64",
   "metadata": {},
   "source": [
    "Print function"
   ]
  },
  {
   "cell_type": "code",
   "execution_count": 3,
   "id": "102de9e5-3371-4124-baa3-3a1c70e868b2",
   "metadata": {},
   "outputs": [
    {
     "name": "stdout",
     "output_type": "stream",
     "text": [
      "Hello Word\n"
     ]
    }
   ],
   "source": [
    "print('Hello Word')"
   ]
  },
  {
   "cell_type": "code",
   "execution_count": 4,
   "id": "215bf133-9b71-4293-bd38-b11cabe12943",
   "metadata": {},
   "outputs": [
    {
     "name": "stdout",
     "output_type": "stream",
     "text": [
      "255\n"
     ]
    }
   ],
   "source": [
    "print(255)"
   ]
  },
  {
   "cell_type": "code",
   "execution_count": 5,
   "id": "358bd2a5-a6ff-4620-a549-e4eed23835f5",
   "metadata": {},
   "outputs": [
    {
     "name": "stdout",
     "output_type": "stream",
     "text": [
      "4.5\n"
     ]
    }
   ],
   "source": [
    "print(4.5)"
   ]
  },
  {
   "cell_type": "code",
   "execution_count": 7,
   "id": "cf8a3307-0e3d-4b95-9c65-9e4a49ad07a9",
   "metadata": {},
   "outputs": [
    {
     "name": "stdout",
     "output_type": "stream",
     "text": [
      "Ram\n"
     ]
    }
   ],
   "source": [
    "print(\"Ram\")"
   ]
  },
  {
   "cell_type": "code",
   "execution_count": 8,
   "id": "a9bd8260-ad29-4edc-8752-3ccbf3684ce6",
   "metadata": {},
   "outputs": [
    {
     "name": "stdout",
     "output_type": "stream",
     "text": [
      "4.5\n"
     ]
    }
   ],
   "source": [
    "print(\"4.5\")"
   ]
  },
  {
   "cell_type": "code",
   "execution_count": 9,
   "id": "ec3d22c8-f02c-4056-b4d4-0d9974491f2d",
   "metadata": {},
   "outputs": [
    {
     "name": "stdout",
     "output_type": "stream",
     "text": [
      "255\n"
     ]
    }
   ],
   "source": [
    "print(\"255\")"
   ]
  },
  {
   "cell_type": "code",
   "execution_count": 10,
   "id": "14356172-2d6d-43b0-b390-06818fce8cb7",
   "metadata": {},
   "outputs": [],
   "source": [
    "a=255"
   ]
  },
  {
   "cell_type": "code",
   "execution_count": 11,
   "id": "f1e83c37-914e-48e3-89fe-70cf56a19994",
   "metadata": {},
   "outputs": [
    {
     "name": "stdout",
     "output_type": "stream",
     "text": [
      "255\n"
     ]
    }
   ],
   "source": [
    "print(a)"
   ]
  },
  {
   "cell_type": "code",
   "execution_count": 12,
   "id": "11a6c711-f7bb-423c-9dfd-f53886e764bf",
   "metadata": {},
   "outputs": [
    {
     "data": {
      "text/plain": [
       "int"
      ]
     },
     "execution_count": 12,
     "metadata": {},
     "output_type": "execute_result"
    }
   ],
   "source": [
    "type(a)"
   ]
  },
  {
   "cell_type": "code",
   "execution_count": 13,
   "id": "541a475e-4da0-4367-8938-e0edc5f33767",
   "metadata": {},
   "outputs": [],
   "source": [
    "b=\"255\""
   ]
  },
  {
   "cell_type": "code",
   "execution_count": 14,
   "id": "6c8c2ed4-bb81-47a8-8d32-dcc26854e605",
   "metadata": {},
   "outputs": [
    {
     "name": "stdout",
     "output_type": "stream",
     "text": [
      "255\n"
     ]
    }
   ],
   "source": [
    "print(b)"
   ]
  },
  {
   "cell_type": "code",
   "execution_count": 15,
   "id": "59f45702-d363-4a7a-b01f-d063068d234b",
   "metadata": {},
   "outputs": [
    {
     "data": {
      "text/plain": [
       "str"
      ]
     },
     "execution_count": 15,
     "metadata": {},
     "output_type": "execute_result"
    }
   ],
   "source": [
    "type(b)"
   ]
  },
  {
   "cell_type": "code",
   "execution_count": 16,
   "id": "bcbb950c-47cd-4bea-bd18-239fafc5916d",
   "metadata": {},
   "outputs": [
    {
     "name": "stdout",
     "output_type": "stream",
     "text": [
      "Ram,Shyam\n"
     ]
    }
   ],
   "source": [
    "print('Ram,Shyam')"
   ]
  },
  {
   "cell_type": "code",
   "execution_count": 25,
   "id": "65f44b96-5acd-410e-b304-f15cf364b6b5",
   "metadata": {},
   "outputs": [
    {
     "name": "stdout",
     "output_type": "stream",
     "text": [
      "ram=shyam\n"
     ]
    }
   ],
   "source": [
    "print(\"ram\",\"shyam\",sep = \"=\")"
   ]
  },
  {
   "cell_type": "code",
   "execution_count": 26,
   "id": "39f46768-b82f-490c-b3e1-f92ef6b67ae9",
   "metadata": {},
   "outputs": [
    {
     "name": "stdout",
     "output_type": "stream",
     "text": [
      "ram,shyam\n"
     ]
    }
   ],
   "source": [
    "print(\"ram\",\"shyam\",sep = \",\")"
   ]
  },
  {
   "cell_type": "code",
   "execution_count": 28,
   "id": "8ff967dd-60dd-41aa-800c-be31c73968ca",
   "metadata": {},
   "outputs": [
    {
     "name": "stdout",
     "output_type": "stream",
     "text": [
      "ram/shyam\n"
     ]
    }
   ],
   "source": [
    "print(\"ram\",\"shyam\",sep = \"/\")"
   ]
  },
  {
   "cell_type": "code",
   "execution_count": 29,
   "id": "e6abf6e4-2f31-4ee1-b03c-d311185fe44a",
   "metadata": {},
   "outputs": [
    {
     "name": "stdout",
     "output_type": "stream",
     "text": [
      "Monday=Tuesday=Wednesday=Thrusday=Friday=Satudary\n"
     ]
    }
   ],
   "source": [
    "print(\"Monday\",\"Tuesday\",\"Wednesday\",\"Thrusday\",\"Friday\",\"Satudary\",sep=\"=\")"
   ]
  },
  {
   "cell_type": "code",
   "execution_count": 30,
   "id": "89dfe232-f0d7-4fc2-b3f8-585fd3eb635a",
   "metadata": {},
   "outputs": [
    {
     "name": "stdout",
     "output_type": "stream",
     "text": [
      "Monday+Tuesday+Wednesday+Thrusday+Friday+Satudary\n"
     ]
    }
   ],
   "source": [
    "print(\"Monday\",\"Tuesday\",\"Wednesday\",\"Thrusday\",\"Friday\",\"Satudary\",sep=\"+\")"
   ]
  },
  {
   "cell_type": "code",
   "execution_count": 31,
   "id": "150bb310-754e-410b-9270-34b80d635c7f",
   "metadata": {},
   "outputs": [
    {
     "name": "stdout",
     "output_type": "stream",
     "text": [
      "Monday//Tuesday//Wednesday//Thrusday//Friday//Satudary\n"
     ]
    }
   ],
   "source": [
    "print(\"Monday\",\"Tuesday\",\"Wednesday\",\"Thrusday\",\"Friday\",\"Satudary\",sep=\"//\")"
   ]
  },
  {
   "cell_type": "code",
   "execution_count": 32,
   "id": "5b196ed1-8dcd-4b00-93ed-2efe11a7e3a3",
   "metadata": {},
   "outputs": [
    {
     "name": "stdout",
     "output_type": "stream",
     "text": [
      "Monday_Tuesday_Wednesday_Thrusday_Friday_Satudary\n"
     ]
    }
   ],
   "source": [
    "print(\"Monday\",\"Tuesday\",\"Wednesday\",\"Thrusday\",\"Friday\",\"Satudary\",sep=\"_\")"
   ]
  },
  {
   "cell_type": "code",
   "execution_count": 33,
   "id": "5df0e1dd-e084-4ce7-931e-8290c0e71a62",
   "metadata": {},
   "outputs": [
    {
     "name": "stdout",
     "output_type": "stream",
     "text": [
      "Hello\n",
      "world\n"
     ]
    }
   ],
   "source": [
    "print(\"Hello\")\n",
    "print(\"world\")\n",
    "\n"
   ]
  },
  {
   "cell_type": "code",
   "execution_count": 34,
   "id": "c7c25e90-49c3-473b-b39b-ef747fefd424",
   "metadata": {},
   "outputs": [
    {
     "name": "stdout",
     "output_type": "stream",
     "text": [
      "Hello world\n"
     ]
    }
   ],
   "source": [
    "print(\"Hello\",end= \" \")\n",
    "print(\"world\")\n"
   ]
  },
  {
   "cell_type": "code",
   "execution_count": null,
   "id": "427b49cd-916d-4189-bd32-66f2cf9919a2",
   "metadata": {},
   "outputs": [],
   "source": []
  }
 ],
 "metadata": {
  "kernelspec": {
   "display_name": "Python 3 (ipykernel)",
   "language": "python",
   "name": "python3"
  },
  "language_info": {
   "codemirror_mode": {
    "name": "ipython",
    "version": 3
   },
   "file_extension": ".py",
   "mimetype": "text/x-python",
   "name": "python",
   "nbconvert_exporter": "python",
   "pygments_lexer": "ipython3",
   "version": "3.12.7"
  }
 },
 "nbformat": 4,
 "nbformat_minor": 5
}

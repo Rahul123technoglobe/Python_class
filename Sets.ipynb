{
 "cells": [
  {
   "cell_type": "markdown",
   "id": "aa9546c7-096d-4589-ac04-b92e5493cead",
   "metadata": {},
   "source": [
    "                                                             Sets"
   ]
  },
  {
   "cell_type": "markdown",
   "id": "ed836c42-f586-4bd3-b037-b26b2c0e61ea",
   "metadata": {},
   "source": [
    "             1. Create"
   ]
  },
  {
   "cell_type": "code",
   "execution_count": 1,
   "id": "8d0fa497-129c-46bb-9865-be1ed1f36d48",
   "metadata": {},
   "outputs": [],
   "source": [
    "s1 = {}"
   ]
  },
  {
   "cell_type": "code",
   "execution_count": 2,
   "id": "1dc66209-6669-44ab-ae2a-3ea768b26e6d",
   "metadata": {},
   "outputs": [
    {
     "data": {
      "text/plain": [
       "{}"
      ]
     },
     "execution_count": 2,
     "metadata": {},
     "output_type": "execute_result"
    }
   ],
   "source": [
    "s1 "
   ]
  },
  {
   "cell_type": "code",
   "execution_count": 3,
   "id": "33ed5f0b-409b-494b-be70-37773e2f192e",
   "metadata": {},
   "outputs": [
    {
     "data": {
      "text/plain": [
       "dict"
      ]
     },
     "execution_count": 3,
     "metadata": {},
     "output_type": "execute_result"
    }
   ],
   "source": [
    "type(s1)"
   ]
  },
  {
   "cell_type": "code",
   "execution_count": 6,
   "id": "a3abc3dc-6b5e-4aaa-a1d1-016c0d0d595e",
   "metadata": {},
   "outputs": [
    {
     "data": {
      "text/plain": [
       "set"
      ]
     },
     "execution_count": 6,
     "metadata": {},
     "output_type": "execute_result"
    }
   ],
   "source": [
    "s1 = set()\n",
    "type(s1)"
   ]
  },
  {
   "cell_type": "code",
   "execution_count": 9,
   "id": "8f1cdfe3-3144-4625-a600-febd8f09b5ce",
   "metadata": {},
   "outputs": [
    {
     "data": {
      "text/plain": [
       "{1, 2, 3, 4, 5}"
      ]
     },
     "execution_count": 9,
     "metadata": {},
     "output_type": "execute_result"
    }
   ],
   "source": [
    "s1 = {1,2,3,4,5}#1d\n",
    "s1"
   ]
  },
  {
   "cell_type": "code",
   "execution_count": 61,
   "id": "57b865a4-6683-441d-aae6-97c805686d08",
   "metadata": {},
   "outputs": [
    {
     "data": {
      "text/plain": [
       "{(4, 5), 2, 3, 4}"
      ]
     },
     "execution_count": 61,
     "metadata": {},
     "output_type": "execute_result"
    }
   ],
   "source": [
    "s2 = {4,3,2,(4,5)}#2d\n",
    "s2"
   ]
  },
  {
   "cell_type": "code",
   "execution_count": 62,
   "id": "12dbc1d2-c303-4313-968b-6cbefb5458c1",
   "metadata": {},
   "outputs": [
    {
     "data": {
      "text/plain": [
       "{1, 2, 3, 4.5, 'hello'}"
      ]
     },
     "execution_count": 62,
     "metadata": {},
     "output_type": "execute_result"
    }
   ],
   "source": [
    "#homo and hetro\n",
    "s3 = {\"hello\",1,2,3,True,4.5}\n",
    "s3"
   ]
  },
  {
   "cell_type": "code",
   "execution_count": 63,
   "id": "153b74f4-dbd9-456d-ab30-d8b0e691eee7",
   "metadata": {},
   "outputs": [
    {
     "data": {
      "text/plain": [
       "[1, 2, 3, 4]"
      ]
     },
     "execution_count": 63,
     "metadata": {},
     "output_type": "execute_result"
    }
   ],
   "source": [
    "s4 = ([1,2,3,4])\n",
    "s4"
   ]
  },
  {
   "cell_type": "code",
   "execution_count": 64,
   "id": "99eec20c-c6ea-4644-8e14-fcd6ff81c177",
   "metadata": {},
   "outputs": [
    {
     "data": {
      "text/plain": [
       "list"
      ]
     },
     "execution_count": 64,
     "metadata": {},
     "output_type": "execute_result"
    }
   ],
   "source": [
    "type(s4)"
   ]
  },
  {
   "cell_type": "code",
   "execution_count": 65,
   "id": "8d7a8126-b425-490e-87c6-719afc1a4895",
   "metadata": {},
   "outputs": [
    {
     "data": {
      "text/plain": [
       "{1, 2, 3, 4}"
      ]
     },
     "execution_count": 65,
     "metadata": {},
     "output_type": "execute_result"
    }
   ],
   "source": [
    "s4 = set([1,2,3,4])\n",
    "s4"
   ]
  },
  {
   "cell_type": "code",
   "execution_count": 66,
   "id": "5561d1b3-b43f-4106-90ae-af6e75b4d761",
   "metadata": {},
   "outputs": [
    {
     "data": {
      "text/plain": [
       "set"
      ]
     },
     "execution_count": 66,
     "metadata": {},
     "output_type": "execute_result"
    }
   ],
   "source": [
    "type(s4)"
   ]
  },
  {
   "cell_type": "code",
   "execution_count": 67,
   "id": "d01cc1ee-d231-4669-a08a-d16b8837ccbd",
   "metadata": {},
   "outputs": [
    {
     "data": {
      "text/plain": [
       "{1, 2, 3}"
      ]
     },
     "execution_count": 67,
     "metadata": {},
     "output_type": "execute_result"
    }
   ],
   "source": [
    "# duplicates not allowed\n",
    "S3 = {1, 1, 2, 2, 3, 3}\n",
    "S3"
   ]
  },
  {
   "cell_type": "code",
   "execution_count": 68,
   "id": "2fe9baad-f820-4b88-9cc3-003780f06c34",
   "metadata": {},
   "outputs": [
    {
     "ename": "TypeError",
     "evalue": "unhashable type: 'list'",
     "output_type": "error",
     "traceback": [
      "\u001b[1;31m---------------------------------------------------------------------------\u001b[0m",
      "\u001b[1;31mTypeError\u001b[0m                                 Traceback (most recent call last)",
      "Cell \u001b[1;32mIn[68], line 1\u001b[0m\n\u001b[1;32m----> 1\u001b[0m S4 \u001b[38;5;241m=\u001b[39m {[\u001b[38;5;241m1\u001b[39m, \u001b[38;5;241m2\u001b[39m, \u001b[38;5;241m3\u001b[39m], \u001b[38;5;124m\"\u001b[39m\u001b[38;5;124mHello\u001b[39m\u001b[38;5;124m\"\u001b[39m}\n\u001b[0;32m      2\u001b[0m S4\n",
      "\u001b[1;31mTypeError\u001b[0m: unhashable type: 'list'"
     ]
    }
   ],
   "source": [
    "S4 = {[1, 2, 3], \"Hello\"}\n",
    "S4"
   ]
  },
  {
   "cell_type": "code",
   "execution_count": 69,
   "id": "5ddae983-1623-43d7-bda8-61f079963a32",
   "metadata": {},
   "outputs": [
    {
     "data": {
      "text/plain": [
       "{(1, 2, 3), 'helllo'}"
      ]
     },
     "execution_count": 69,
     "metadata": {},
     "output_type": "execute_result"
    }
   ],
   "source": [
    "# set can't have mutable items\n",
    "s6 = {(1,2,3),\"helllo\"}\n",
    "s6"
   ]
  },
  {
   "cell_type": "code",
   "execution_count": 24,
   "id": "22a46d3e-8d9f-423d-b89a-f902c9fa3c83",
   "metadata": {},
   "outputs": [
    {
     "ename": "TypeError",
     "evalue": "unhashable type: 'set'",
     "output_type": "error",
     "traceback": [
      "\u001b[1;31m---------------------------------------------------------------------------\u001b[0m",
      "\u001b[1;31mTypeError\u001b[0m                                 Traceback (most recent call last)",
      "Cell \u001b[1;32mIn[24], line 2\u001b[0m\n\u001b[0;32m      1\u001b[0m \u001b[38;5;66;03m#only one set is allowed , no multiple allowed\u001b[39;00m\n\u001b[1;32m----> 2\u001b[0m s9 \u001b[38;5;241m=\u001b[39m {{\u001b[38;5;241m1\u001b[39m},{\u001b[38;5;241m2\u001b[39m}}\n",
      "\u001b[1;31mTypeError\u001b[0m: unhashable type: 'set'"
     ]
    }
   ],
   "source": [
    "#only one set is allowed , no multiple allowed\n",
    "s9 = {{1},{2}}"
   ]
  },
  {
   "cell_type": "code",
   "execution_count": 25,
   "id": "b9fe9600-7a59-41c0-9a9d-04e289a4ae8f",
   "metadata": {},
   "outputs": [
    {
     "data": {
      "text/plain": [
       "True"
      ]
     },
     "execution_count": 25,
     "metadata": {},
     "output_type": "execute_result"
    }
   ],
   "source": [
    "s1 = {1,2,3}\n",
    "s2 = {3,2,1}\n",
    "s1==s2"
   ]
  },
  {
   "cell_type": "markdown",
   "id": "ecfae6fd-338b-4113-a2db-5f7f90cdebd1",
   "metadata": {},
   "source": [
    "                                                    2. Access"
   ]
  },
  {
   "cell_type": "code",
   "execution_count": 29,
   "id": "daf2e708-2161-480b-87f5-c765dbeab7d8",
   "metadata": {},
   "outputs": [
    {
     "data": {
      "text/plain": [
       "{1, 2, 3, 4, 5}"
      ]
     },
     "execution_count": 29,
     "metadata": {},
     "output_type": "execute_result"
    }
   ],
   "source": [
    "s1 = {1,2,3,4,5}\n",
    "s1"
   ]
  },
  {
   "cell_type": "code",
   "execution_count": 30,
   "id": "fb2c7af4-2889-4dc6-bfec-9a2c49ff2322",
   "metadata": {},
   "outputs": [
    {
     "data": {
      "text/plain": [
       "set"
      ]
     },
     "execution_count": 30,
     "metadata": {},
     "output_type": "execute_result"
    }
   ],
   "source": [
    "type(s1)"
   ]
  },
  {
   "cell_type": "code",
   "execution_count": 31,
   "id": "ed2b29be-1585-4e44-94d1-0a4b8f5ab543",
   "metadata": {},
   "outputs": [
    {
     "data": {
      "text/plain": [
       "{1, 2, 3, 4, 5}"
      ]
     },
     "execution_count": 31,
     "metadata": {},
     "output_type": "execute_result"
    }
   ],
   "source": [
    "s1"
   ]
  },
  {
   "cell_type": "code",
   "execution_count": 32,
   "id": "e0f4ec16-af88-41cd-a83b-e80dad3d796b",
   "metadata": {},
   "outputs": [
    {
     "ename": "NameError",
     "evalue": "name 'S1' is not defined",
     "output_type": "error",
     "traceback": [
      "\u001b[1;31m---------------------------------------------------------------------------\u001b[0m",
      "\u001b[1;31mNameError\u001b[0m                                 Traceback (most recent call last)",
      "Cell \u001b[1;32mIn[32], line 1\u001b[0m\n\u001b[1;32m----> 1\u001b[0m S1[\u001b[38;5;241m0\u001b[39m]\n",
      "\u001b[1;31mNameError\u001b[0m: name 'S1' is not defined"
     ]
    }
   ],
   "source": [
    "S1[0]"
   ]
  },
  {
   "cell_type": "code",
   "execution_count": 34,
   "id": "8abccd05-c147-46bf-8ede-d4c2f5298a34",
   "metadata": {},
   "outputs": [
    {
     "ename": "NameError",
     "evalue": "name 'S1' is not defined",
     "output_type": "error",
     "traceback": [
      "\u001b[1;31m---------------------------------------------------------------------------\u001b[0m",
      "\u001b[1;31mNameError\u001b[0m                                 Traceback (most recent call last)",
      "Cell \u001b[1;32mIn[34], line 1\u001b[0m\n\u001b[1;32m----> 1\u001b[0m S1[\u001b[38;5;241m-\u001b[39m\u001b[38;5;241m1\u001b[39m]\n",
      "\u001b[1;31mNameError\u001b[0m: name 'S1' is not defined"
     ]
    }
   ],
   "source": [
    "S1[-1]"
   ]
  },
  {
   "cell_type": "code",
   "execution_count": 35,
   "id": "bc29b830-02fd-4dad-a78a-cf54e30d48d1",
   "metadata": {},
   "outputs": [
    {
     "ename": "NameError",
     "evalue": "name 'S1' is not defined",
     "output_type": "error",
     "traceback": [
      "\u001b[1;31m---------------------------------------------------------------------------\u001b[0m",
      "\u001b[1;31mNameError\u001b[0m                                 Traceback (most recent call last)",
      "Cell \u001b[1;32mIn[35], line 1\u001b[0m\n\u001b[1;32m----> 1\u001b[0m S1[\u001b[38;5;241m0\u001b[39m:\u001b[38;5;241m3\u001b[39m]\n",
      "\u001b[1;31mNameError\u001b[0m: name 'S1' is not defined"
     ]
    }
   ],
   "source": [
    "S1[0:3]"
   ]
  },
  {
   "cell_type": "markdown",
   "id": "816fd5bf-4ba8-466c-8bb2-420c7733adf0",
   "metadata": {},
   "source": [
    "                                                    3. Edit"
   ]
  },
  {
   "cell_type": "code",
   "execution_count": 37,
   "id": "1b93a273-27a9-41ea-9e2f-c901582d47ce",
   "metadata": {},
   "outputs": [
    {
     "ename": "TypeError",
     "evalue": "'set' object does not support item assignment",
     "output_type": "error",
     "traceback": [
      "\u001b[1;31m---------------------------------------------------------------------------\u001b[0m",
      "\u001b[1;31mTypeError\u001b[0m                                 Traceback (most recent call last)",
      "Cell \u001b[1;32mIn[37], line 1\u001b[0m\n\u001b[1;32m----> 1\u001b[0m s1[\u001b[38;5;241m2\u001b[39m] \u001b[38;5;241m=\u001b[39m \u001b[38;5;241m100\u001b[39m\n",
      "\u001b[1;31mTypeError\u001b[0m: 'set' object does not support item assignment"
     ]
    }
   ],
   "source": [
    "s1[2] = 100 #we can't edit it as well"
   ]
  },
  {
   "cell_type": "code",
   "execution_count": 38,
   "id": "17daf146-8b7a-4180-a140-9855f3bb2060",
   "metadata": {},
   "outputs": [
    {
     "data": {
      "text/plain": [
       "{1, 2, 3, 4, 5}"
      ]
     },
     "execution_count": 38,
     "metadata": {},
     "output_type": "execute_result"
    }
   ],
   "source": [
    "s1"
   ]
  },
  {
   "cell_type": "code",
   "execution_count": 39,
   "id": "038b74ca-c591-43e4-ae2d-3871532d116d",
   "metadata": {},
   "outputs": [
    {
     "data": {
      "text/plain": [
       "1882773129248"
      ]
     },
     "execution_count": 39,
     "metadata": {},
     "output_type": "execute_result"
    }
   ],
   "source": [
    "id(s1)"
   ]
  },
  {
   "cell_type": "code",
   "execution_count": 42,
   "id": "9d7ece09-8ead-4284-b305-258f8fef4093",
   "metadata": {},
   "outputs": [
    {
     "data": {
      "text/plain": [
       "{1, 2, 3, 4, 5}"
      ]
     },
     "execution_count": 42,
     "metadata": {},
     "output_type": "execute_result"
    }
   ],
   "source": [
    "l  = list(s1)\n",
    "s1"
   ]
  },
  {
   "cell_type": "code",
   "execution_count": 49,
   "id": "e91f6c96-034e-404b-b3b4-66dc133a4990",
   "metadata": {},
   "outputs": [
    {
     "data": {
      "text/plain": [
       "1882773129248"
      ]
     },
     "execution_count": 49,
     "metadata": {},
     "output_type": "execute_result"
    }
   ],
   "source": [
    "id(s1)"
   ]
  },
  {
   "cell_type": "markdown",
   "id": "be3f6e30-432b-4a81-b102-b8d12e19397c",
   "metadata": {},
   "source": [
    "                                                        4. Add"
   ]
  },
  {
   "cell_type": "code",
   "execution_count": 50,
   "id": "7ee205ae-128f-434f-9514-c05c947b7f26",
   "metadata": {},
   "outputs": [
    {
     "data": {
      "text/plain": [
       "{1, 2, 3, 4, 5}"
      ]
     },
     "execution_count": 50,
     "metadata": {},
     "output_type": "execute_result"
    }
   ],
   "source": [
    "s1"
   ]
  },
  {
   "cell_type": "code",
   "execution_count": 2,
   "id": "8de45a64-3cfc-4113-a248-373e331ad96d",
   "metadata": {},
   "outputs": [],
   "source": [
    "s2 = {4,5,6,7,8,5,3,23}"
   ]
  },
  {
   "cell_type": "code",
   "execution_count": 3,
   "id": "f837d66f-db87-46b1-ba43-53927aebd69c",
   "metadata": {},
   "outputs": [
    {
     "data": {
      "text/plain": [
       "{3, 4, 5, 6, 7, 8, 23}"
      ]
     },
     "execution_count": 3,
     "metadata": {},
     "output_type": "execute_result"
    }
   ],
   "source": [
    "s2"
   ]
  },
  {
   "cell_type": "code",
   "execution_count": 59,
   "id": "43c9d5b5-016a-4407-89c3-5a1074b1506a",
   "metadata": {},
   "outputs": [],
   "source": [
    "del s2"
   ]
  },
  {
   "cell_type": "code",
   "execution_count": 60,
   "id": "fbfc0ac1-a377-4b72-b20d-ebf3bd151b1f",
   "metadata": {},
   "outputs": [
    {
     "ename": "NameError",
     "evalue": "name 's2' is not defined",
     "output_type": "error",
     "traceback": [
      "\u001b[1;31m---------------------------------------------------------------------------\u001b[0m",
      "\u001b[1;31mNameError\u001b[0m                                 Traceback (most recent call last)",
      "Cell \u001b[1;32mIn[60], line 1\u001b[0m\n\u001b[1;32m----> 1\u001b[0m s2\n",
      "\u001b[1;31mNameError\u001b[0m: name 's2' is not defined"
     ]
    }
   ],
   "source": [
    "s2"
   ]
  },
  {
   "cell_type": "code",
   "execution_count": 7,
   "id": "505238d7-29ab-4d09-8b81-fc42ba9c787a",
   "metadata": {},
   "outputs": [
    {
     "ename": "NameError",
     "evalue": "name 's1' is not defined",
     "output_type": "error",
     "traceback": [
      "\u001b[1;31m---------------------------------------------------------------------------\u001b[0m",
      "\u001b[1;31mNameError\u001b[0m                                 Traceback (most recent call last)",
      "Cell \u001b[1;32mIn[7], line 1\u001b[0m\n\u001b[1;32m----> 1\u001b[0m \u001b[38;5;28;01mdel\u001b[39;00m s1[\u001b[38;5;241m0\u001b[39m]\n",
      "\u001b[1;31mNameError\u001b[0m: name 's1' is not defined"
     ]
    }
   ],
   "source": [
    "del s1[0]"
   ]
  },
  {
   "cell_type": "code",
   "execution_count": 9,
   "id": "c2e62a51-e488-4018-936e-029c24805196",
   "metadata": {},
   "outputs": [],
   "source": [
    "s1 = {2,3,4,5,6,7,8}\n",
    "\n"
   ]
  },
  {
   "cell_type": "code",
   "execution_count": 10,
   "id": "7cce2a9a-596c-4e24-b0fa-54ebb9daa4d5",
   "metadata": {},
   "outputs": [
    {
     "data": {
      "text/plain": [
       "{2, 3, 4, 5, 6, 7, 8}"
      ]
     },
     "execution_count": 10,
     "metadata": {},
     "output_type": "execute_result"
    }
   ],
   "source": [
    "s1"
   ]
  },
  {
   "cell_type": "code",
   "execution_count": 23,
   "id": "abccf132-6ab8-463b-8c7b-aed868617cf0",
   "metadata": {},
   "outputs": [
    {
     "data": {
      "text/plain": [
       "3"
      ]
     },
     "execution_count": 23,
     "metadata": {},
     "output_type": "execute_result"
    }
   ],
   "source": [
    "s1.pop()\n"
   ]
  },
  {
   "cell_type": "markdown",
   "id": "71a02533-6273-4a74-afab-82249f887e61",
   "metadata": {},
   "source": [
    "                                                    5. Delete"
   ]
  },
  {
   "cell_type": "code",
   "execution_count": 26,
   "id": "7cb9afa8-ac4c-4ea4-8dbf-dff8111f6b0f",
   "metadata": {},
   "outputs": [],
   "source": [
    "s2 = {98,694,393,29}"
   ]
  },
  {
   "cell_type": "code",
   "execution_count": 27,
   "id": "c7a08bf6-74e4-4a63-bac5-e644c5d067c6",
   "metadata": {},
   "outputs": [
    {
     "data": {
      "text/plain": [
       "{29, 98, 393, 694}"
      ]
     },
     "execution_count": 27,
     "metadata": {},
     "output_type": "execute_result"
    }
   ],
   "source": [
    "s2"
   ]
  },
  {
   "cell_type": "code",
   "execution_count": 28,
   "id": "6c4ac270-920c-46f1-8141-30c46ee3035f",
   "metadata": {},
   "outputs": [
    {
     "ename": "NameError",
     "evalue": "name 'S2' is not defined",
     "output_type": "error",
     "traceback": [
      "\u001b[1;31m---------------------------------------------------------------------------\u001b[0m",
      "\u001b[1;31mNameError\u001b[0m                                 Traceback (most recent call last)",
      "Cell \u001b[1;32mIn[28], line 1\u001b[0m\n\u001b[1;32m----> 1\u001b[0m \u001b[38;5;28;01mdel\u001b[39;00m S2\n\u001b[0;32m      2\u001b[0m S2\n",
      "\u001b[1;31mNameError\u001b[0m: name 'S2' is not defined"
     ]
    }
   ],
   "source": [
    "del S2\n",
    "S2"
   ]
  },
  {
   "cell_type": "code",
   "execution_count": 29,
   "id": "72b25625-1285-4b49-9630-70f47054152e",
   "metadata": {},
   "outputs": [
    {
     "ename": "NameError",
     "evalue": "name 'S1' is not defined",
     "output_type": "error",
     "traceback": [
      "\u001b[1;31m---------------------------------------------------------------------------\u001b[0m",
      "\u001b[1;31mNameError\u001b[0m                                 Traceback (most recent call last)",
      "Cell \u001b[1;32mIn[29], line 1\u001b[0m\n\u001b[1;32m----> 1\u001b[0m S1\u001b[38;5;241m.\u001b[39mclear()\n\u001b[0;32m      2\u001b[0m S1\n",
      "\u001b[1;31mNameError\u001b[0m: name 'S1' is not defined"
     ]
    }
   ],
   "source": [
    "S1.clear()\n",
    "S1"
   ]
  },
  {
   "cell_type": "markdown",
   "id": "8d2b1712-2309-4c63-9570-93dca9c84d07",
   "metadata": {},
   "source": [
    "                                                    6. Operations"
   ]
  },
  {
   "cell_type": "code",
   "execution_count": 30,
   "id": "a7f902fc-2bfb-4a1e-a696-ca368cb5f5f8",
   "metadata": {},
   "outputs": [],
   "source": [
    "S1 = {1, 2, 3, 4, 5}\n",
    "S2 = {3, 4, 5, 6, 7}"
   ]
  },
  {
   "cell_type": "code",
   "execution_count": 31,
   "id": "a6b76211-7f13-47aa-bb60-25545755498a",
   "metadata": {},
   "outputs": [
    {
     "ename": "TypeError",
     "evalue": "unsupported operand type(s) for +: 'set' and 'set'",
     "output_type": "error",
     "traceback": [
      "\u001b[1;31m---------------------------------------------------------------------------\u001b[0m",
      "\u001b[1;31mTypeError\u001b[0m                                 Traceback (most recent call last)",
      "Cell \u001b[1;32mIn[31], line 1\u001b[0m\n\u001b[1;32m----> 1\u001b[0m s1 \u001b[38;5;241m+\u001b[39m s2\n",
      "\u001b[1;31mTypeError\u001b[0m: unsupported operand type(s) for +: 'set' and 'set'"
     ]
    }
   ],
   "source": [
    "s1 + s2"
   ]
  },
  {
   "cell_type": "code",
   "execution_count": 32,
   "id": "36608008-b689-4008-9f40-c16c01ffa61e",
   "metadata": {},
   "outputs": [
    {
     "ename": "TypeError",
     "evalue": "unsupported operand type(s) for *: 'set' and 'int'",
     "output_type": "error",
     "traceback": [
      "\u001b[1;31m---------------------------------------------------------------------------\u001b[0m",
      "\u001b[1;31mTypeError\u001b[0m                                 Traceback (most recent call last)",
      "Cell \u001b[1;32mIn[32], line 1\u001b[0m\n\u001b[1;32m----> 1\u001b[0m s1 \u001b[38;5;241m*\u001b[39m \u001b[38;5;241m4\u001b[39m\n",
      "\u001b[1;31mTypeError\u001b[0m: unsupported operand type(s) for *: 'set' and 'int'"
     ]
    }
   ],
   "source": [
    "s1 * 4"
   ]
  },
  {
   "cell_type": "code",
   "execution_count": 33,
   "id": "478c06d7-5b72-4e02-be78-7ef5e3825807",
   "metadata": {},
   "outputs": [
    {
     "name": "stdout",
     "output_type": "stream",
     "text": [
      "1\n",
      "2\n",
      "3\n",
      "4\n",
      "5\n"
     ]
    }
   ],
   "source": [
    "# Iteration\n",
    "for i in S1:\n",
    "    print(i)"
   ]
  },
  {
   "cell_type": "code",
   "execution_count": 34,
   "id": "03246ea0-3df0-4231-af19-21bc47e5541e",
   "metadata": {},
   "outputs": [
    {
     "data": {
      "text/plain": [
       "False"
      ]
     },
     "execution_count": 34,
     "metadata": {},
     "output_type": "execute_result"
    }
   ],
   "source": [
    "1 in s1"
   ]
  },
  {
   "cell_type": "code",
   "execution_count": 35,
   "id": "915a21ce-b6f8-4809-b97b-e22f6d9c8ad5",
   "metadata": {},
   "outputs": [],
   "source": [
    "S1 = {1, 2, 3, 4, 5}\n",
    "S2 = {3, 4, 5, 6, 7}"
   ]
  },
  {
   "cell_type": "code",
   "execution_count": 36,
   "id": "e3e40db4-8d05-4a3f-9ef0-6e55dfe5516b",
   "metadata": {},
   "outputs": [
    {
     "data": {
      "text/plain": [
       "{4, 5, 6, 8, 29, 98, 393, 694}"
      ]
     },
     "execution_count": 36,
     "metadata": {},
     "output_type": "execute_result"
    }
   ],
   "source": [
    "s1|s2"
   ]
  },
  {
   "cell_type": "code",
   "execution_count": 37,
   "id": "88e33730-7dc1-4b39-a6c6-bef51a03cd01",
   "metadata": {},
   "outputs": [
    {
     "data": {
      "text/plain": [
       "set()"
      ]
     },
     "execution_count": 37,
     "metadata": {},
     "output_type": "execute_result"
    }
   ],
   "source": [
    "s1 & s2"
   ]
  },
  {
   "cell_type": "code",
   "execution_count": 38,
   "id": "7bce458a-662f-4311-85e7-d9e81625b001",
   "metadata": {},
   "outputs": [
    {
     "data": {
      "text/plain": [
       "{29, 98, 393, 694}"
      ]
     },
     "execution_count": 38,
     "metadata": {},
     "output_type": "execute_result"
    }
   ],
   "source": [
    "# Difference(-)\n",
    "s1 - s2\n",
    "s2 - s1\n"
   ]
  },
  {
   "cell_type": "code",
   "execution_count": 39,
   "id": "339e0130-547e-4a24-b4c6-d090985753a1",
   "metadata": {},
   "outputs": [
    {
     "data": {
      "text/plain": [
       "{4, 5, 6, 8, 29, 98, 393, 694}"
      ]
     },
     "execution_count": 39,
     "metadata": {},
     "output_type": "execute_result"
    }
   ],
   "source": [
    "# Symmetric Difference(^)\n",
    "s1 ^ s2"
   ]
  },
  {
   "cell_type": "markdown",
   "id": "f12abe18-fe34-46d2-b8a5-9b888f451000",
   "metadata": {},
   "source": [
    "                                                        7. Functions"
   ]
  },
  {
   "cell_type": "code",
   "execution_count": 40,
   "id": "49533d7d-8e69-4738-8d53-b4ca5caf477d",
   "metadata": {},
   "outputs": [
    {
     "data": {
      "text/plain": [
       "{4, 5, 6, 8}"
      ]
     },
     "execution_count": 40,
     "metadata": {},
     "output_type": "execute_result"
    }
   ],
   "source": [
    "s1"
   ]
  },
  {
   "cell_type": "code",
   "execution_count": 42,
   "id": "16287f9b-4c64-423c-af6d-b8b4321d5736",
   "metadata": {},
   "outputs": [
    {
     "data": {
      "text/plain": [
       "4"
      ]
     },
     "execution_count": 42,
     "metadata": {},
     "output_type": "execute_result"
    }
   ],
   "source": [
    "len(s1)"
   ]
  },
  {
   "cell_type": "code",
   "execution_count": 43,
   "id": "2bfc6839-815a-47f5-9adb-84d3ddb0a9f8",
   "metadata": {},
   "outputs": [
    {
     "data": {
      "text/plain": [
       "4"
      ]
     },
     "execution_count": 43,
     "metadata": {},
     "output_type": "execute_result"
    }
   ],
   "source": [
    "min(s1)"
   ]
  },
  {
   "cell_type": "code",
   "execution_count": 44,
   "id": "e9a37751-1981-4677-a67e-ebf92d7cfcca",
   "metadata": {},
   "outputs": [
    {
     "data": {
      "text/plain": [
       "8"
      ]
     },
     "execution_count": 44,
     "metadata": {},
     "output_type": "execute_result"
    }
   ],
   "source": [
    "max(s1)"
   ]
  },
  {
   "cell_type": "code",
   "execution_count": 94,
   "id": "073ff82f-b96f-433a-8a99-07900cc22d55",
   "metadata": {},
   "outputs": [
    {
     "data": {
      "text/plain": [
       "[3, 4, 5]"
      ]
     },
     "execution_count": 94,
     "metadata": {},
     "output_type": "execute_result"
    }
   ],
   "source": [
    "sorted(s2)\n"
   ]
  },
  {
   "cell_type": "code",
   "execution_count": 46,
   "id": "aac6b159-afe8-4792-9f93-fdc1e9dee408",
   "metadata": {},
   "outputs": [
    {
     "data": {
      "text/plain": [
       "[8, 6, 5, 4]"
      ]
     },
     "execution_count": 46,
     "metadata": {},
     "output_type": "execute_result"
    }
   ],
   "source": [
    "sorted(s1 , reverse = True)"
   ]
  },
  {
   "cell_type": "code",
   "execution_count": 47,
   "id": "ceebe641-65cd-4403-bc98-784c6d82af58",
   "metadata": {},
   "outputs": [
    {
     "data": {
      "text/plain": [
       "{4, 5, 6, 8}"
      ]
     },
     "execution_count": 47,
     "metadata": {},
     "output_type": "execute_result"
    }
   ],
   "source": [
    "s1"
   ]
  },
  {
   "cell_type": "code",
   "execution_count": 48,
   "id": "fe4963aa-e086-4d4a-8ce4-65c565da9217",
   "metadata": {},
   "outputs": [
    {
     "data": {
      "text/plain": [
       "{29, 98, 393, 694}"
      ]
     },
     "execution_count": 48,
     "metadata": {},
     "output_type": "execute_result"
    }
   ],
   "source": [
    "s2"
   ]
  },
  {
   "cell_type": "code",
   "execution_count": 49,
   "id": "51731fdf-f2d1-4a71-a4ef-16cb6d65a5fb",
   "metadata": {},
   "outputs": [
    {
     "data": {
      "text/plain": [
       "{4, 5, 6, 8, 29, 98, 393, 694}"
      ]
     },
     "execution_count": 49,
     "metadata": {},
     "output_type": "execute_result"
    }
   ],
   "source": [
    "s1.union(s2)"
   ]
  },
  {
   "cell_type": "code",
   "execution_count": 51,
   "id": "0bf54dec-57ba-4d04-8cc7-027d449c21eb",
   "metadata": {},
   "outputs": [
    {
     "data": {
      "text/plain": [
       "set()"
      ]
     },
     "execution_count": 51,
     "metadata": {},
     "output_type": "execute_result"
    }
   ],
   "source": [
    "s1.intersection(s2)"
   ]
  },
  {
   "cell_type": "code",
   "execution_count": 52,
   "id": "97b4c4e7-88a8-4187-89e3-bab46285b13f",
   "metadata": {},
   "outputs": [
    {
     "data": {
      "text/plain": [
       "{1, 2, 3, 4, 5, 29, 98, 393, 694}"
      ]
     },
     "execution_count": 52,
     "metadata": {},
     "output_type": "execute_result"
    }
   ],
   "source": [
    "S1.symmetric_difference(s2)"
   ]
  },
  {
   "cell_type": "code",
   "execution_count": 53,
   "id": "31f143ea-70b4-4b8b-a895-7779bf6a2e48",
   "metadata": {},
   "outputs": [
    {
     "data": {
      "text/plain": [
       "False"
      ]
     },
     "execution_count": 53,
     "metadata": {},
     "output_type": "execute_result"
    }
   ],
   "source": [
    "s1.isdisjoint(S2)"
   ]
  },
  {
   "cell_type": "code",
   "execution_count": 80,
   "id": "f5b27da7-018e-41ef-ba87-b626bad69253",
   "metadata": {},
   "outputs": [
    {
     "data": {
      "text/plain": [
       "set()"
      ]
     },
     "execution_count": 80,
     "metadata": {},
     "output_type": "execute_result"
    }
   ],
   "source": [
    "S1.intersection(S2)"
   ]
  },
  {
   "cell_type": "code",
   "execution_count": 55,
   "id": "f106bd2c-4c8c-4451-b0f8-21f6820fb340",
   "metadata": {},
   "outputs": [
    {
     "data": {
      "text/plain": [
       "False"
      ]
     },
     "execution_count": 55,
     "metadata": {},
     "output_type": "execute_result"
    }
   ],
   "source": [
    "S1.issuperset(S2)"
   ]
  },
  {
   "cell_type": "code",
   "execution_count": 56,
   "id": "928134b3-e137-46e2-b62d-b02b8995b494",
   "metadata": {},
   "outputs": [
    {
     "data": {
      "text/plain": [
       "set()"
      ]
     },
     "execution_count": 56,
     "metadata": {},
     "output_type": "execute_result"
    }
   ],
   "source": [
    "S1.clear()\n",
    "S1"
   ]
  },
  {
   "cell_type": "code",
   "execution_count": 57,
   "id": "8dd2987d-7f60-4041-9ddd-0e67ad8f9684",
   "metadata": {},
   "outputs": [
    {
     "name": "stdout",
     "output_type": "stream",
     "text": [
      "{1, 3, 4}\n",
      "{1, 3, 4}\n"
     ]
    }
   ],
   "source": [
    "#copy\n",
    "s1 = {1,3,4}\n",
    "s2 = s1.copy()\n",
    "print(s1)\n",
    "print(s2)"
   ]
  },
  {
   "cell_type": "code",
   "execution_count": 58,
   "id": "135aedb4-dafd-4c5f-9dad-772ea71b9888",
   "metadata": {},
   "outputs": [],
   "source": [
    "#quiz"
   ]
  },
  {
   "cell_type": "code",
   "execution_count": 70,
   "id": "1745a81e-9569-4dd7-8484-29dfb576c713",
   "metadata": {},
   "outputs": [],
   "source": [
    "#1)a) {}"
   ]
  },
  {
   "cell_type": "code",
   "execution_count": 71,
   "id": "58fab5d1-0742-4027-809c-bb7682656ef2",
   "metadata": {},
   "outputs": [],
   "source": [
    "#2)b) Mutable"
   ]
  },
  {
   "cell_type": "code",
   "execution_count": 72,
   "id": "f66128cd-b435-492c-b000-33ccecde6ad8",
   "metadata": {},
   "outputs": [],
   "source": [
    "#3)a) s = {}"
   ]
  },
  {
   "cell_type": "code",
   "execution_count": 73,
   "id": "4dbb1191-876b-42c7-95ad-3342312b33de",
   "metadata": {},
   "outputs": [],
   "source": [
    "#4)b) Duplicate values are removed"
   ]
  },
  {
   "cell_type": "code",
   "execution_count": 74,
   "id": "a50bd05b-f09b-4512-afe3-c5f38820279e",
   "metadata": {},
   "outputs": [],
   "source": [
    "#5)b) add()"
   ]
  },
  {
   "cell_type": "code",
   "execution_count": 75,
   "id": "5b1ff957-95ac-4ccd-821b-d4875573acf9",
   "metadata": {},
   "outputs": [],
   "source": [
    "#6)d) Both remove() and discard()"
   ]
  },
  {
   "cell_type": "code",
   "execution_count": 77,
   "id": "3fc1d262-4fd3-4aec-9661-a1b852764342",
   "metadata": {},
   "outputs": [],
   "source": [
    "#7)a) {1, 2, 3, 4}"
   ]
  },
  {
   "cell_type": "code",
   "execution_count": 78,
   "id": "7a6ec9e1-bb68-4acb-ab6b-bb9dd62c5550",
   "metadata": {},
   "outputs": [],
   "source": [
    "#8)b) set()"
   ]
  },
  {
   "cell_type": "code",
   "execution_count": 79,
   "id": "feffd62a-24e0-45af-98f1-05627137ba08",
   "metadata": {},
   "outputs": [],
   "source": [
    "#9)a) union()"
   ]
  },
  {
   "cell_type": "code",
   "execution_count": 81,
   "id": "d56d5f67-9873-413c-a4e9-3f7fe4bdfb54",
   "metadata": {},
   "outputs": [],
   "source": [
    "#10)c) difference()"
   ]
  },
  {
   "cell_type": "code",
   "execution_count": 82,
   "id": "a87666e0-68da-46df-b690-546a67d84ae5",
   "metadata": {},
   "outputs": [],
   "source": [
    "#11)b) Union of s1 and s2"
   ]
  },
  {
   "cell_type": "code",
   "execution_count": 83,
   "id": "54c0cf31-93c1-4a00-ae1f-b3c32623f38f",
   "metadata": {},
   "outputs": [],
   "source": [
    "#12)a) remove() removes an element and raises an error if the element is not found, whereas discard() does not raise an error."
   ]
  },
  {
   "cell_type": "code",
   "execution_count": 84,
   "id": "565516ca-d4a0-4882-a14a-e319c15fbd63",
   "metadata": {},
   "outputs": [],
   "source": [
    "#13)c) Removes a random element"
   ]
  },
  {
   "cell_type": "code",
   "execution_count": 86,
   "id": "8c6d597f-e29e-4b08-a0d4-f5d4939fd446",
   "metadata": {},
   "outputs": [],
   "source": [
    "#14)b) {2, 3}"
   ]
  },
  {
   "cell_type": "code",
   "execution_count": 88,
   "id": "346d4d11-3aba-428d-867a-2ebe21a4dc6f",
   "metadata": {},
   "outputs": [],
   "source": [
    "#15)a) |"
   ]
  },
  {
   "cell_type": "code",
   "execution_count": null,
   "id": "a5a08eb5-b009-41a4-bb9e-48864771eddd",
   "metadata": {},
   "outputs": [],
   "source": [
    "#16)"
   ]
  },
  {
   "cell_type": "code",
   "execution_count": 89,
   "id": "97c155f4-ee6f-48e2-91d5-a9fef82b6822",
   "metadata": {},
   "outputs": [],
   "source": [
    "#17)a) {1, 2, 4, 5}"
   ]
  },
  {
   "cell_type": "code",
   "execution_count": 90,
   "id": "fee77ed0-d7fc-4826-b7b6-0c49a7147a2d",
   "metadata": {},
   "outputs": [],
   "source": [
    "#18)c) s1 + s2"
   ]
  },
  {
   "cell_type": "code",
   "execution_count": 92,
   "id": "8bf9cbad-4407-41f2-8897-53069e43ac24",
   "metadata": {},
   "outputs": [],
   "source": [
    "#19b) {'h', 'e', 'l', 'o'}"
   ]
  },
  {
   "cell_type": "code",
   "execution_count": null,
   "id": "53965bf2-9225-486e-9b4a-aaec7a28f94c",
   "metadata": {},
   "outputs": [],
   "source": [
    "#20)"
   ]
  },
  {
   "cell_type": "code",
   "execution_count": null,
   "id": "17dd618e-fcf6-451f-ae2b-95faca49836f",
   "metadata": {},
   "outputs": [],
   "source": []
  }
 ],
 "metadata": {
  "kernelspec": {
   "display_name": "Python 3 (ipykernel)",
   "language": "python",
   "name": "python3"
  },
  "language_info": {
   "codemirror_mode": {
    "name": "ipython",
    "version": 3
   },
   "file_extension": ".py",
   "mimetype": "text/x-python",
   "name": "python",
   "nbconvert_exporter": "python",
   "pygments_lexer": "ipython3",
   "version": "3.12.7"
  }
 },
 "nbformat": 4,
 "nbformat_minor": 5
}

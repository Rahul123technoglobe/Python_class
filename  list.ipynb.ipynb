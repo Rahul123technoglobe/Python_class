{
 "cells": [
  {
   "cell_type": "markdown",
   "id": "e70f30e5-c908-430d-be25-bf5cc1d9c408",
   "metadata": {},
   "source": [
    "LIST"
   ]
  },
  {
   "cell_type": "markdown",
   "id": "4f25a10f-a025-4cf8-80c6-22321e61336b",
   "metadata": {},
   "source": [
    "Collection in Python for sequences of diverse data types.\n",
    "\n",
    "List vs Array\n",
    "\n",
    "Array: Homogeneous; Contiguous memory; Fast; Numerical/Scientific use.\n",
    "\n",
    "List: Heterogeneous; Non-contiguous memory; Programmer-friendly; General-purpose.\n",
    "\n",
    "1)Create\n",
    "\n",
    "2)Access\n",
    "\n",
    "3)Edit\n",
    "\n",
    "4)Add\n",
    "\n",
    "5)Delete\n",
    "\n",
    "6)Operations\n",
    "\n",
    "7)Functions"
   ]
  },
  {
   "cell_type": "markdown",
   "id": "232b5387-62c9-4ede-8d1d-9d057ca6528f",
   "metadata": {},
   "source": [
    "                                                         1)Create:"
   ]
  },
  {
   "cell_type": "code",
   "execution_count": 1,
   "id": "1f460031-936c-43cb-b2b6-cfc6dd4ef5a8",
   "metadata": {},
   "outputs": [
    {
     "data": {
      "text/plain": [
       "[]"
      ]
     },
     "execution_count": 1,
     "metadata": {},
     "output_type": "execute_result"
    }
   ],
   "source": [
    "#empty\n",
    "L=[]\n",
    "L"
   ]
  },
  {
   "cell_type": "code",
   "execution_count": 2,
   "id": "05473e1d-4a6a-4e8e-8a97-9ebc0e680516",
   "metadata": {},
   "outputs": [
    {
     "data": {
      "text/plain": [
       "[1, 2, 3, 4, 5]"
      ]
     },
     "execution_count": 2,
     "metadata": {},
     "output_type": "execute_result"
    }
   ],
   "source": [
    "#1D ---> Hmomo\n",
    "L1 = [1,2,3,4,5]\n",
    "L1"
   ]
  },
  {
   "cell_type": "code",
   "execution_count": 4,
   "id": "18b85802-537b-48f7-8bb1-18cd99fbe8fa",
   "metadata": {},
   "outputs": [
    {
     "data": {
      "text/plain": [
       "['HELLO', 4, 5, 6, True, (5+6j)]"
      ]
     },
     "execution_count": 4,
     "metadata": {},
     "output_type": "execute_result"
    }
   ],
   "source": [
    "# Hetrogenous\n",
    "L2 = [\"HELLO\",4,5,6,True,5+6J]\n",
    "L2"
   ]
  },
  {
   "cell_type": "code",
   "execution_count": 5,
   "id": "808975bf-c02f-4438-88a6-b87227925d5f",
   "metadata": {},
   "outputs": [
    {
     "data": {
      "text/plain": [
       "[1, 2, 3, [4, 5]]"
      ]
     },
     "execution_count": 5,
     "metadata": {},
     "output_type": "execute_result"
    }
   ],
   "source": [
    "# Multidimentional list:\n",
    "# 2D\n",
    "L3 = [1,2,3,[4,5]]\n",
    "L3"
   ]
  },
  {
   "cell_type": "code",
   "execution_count": 9,
   "id": "196fb511-eee9-48e3-8665-e3a8bbf5f842",
   "metadata": {},
   "outputs": [
    {
     "data": {
      "text/plain": [
       "[[[2, 4], [3, 5]], [[6, 7], [8, 9]]]"
      ]
     },
     "execution_count": 9,
     "metadata": {},
     "output_type": "execute_result"
    }
   ],
   "source": [
    "#3D\n",
    "L4 = [[[2,4],[3,5]],[[6,7],[8,9]]]\n",
    "L4"
   ]
  },
  {
   "cell_type": "code",
   "execution_count": 10,
   "id": "cd7126b8-f9b9-41e0-a93f-7580ea910a78",
   "metadata": {},
   "outputs": [
    {
     "data": {
      "text/plain": [
       "['J', 'A', 'T', 'I', 'N']"
      ]
     },
     "execution_count": 10,
     "metadata": {},
     "output_type": "execute_result"
    }
   ],
   "source": [
    "# Using Type Conversion\n",
    "L5 = list(\"JATIN\")\n",
    "L5"
   ]
  },
  {
   "cell_type": "code",
   "execution_count": 11,
   "id": "4c2e2563-18ba-4e17-b290-9f02973ed223",
   "metadata": {},
   "outputs": [
    {
     "data": {
      "text/plain": [
       "[]"
      ]
     },
     "execution_count": 11,
     "metadata": {},
     "output_type": "execute_result"
    }
   ],
   "source": [
    "L6 = list()\n",
    "L6"
   ]
  },
  {
   "cell_type": "markdown",
   "id": "1a074f93-f804-4d83-978a-745aaae16ec7",
   "metadata": {},
   "source": [
    "                                                      2. Access:"
   ]
  },
  {
   "cell_type": "code",
   "execution_count": 12,
   "id": "bc4175b2-b737-473f-ab2c-2912ba00e029",
   "metadata": {},
   "outputs": [
    {
     "data": {
      "text/plain": [
       "[1, 2, 3, 4, 5]"
      ]
     },
     "execution_count": 12,
     "metadata": {},
     "output_type": "execute_result"
    }
   ],
   "source": [
    "L1"
   ]
  },
  {
   "cell_type": "code",
   "execution_count": 13,
   "id": "3b67fc9e-5cb0-4c21-b822-5060a5945059",
   "metadata": {},
   "outputs": [
    {
     "data": {
      "text/plain": [
       "1"
      ]
     },
     "execution_count": 13,
     "metadata": {},
     "output_type": "execute_result"
    }
   ],
   "source": [
    "L1[0]"
   ]
  },
  {
   "cell_type": "code",
   "execution_count": 14,
   "id": "42b8982c-70c6-4a0b-8653-01cb4d3b6972",
   "metadata": {},
   "outputs": [
    {
     "data": {
      "text/plain": [
       "5"
      ]
     },
     "execution_count": 14,
     "metadata": {},
     "output_type": "execute_result"
    }
   ],
   "source": [
    "L1[-1]"
   ]
  },
  {
   "cell_type": "code",
   "execution_count": 15,
   "id": "cc6c5194-2065-4092-b551-2ec585c1d666",
   "metadata": {},
   "outputs": [
    {
     "data": {
      "text/plain": [
       "[2, 3]"
      ]
     },
     "execution_count": 15,
     "metadata": {},
     "output_type": "execute_result"
    }
   ],
   "source": [
    "\n",
    "# Slicing\n",
    "L1[1:3]"
   ]
  },
  {
   "cell_type": "code",
   "execution_count": 16,
   "id": "e95da5fa-fe05-4ace-a328-cf49f6f90758",
   "metadata": {},
   "outputs": [
    {
     "data": {
      "text/plain": [
       "[5, 4, 3, 2, 1]"
      ]
     },
     "execution_count": 16,
     "metadata": {},
     "output_type": "execute_result"
    }
   ],
   "source": [
    "L1[::-1]"
   ]
  },
  {
   "cell_type": "code",
   "execution_count": 24,
   "id": "c642c799-0473-42be-808c-57145d3757b2",
   "metadata": {},
   "outputs": [
    {
     "data": {
      "text/plain": [
       "[5, 3, 1]"
      ]
     },
     "execution_count": 24,
     "metadata": {},
     "output_type": "execute_result"
    }
   ],
   "source": [
    "L1[::-2]"
   ]
  },
  {
   "cell_type": "code",
   "execution_count": 25,
   "id": "54d74f5a-3f23-49b2-90c9-964646d29589",
   "metadata": {},
   "outputs": [
    {
     "data": {
      "text/plain": [
       "-1"
      ]
     },
     "execution_count": 25,
     "metadata": {},
     "output_type": "execute_result"
    }
   ],
   "source": [
    "L3[0]"
   ]
  },
  {
   "cell_type": "code",
   "execution_count": 34,
   "id": "cd756409-62a1-4aee-ad0a-21d52cd7fe4c",
   "metadata": {},
   "outputs": [],
   "source": [
    "L3=[-1]"
   ]
  },
  {
   "cell_type": "code",
   "execution_count": 38,
   "id": "48e68846-4fb3-492d-93a6-ec16f404910a",
   "metadata": {},
   "outputs": [
    {
     "data": {
      "text/plain": [
       "-1"
      ]
     },
     "execution_count": 38,
     "metadata": {},
     "output_type": "execute_result"
    }
   ],
   "source": [
    "x = L3[-1]\n",
    "x"
   ]
  },
  {
   "cell_type": "code",
   "execution_count": 39,
   "id": "b7e8e8e4-f001-42d3-b8fe-c75a345ab3b8",
   "metadata": {},
   "outputs": [
    {
     "ename": "TypeError",
     "evalue": "'int' object is not subscriptable",
     "output_type": "error",
     "traceback": [
      "\u001b[1;31m---------------------------------------------------------------------------\u001b[0m",
      "\u001b[1;31mTypeError\u001b[0m                                 Traceback (most recent call last)",
      "Cell \u001b[1;32mIn[39], line 1\u001b[0m\n\u001b[1;32m----> 1\u001b[0m x[\u001b[38;5;241m0\u001b[39m]\n",
      "\u001b[1;31mTypeError\u001b[0m: 'int' object is not subscriptable"
     ]
    }
   ],
   "source": [
    "x[0]"
   ]
  },
  {
   "cell_type": "code",
   "execution_count": 40,
   "id": "b07161be-ea02-4fb0-8dad-5596051a9af1",
   "metadata": {},
   "outputs": [
    {
     "data": {
      "text/plain": [
       "[[[2, 4], [3, 5]], [[6, 7], [8, 9]]]"
      ]
     },
     "execution_count": 40,
     "metadata": {},
     "output_type": "execute_result"
    }
   ],
   "source": [
    "L4"
   ]
  },
  {
   "cell_type": "code",
   "execution_count": 41,
   "id": "4c2daee8-7b4f-4dd5-b09e-f26d289cdc82",
   "metadata": {},
   "outputs": [
    {
     "data": {
      "text/plain": [
       "8"
      ]
     },
     "execution_count": 41,
     "metadata": {},
     "output_type": "execute_result"
    }
   ],
   "source": [
    "L4[-1][-1][0]"
   ]
  },
  {
   "cell_type": "code",
   "execution_count": 43,
   "id": "0344c7fa-e8ed-4302-a1b3-fc6243e3854c",
   "metadata": {},
   "outputs": [
    {
     "data": {
      "text/plain": [
       "5"
      ]
     },
     "execution_count": 43,
     "metadata": {},
     "output_type": "execute_result"
    }
   ],
   "source": [
    "L4[0][1][1]"
   ]
  },
  {
   "cell_type": "markdown",
   "id": "f5df764d-e1b5-4ae4-82f0-1fcbaaee356d",
   "metadata": {},
   "source": [
    "                                                 3. Edit"
   ]
  },
  {
   "cell_type": "code",
   "execution_count": 44,
   "id": "2eef4ee4-e605-4b53-96df-560b69d03ea1",
   "metadata": {},
   "outputs": [
    {
     "data": {
      "text/plain": [
       "[1, 2, 3, 4, 5]"
      ]
     },
     "execution_count": 44,
     "metadata": {},
     "output_type": "execute_result"
    }
   ],
   "source": [
    "L1"
   ]
  },
  {
   "cell_type": "code",
   "execution_count": 45,
   "id": "252d2575-4c08-41d1-86f7-3fa385d3ee29",
   "metadata": {},
   "outputs": [],
   "source": [
    "# Editing With Indexing\n",
    "L1[0] = [100]"
   ]
  },
  {
   "cell_type": "code",
   "execution_count": 46,
   "id": "7a7e9349-e35b-4ef7-8914-d57aa684e061",
   "metadata": {},
   "outputs": [
    {
     "data": {
      "text/plain": [
       "[[100], 2, 3, 4, 5]"
      ]
     },
     "execution_count": 46,
     "metadata": {},
     "output_type": "execute_result"
    }
   ],
   "source": [
    "L1"
   ]
  },
  {
   "cell_type": "code",
   "execution_count": 48,
   "id": "ebfb8a56-9599-4d2f-883c-70e967f0727b",
   "metadata": {},
   "outputs": [
    {
     "data": {
      "text/plain": [
       "[[100], 2, ['HELLO'], 4, 5]"
      ]
     },
     "execution_count": 48,
     "metadata": {},
     "output_type": "execute_result"
    }
   ],
   "source": [
    "L1[2] = [\"HELLO\"]\n",
    "L1"
   ]
  },
  {
   "cell_type": "code",
   "execution_count": 49,
   "id": "520d19a2-dcd4-4c1f-8586-e4e9e0139550",
   "metadata": {},
   "outputs": [],
   "source": [
    "\n",
    "# List in Python are Mutable\n"
   ]
  },
  {
   "cell_type": "code",
   "execution_count": 51,
   "id": "a365190e-fb05-4b4b-96cb-88bd744e86e3",
   "metadata": {},
   "outputs": [
    {
     "data": {
      "text/plain": [
       "[[100], 2, ['HELLO'], 4, [(1+45j)]]"
      ]
     },
     "execution_count": 51,
     "metadata": {},
     "output_type": "execute_result"
    }
   ],
   "source": [
    "L1[-1] = [1+45J]\n",
    "L1"
   ]
  },
  {
   "cell_type": "code",
   "execution_count": 52,
   "id": "e2858b0b-f718-46d1-bda0-33605f0a0c83",
   "metadata": {},
   "outputs": [
    {
     "data": {
      "text/plain": [
       "[[100], 2, 200, 300, 400, [(1+45j)]]"
      ]
     },
     "execution_count": 52,
     "metadata": {},
     "output_type": "execute_result"
    }
   ],
   "source": [
    "# Editing With Slicing\n",
    "L1[2:4] = [200,300,400]\n",
    "L1\n"
   ]
  },
  {
   "cell_type": "markdown",
   "id": "80b101ed-226f-4ec6-ad82-634d0848be99",
   "metadata": {},
   "source": [
    "        4. Add\n",
    "        append()\n",
    "        extend()\n",
    "        insert()"
   ]
  },
  {
   "cell_type": "code",
   "execution_count": 53,
   "id": "a5a53700-7094-41fe-8749-a4955fa71dc1",
   "metadata": {},
   "outputs": [
    {
     "data": {
      "text/plain": [
       "[[100], 2, 200, 300, 400, [(1+45j)]]"
      ]
     },
     "execution_count": 53,
     "metadata": {},
     "output_type": "execute_result"
    }
   ],
   "source": [
    "L1"
   ]
  },
  {
   "cell_type": "code",
   "execution_count": 83,
   "id": "342912d6-3988-4782-af3b-cc7fd261b4e3",
   "metadata": {},
   "outputs": [
    {
     "name": "stdout",
     "output_type": "stream",
     "text": [
      "[300, 400, [(1+45j)], 1000, 5004, [555, 675], [555, 675], [55, 67], [5, 7], 'G', 'O', 'A', 'G', 'O', 'A', {5, 7}, 40, 40, 40, 'G', 40, 5004, 1000, 'G', 'O', 'A', 40, 5004, 1000]\n"
     ]
    }
   ],
   "source": [
    "L1.append(1000)\n",
    "print(L1)"
   ]
  },
  {
   "cell_type": "code",
   "execution_count": 82,
   "id": "abf53713-88a3-434f-aaeb-46d29d1c4660",
   "metadata": {},
   "outputs": [
    {
     "name": "stdout",
     "output_type": "stream",
     "text": [
      "[300, 400, [(1+45j)], 1000, 5004, [555, 675], [555, 675], [55, 67], [5, 7], 'G', 'O', 'A', 'G', 'O', 'A', {5, 7}, 40, 40, 40, 'G', 40, 5004, 1000, 'G', 'O', 'A', 40, 5004]\n"
     ]
    }
   ],
   "source": [
    "L1.append(5004)\n",
    "print(L1)"
   ]
  },
  {
   "cell_type": "code",
   "execution_count": 81,
   "id": "360f79c5-bed3-4975-98a4-418808b0674a",
   "metadata": {},
   "outputs": [
    {
     "name": "stdout",
     "output_type": "stream",
     "text": [
      "[300, 400, [(1+45j)], 1000, 5004, [555, 675], [555, 675], [55, 67], [5, 7], 'G', 'O', 'A', 'G', 'O', 'A', {5, 7}, 40, 40, 40, 'G', 40, 5004, 1000, 'G', 'O', 'A', 40]\n"
     ]
    }
   ],
   "source": [
    "L1.append(40)\n",
    "print(L1)"
   ]
  },
  {
   "cell_type": "code",
   "execution_count": 80,
   "id": "cd03b593-f971-4b88-a822-adf351e2d004",
   "metadata": {},
   "outputs": [
    {
     "name": "stdout",
     "output_type": "stream",
     "text": [
      "[300, 400, [(1+45j)], 1000, 5004, [555, 675], [555, 675], [55, 67], [5, 7], 'G', 'O', 'A', 'G', 'O', 'A', {5, 7}, 40, 40, 40, 'G', 40, 5004, 1000, 'G', 'O', 'A']\n"
     ]
    }
   ],
   "source": [
    "L1.extend('GOA')\n",
    "print(L1)"
   ]
  },
  {
   "cell_type": "markdown",
   "id": "0d4c91ba-32d6-449e-95cd-03a20296b16f",
   "metadata": {},
   "source": [
    "                                       5. Delete\n",
    "                                .del\n",
    "                               .remove()\n",
    "                               .pop()\n",
    "                               .clear()"
   ]
  },
  {
   "cell_type": "code",
   "execution_count": 64,
   "id": "290b487f-8369-4aa9-a09a-a8a305801ef6",
   "metadata": {},
   "outputs": [
    {
     "data": {
      "text/plain": [
       "['HELLO', 4, 5, 6, True, (5+6j)]"
      ]
     },
     "execution_count": 64,
     "metadata": {},
     "output_type": "execute_result"
    }
   ],
   "source": [
    "L2"
   ]
  },
  {
   "cell_type": "code",
   "execution_count": 79,
   "id": "71368bb1-aaa5-4031-8c28-79b995c9b877",
   "metadata": {},
   "outputs": [
    {
     "name": "stdout",
     "output_type": "stream",
     "text": [
      "[300, 400, [(1+45j)], 1000, 5004, [555, 675], [555, 675], [55, 67], [5, 7], 'G', 'O', 'A', 'G', 'O', 'A', {5, 7}, 40, 40, 40, 'G', 40, 5004, 1000]\n"
     ]
    }
   ],
   "source": [
    "del L1[0]\n",
    "print(L1)"
   ]
  },
  {
   "cell_type": "code",
   "execution_count": 76,
   "id": "9576e842-287f-4f82-9b9b-0afdd562ace7",
   "metadata": {},
   "outputs": [],
   "source": [
    "del L1[-4]\n"
   ]
  },
  {
   "cell_type": "code",
   "execution_count": 78,
   "id": "4d885934-4f46-48a7-a2c9-bc334c31dfb6",
   "metadata": {},
   "outputs": [
    {
     "name": "stdout",
     "output_type": "stream",
     "text": [
      "[200, 300, 400, [(1+45j)], 1000, 5004, [555, 675], [555, 675], [55, 67], [5, 7], 'G', 'O', 'A', 'G', 'O', 'A', {5, 7}, 40, 40, 40, 'G', 40, 5004, 1000]\n"
     ]
    }
   ],
   "source": [
    "print(L1)"
   ]
  },
  {
   "cell_type": "code",
   "execution_count": 89,
   "id": "c47a63e3-74a6-42aa-bf8b-6fdf2a1a8ba9",
   "metadata": {},
   "outputs": [
    {
     "name": "stdout",
     "output_type": "stream",
     "text": [
      "[300, 400, [(1+45j)], 1000, 5004, [555, 675], [555, 675], [55, 67], [5, 7], 'G', 'O', 'A', 'G', 'O', 'A', {5, 7}, 40, 40, 40, 'G', 40, 5004, 1000]\n"
     ]
    }
   ],
   "source": [
    "del L1[-3:]\n",
    "print(L1)"
   ]
  },
  {
   "cell_type": "code",
   "execution_count": 90,
   "id": "de00d5e1-6f58-4c4e-9d02-67ec7263ab17",
   "metadata": {},
   "outputs": [
    {
     "data": {
      "text/plain": [
       "['HELLO', 4, 5, 6, True, (5+6j)]"
      ]
     },
     "execution_count": 90,
     "metadata": {},
     "output_type": "execute_result"
    }
   ],
   "source": [
    "#remove()\n",
    "L2"
   ]
  },
  {
   "cell_type": "code",
   "execution_count": 2,
   "id": "628c8de6-b129-4ec0-bd19-0abc7ad32584",
   "metadata": {},
   "outputs": [
    {
     "ename": "NameError",
     "evalue": "name 'L2' is not defined",
     "output_type": "error",
     "traceback": [
      "\u001b[1;31m---------------------------------------------------------------------------\u001b[0m",
      "\u001b[1;31mNameError\u001b[0m                                 Traceback (most recent call last)",
      "Cell \u001b[1;32mIn[2], line 1\u001b[0m\n\u001b[1;32m----> 1\u001b[0m L2\u001b[38;5;241m.\u001b[39mremove(\u001b[38;5;124m\"\u001b[39m\u001b[38;5;124mHELLO\u001b[39m\u001b[38;5;124m\"\u001b[39m)\n\u001b[0;32m      2\u001b[0m L2\n",
      "\u001b[1;31mNameError\u001b[0m: name 'L2' is not defined"
     ]
    }
   ],
   "source": [
    "L2.remove(\"HELLO\")\n",
    "L2"
   ]
  },
  {
   "cell_type": "markdown",
   "id": "b51c8781-f67e-4abe-ad52-b601af1124b5",
   "metadata": {},
   "source": [
    "                                    6. Operations\n",
    "                                      > Arithmetic\n",
    "                                       > Membership\n",
    "                                        > Loop"
   ]
  },
  {
   "cell_type": "code",
   "execution_count": 3,
   "id": "aa64f4cb-cf42-457f-8564-47face0adbbb",
   "metadata": {},
   "outputs": [],
   "source": [
    "L = [1,2,3,4,5,6]\n",
    "L1 = [8,7,6,5,4]"
   ]
  },
  {
   "cell_type": "code",
   "execution_count": 5,
   "id": "7f42a317-5485-4c6b-bf4d-d206681fc820",
   "metadata": {},
   "outputs": [
    {
     "data": {
      "text/plain": [
       "[1, 2, 3, 4, 5, 6, 8, 7, 6, 5, 4]"
      ]
     },
     "execution_count": 5,
     "metadata": {},
     "output_type": "execute_result"
    }
   ],
   "source": [
    "# Concatenation/Merge\n",
    "L+L1"
   ]
  },
  {
   "cell_type": "code",
   "execution_count": 6,
   "id": "948bdeca-4279-42f9-84ee-7b7a41c1970c",
   "metadata": {},
   "outputs": [
    {
     "data": {
      "text/plain": [
       "[1, 2, 3, 4, 5, 6]"
      ]
     },
     "execution_count": 6,
     "metadata": {},
     "output_type": "execute_result"
    }
   ],
   "source": [
    "L"
   ]
  },
  {
   "cell_type": "code",
   "execution_count": 8,
   "id": "60540083-f9e3-4483-81af-ed5e0bfb3fbb",
   "metadata": {},
   "outputs": [
    {
     "data": {
      "text/plain": [
       "[8, 7, 6, 5, 4]"
      ]
     },
     "execution_count": 8,
     "metadata": {},
     "output_type": "execute_result"
    }
   ],
   "source": [
    "L1"
   ]
  },
  {
   "cell_type": "code",
   "execution_count": 10,
   "id": "738af54a-5707-41ae-a614-e6c5b9f0f9e7",
   "metadata": {},
   "outputs": [
    {
     "name": "stdout",
     "output_type": "stream",
     "text": [
      "[1, 2, 3, 4, 5, 6, 1, 2, 3, 4, 5, 6, 1, 2, 3, 4, 5, 6, 1, 2, 3, 4, 5, 6, 1, 2, 3, 4, 5, 6, 1, 2, 3, 4, 5, 6, 1, 2, 3, 4, 5, 6]\n"
     ]
    }
   ],
   "source": [
    "print(L * 7)"
   ]
  },
  {
   "cell_type": "code",
   "execution_count": 13,
   "id": "ae498d30-f355-4963-b1d7-e60f75c31adb",
   "metadata": {},
   "outputs": [
    {
     "data": {
      "text/plain": [
       "[34546544, 5, 645, 353, 33454, 3]"
      ]
     },
     "execution_count": 13,
     "metadata": {},
     "output_type": "execute_result"
    }
   ],
   "source": [
    "l3 = [34546544,5,645,353,33454,3]\n",
    "l3"
   ]
  },
  {
   "cell_type": "code",
   "execution_count": 14,
   "id": "f4e774de-0573-4a50-b870-5d33cf3e586f",
   "metadata": {},
   "outputs": [
    {
     "data": {
      "text/plain": [
       "True"
      ]
     },
     "execution_count": 14,
     "metadata": {},
     "output_type": "execute_result"
    }
   ],
   "source": [
    "5 in l3"
   ]
  },
  {
   "cell_type": "code",
   "execution_count": 15,
   "id": "bece1d07-17ac-45df-b0f1-27ff9ca23947",
   "metadata": {},
   "outputs": [
    {
     "data": {
      "text/plain": [
       "False"
      ]
     },
     "execution_count": 15,
     "metadata": {},
     "output_type": "execute_result"
    }
   ],
   "source": [
    "6786 in l3"
   ]
  },
  {
   "cell_type": "code",
   "execution_count": 16,
   "id": "5f4a970d-4846-4758-b56e-af3372893a78",
   "metadata": {},
   "outputs": [],
   "source": [
    "#loop"
   ]
  },
  {
   "cell_type": "code",
   "execution_count": 17,
   "id": "bdfb4567-f93e-4d2c-95c2-92475596371d",
   "metadata": {},
   "outputs": [
    {
     "name": "stdout",
     "output_type": "stream",
     "text": [
      "34546544\n",
      "5\n",
      "645\n",
      "353\n",
      "33454\n",
      "3\n"
     ]
    }
   ],
   "source": [
    "for i in l3:\n",
    "    print(i)"
   ]
  },
  {
   "cell_type": "markdown",
   "id": "353a0add-9d00-4403-a26d-9e637f6d100a",
   "metadata": {},
   "source": [
    "                                                  7. Functions\n",
    "                                                                 len()\n",
    "                                                                          min()\n",
    "                                                                                   max()\n",
    "                                                                                           sorted()"
   ]
  },
  {
   "cell_type": "code",
   "execution_count": 19,
   "id": "daefd8c0-99dd-48d3-8b17-df31743447b2",
   "metadata": {},
   "outputs": [
    {
     "data": {
      "text/plain": [
       "[1, 2, 3, 4, 5, 6]"
      ]
     },
     "execution_count": 19,
     "metadata": {},
     "output_type": "execute_result"
    }
   ],
   "source": [
    "L"
   ]
  },
  {
   "cell_type": "code",
   "execution_count": 20,
   "id": "0013f97b-11c1-4e2d-87a6-0d64abbd8713",
   "metadata": {},
   "outputs": [
    {
     "data": {
      "text/plain": [
       "6"
      ]
     },
     "execution_count": 20,
     "metadata": {},
     "output_type": "execute_result"
    }
   ],
   "source": [
    "len(L)"
   ]
  },
  {
   "cell_type": "code",
   "execution_count": 21,
   "id": "c5bb536f-2839-4191-be4a-c99d500a9f33",
   "metadata": {},
   "outputs": [
    {
     "data": {
      "text/plain": [
       "1"
      ]
     },
     "execution_count": 21,
     "metadata": {},
     "output_type": "execute_result"
    }
   ],
   "source": [
    "min(L)"
   ]
  },
  {
   "cell_type": "code",
   "execution_count": 22,
   "id": "2fa95d25-9a95-4179-8eb4-c9079687d01a",
   "metadata": {},
   "outputs": [
    {
     "data": {
      "text/plain": [
       "6"
      ]
     },
     "execution_count": 22,
     "metadata": {},
     "output_type": "execute_result"
    }
   ],
   "source": [
    "max(L)"
   ]
  },
  {
   "cell_type": "code",
   "execution_count": 23,
   "id": "df84953a-2374-45c9-a41a-af8722d33c08",
   "metadata": {},
   "outputs": [
    {
     "data": {
      "text/plain": [
       "[1, 2, 3, 4, 5, 6]"
      ]
     },
     "execution_count": 23,
     "metadata": {},
     "output_type": "execute_result"
    }
   ],
   "source": [
    "sorted(L)"
   ]
  },
  {
   "cell_type": "code",
   "execution_count": 24,
   "id": "dae05d0c-e06c-435b-800e-7ee32d5a87dc",
   "metadata": {},
   "outputs": [
    {
     "data": {
      "text/plain": [
       "[6, 5, 4, 3, 2, 1]"
      ]
     },
     "execution_count": 24,
     "metadata": {},
     "output_type": "execute_result"
    }
   ],
   "source": [
    "sorted(L, reverse = True)"
   ]
  },
  {
   "cell_type": "code",
   "execution_count": 25,
   "id": "b8fb7d90-305d-4c33-8e01-cf3cb1752fa1",
   "metadata": {},
   "outputs": [
    {
     "data": {
      "text/plain": [
       "[1, 2, 3, 4, 5, 6]"
      ]
     },
     "execution_count": 25,
     "metadata": {},
     "output_type": "execute_result"
    }
   ],
   "source": [
    "L"
   ]
  },
  {
   "cell_type": "code",
   "execution_count": 26,
   "id": "05ee049e-6b97-4196-95ca-4e4e354d1c55",
   "metadata": {},
   "outputs": [],
   "source": [
    "L.sort(reverse  = True)"
   ]
  },
  {
   "cell_type": "code",
   "execution_count": 27,
   "id": "d9e8e4a5-7356-4c90-b6e8-2bdcac489a48",
   "metadata": {},
   "outputs": [
    {
     "data": {
      "text/plain": [
       "[6, 5, 4, 3, 2, 1]"
      ]
     },
     "execution_count": 27,
     "metadata": {},
     "output_type": "execute_result"
    }
   ],
   "source": [
    "L"
   ]
  },
  {
   "cell_type": "code",
   "execution_count": 28,
   "id": "e27cbfc6-cbe2-4a96-87f1-3876860869b1",
   "metadata": {},
   "outputs": [],
   "source": [
    "L.sort()"
   ]
  },
  {
   "cell_type": "code",
   "execution_count": 29,
   "id": "100d2859-50db-4034-915c-35c59cb6c1f5",
   "metadata": {},
   "outputs": [
    {
     "data": {
      "text/plain": [
       "3"
      ]
     },
     "execution_count": 29,
     "metadata": {},
     "output_type": "execute_result"
    }
   ],
   "source": [
    "# count \n",
    "L = [1,2,1,3,4,1,5]\n",
    "L.count(1)"
   ]
  },
  {
   "cell_type": "code",
   "execution_count": 30,
   "id": "88f092fe-d717-4a6c-a020-b45558d54430",
   "metadata": {},
   "outputs": [
    {
     "data": {
      "text/plain": [
       "[1, 2, 1, 3, 4, 1, 5]"
      ]
     },
     "execution_count": 30,
     "metadata": {},
     "output_type": "execute_result"
    }
   ],
   "source": [
    "L"
   ]
  },
  {
   "cell_type": "code",
   "execution_count": 31,
   "id": "f97e210f-3943-4532-800d-0eb5f0911503",
   "metadata": {},
   "outputs": [
    {
     "data": {
      "text/plain": [
       "3"
      ]
     },
     "execution_count": 31,
     "metadata": {},
     "output_type": "execute_result"
    }
   ],
   "source": [
    "#index\n",
    "L.index(3)"
   ]
  },
  {
   "cell_type": "code",
   "execution_count": 32,
   "id": "d6d3074d-3b64-43fa-8d44-3f075a68983c",
   "metadata": {},
   "outputs": [
    {
     "name": "stdout",
     "output_type": "stream",
     "text": [
      "[0, 7, 5, 1, 2]\n"
     ]
    }
   ],
   "source": [
    "#reverse\n",
    "L = [2, 1, 5, 7, 0]\n",
    "# permanently reverses the list\n",
    "L.reverse()\n",
    "print(L)"
   ]
  },
  {
   "cell_type": "code",
   "execution_count": 33,
   "id": "d6952b71-aa7d-4467-a4e0-2519204febcb",
   "metadata": {},
   "outputs": [
    {
     "name": "stdout",
     "output_type": "stream",
     "text": [
      "[2, 1, 5, 7, 0]\n",
      "[0, 1, 2, 5, 7]\n",
      "[2, 1, 5, 7, 0]\n",
      "[0, 1, 2, 5, 7]\n"
     ]
    }
   ],
   "source": [
    "# sort (vs sorted)\n",
    "L = [2, 1, 5, 7, 0]\n",
    "print(L)\n",
    "print(sorted(L)) # New sorted list\n",
    "print(L)         # Original list (unchanged)\n",
    "L.sort()\n",
    "print(L)         # Original list (sorted)"
   ]
  },
  {
   "cell_type": "code",
   "execution_count": 34,
   "id": "d947818b-0be2-40d1-b6e3-b78a0159a895",
   "metadata": {},
   "outputs": [
    {
     "name": "stdout",
     "output_type": "stream",
     "text": [
      "[2, 1, 5, 7, 0]\n",
      "1771258078336\n",
      "[2, 1, 5, 7, 0]\n",
      "1771258078912\n"
     ]
    }
   ],
   "source": [
    "# copy ---> shallow\n",
    "L = [2, 1, 5, 7, 0]\n",
    "print(L)\n",
    "print(id(L))\n",
    "L1 = L.copy()\n",
    "print(L1)\n",
    "print(id(L1))"
   ]
  },
  {
   "cell_type": "code",
   "execution_count": 35,
   "id": "8a798c4e-4f00-45a7-8e7e-1350b5c20c1c",
   "metadata": {},
   "outputs": [
    {
     "data": {
      "text/plain": [
       "'Hello How Are You'"
      ]
     },
     "execution_count": 35,
     "metadata": {},
     "output_type": "execute_result"
    }
   ],
   "source": [
    "\"hello how are you\".title()"
   ]
  },
  {
   "cell_type": "code",
   "execution_count": null,
   "id": "b370aaae-2a17-41b5-ab87-7796854717d3",
   "metadata": {},
   "outputs": [],
   "source": [
    "# Title Case a String Without title()\n",
    "sample = \"hello how are you?\"\n",
    "sample.split()\n",
    "L = []\n",
    "for i in sample.split():\n",
    "    L.append(i.capatalize())\n",
    "    print(L)"
   ]
  }
 ],
 "metadata": {
  "kernelspec": {
   "display_name": "Python 3 (ipykernel)",
   "language": "python",
   "name": "python3"
  },
  "language_info": {
   "codemirror_mode": {
    "name": "ipython",
    "version": 3
   },
   "file_extension": ".py",
   "mimetype": "text/x-python",
   "name": "python",
   "nbconvert_exporter": "python",
   "pygments_lexer": "ipython3",
   "version": "3.12.7"
  }
 },
 "nbformat": 4,
 "nbformat_minor": 5
}

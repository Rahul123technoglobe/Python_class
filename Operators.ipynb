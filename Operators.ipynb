{
 "cells": [
  {
   "cell_type": "markdown",
   "id": "40b8f9d7-5cd6-4860-b4cc-b5008a9c1318",
   "metadata": {},
   "source": [
    "Operators\n",
    "_Arithemetic Operators"
   ]
  },
  {
   "cell_type": "code",
   "execution_count": 1,
   "id": "d56a6517-6c2d-43b6-828b-24bf927e7ee3",
   "metadata": {},
   "outputs": [],
   "source": [
    "x=5\n",
    "y=4"
   ]
  },
  {
   "cell_type": "code",
   "execution_count": 2,
   "id": "38373572-3a9b-49f4-a5d4-54f27557bb66",
   "metadata": {},
   "outputs": [
    {
     "data": {
      "text/plain": [
       "20"
      ]
     },
     "execution_count": 2,
     "metadata": {},
     "output_type": "execute_result"
    }
   ],
   "source": [
    "x*y"
   ]
  },
  {
   "cell_type": "code",
   "execution_count": 3,
   "id": "b3f0cf44-a6d2-4f7d-827a-d8876e4e658b",
   "metadata": {},
   "outputs": [
    {
     "data": {
      "text/plain": [
       "9"
      ]
     },
     "execution_count": 3,
     "metadata": {},
     "output_type": "execute_result"
    }
   ],
   "source": [
    "x+y"
   ]
  },
  {
   "cell_type": "code",
   "execution_count": 5,
   "id": "aa34bb26-e96a-4766-9892-47c4e5ac22e8",
   "metadata": {},
   "outputs": [
    {
     "data": {
      "text/plain": [
       "1.25"
      ]
     },
     "execution_count": 5,
     "metadata": {},
     "output_type": "execute_result"
    }
   ],
   "source": [
    "x/y"
   ]
  },
  {
   "cell_type": "code",
   "execution_count": 6,
   "id": "09b5a490-76de-4367-9a69-cde29389a416",
   "metadata": {},
   "outputs": [
    {
     "data": {
      "text/plain": [
       "1"
      ]
     },
     "execution_count": 6,
     "metadata": {},
     "output_type": "execute_result"
    }
   ],
   "source": [
    "x//y"
   ]
  },
  {
   "cell_type": "code",
   "execution_count": 7,
   "id": "53904460-154d-44be-9e80-a9ce1b83e59b",
   "metadata": {},
   "outputs": [
    {
     "data": {
      "text/plain": [
       "1"
      ]
     },
     "execution_count": 7,
     "metadata": {},
     "output_type": "execute_result"
    }
   ],
   "source": [
    "x%y"
   ]
  },
  {
   "cell_type": "code",
   "execution_count": 9,
   "id": "45a564e0-0207-4775-81c1-ad0db81b74ef",
   "metadata": {},
   "outputs": [
    {
     "data": {
      "text/plain": [
       "625"
      ]
     },
     "execution_count": 9,
     "metadata": {},
     "output_type": "execute_result"
    }
   ],
   "source": [
    "x**y"
   ]
  },
  {
   "cell_type": "code",
   "execution_count": 10,
   "id": "9fc6175f-3228-4415-9e68-afd24e4d865c",
   "metadata": {},
   "outputs": [
    {
     "data": {
      "text/plain": [
       "1"
      ]
     },
     "execution_count": 10,
     "metadata": {},
     "output_type": "execute_result"
    }
   ],
   "source": [
    "x-y"
   ]
  },
  {
   "cell_type": "code",
   "execution_count": 11,
   "id": "d16d4088-0e4f-4ef1-b0d1-d0ba079f0fc1",
   "metadata": {},
   "outputs": [
    {
     "data": {
      "text/plain": [
       "29"
      ]
     },
     "execution_count": 11,
     "metadata": {},
     "output_type": "execute_result"
    }
   ],
   "source": [
    "x+y+x*y"
   ]
  },
  {
   "cell_type": "code",
   "execution_count": 15,
   "id": "6f682c2d-193f-4787-a765-0f8102d17dd1",
   "metadata": {},
   "outputs": [
    {
     "data": {
      "text/plain": [
       "20"
      ]
     },
     "execution_count": 15,
     "metadata": {},
     "output_type": "execute_result"
    }
   ],
   "source": [
    "x*y\n"
   ]
  },
  {
   "cell_type": "markdown",
   "id": "a43e3f66-bad8-4bfb-b370-58163c075194",
   "metadata": {},
   "source": [
    "Comparison_Operator"
   ]
  },
  {
   "cell_type": "code",
   "execution_count": 16,
   "id": "75528146-f7bd-4b28-9004-261f419b2c55",
   "metadata": {},
   "outputs": [],
   "source": [
    "#Comparison:==,!=,>,<,>=,<="
   ]
  },
  {
   "cell_type": "code",
   "execution_count": 17,
   "id": "fa0ed895-06c6-4092-8082-d116ee64db92",
   "metadata": {},
   "outputs": [
    {
     "name": "stdout",
     "output_type": "stream",
     "text": [
      "True\n"
     ]
    }
   ],
   "source": [
    "print(x!=y)"
   ]
  },
  {
   "cell_type": "code",
   "execution_count": 18,
   "id": "a06af0f4-4375-4a69-ab92-cb59bf1eed3a",
   "metadata": {},
   "outputs": [
    {
     "name": "stdout",
     "output_type": "stream",
     "text": [
      "True\n"
     ]
    }
   ],
   "source": [
    "print(x>y)"
   ]
  },
  {
   "cell_type": "code",
   "execution_count": 19,
   "id": "0e354aa4-5d68-4dcf-bab9-b60696329c10",
   "metadata": {},
   "outputs": [
    {
     "name": "stdout",
     "output_type": "stream",
     "text": [
      "False\n"
     ]
    }
   ],
   "source": [
    "print(x<y)"
   ]
  },
  {
   "cell_type": "code",
   "execution_count": 20,
   "id": "d4a6a6cb-94ce-4b2e-ab91-9c5c6e56892d",
   "metadata": {},
   "outputs": [
    {
     "name": "stdout",
     "output_type": "stream",
     "text": [
      "True\n"
     ]
    }
   ],
   "source": [
    "print(x>=y)"
   ]
  },
  {
   "cell_type": "code",
   "execution_count": 21,
   "id": "bb7a3de0-300c-4e17-bcfc-674a9593a9b0",
   "metadata": {},
   "outputs": [
    {
     "name": "stdout",
     "output_type": "stream",
     "text": [
      "False\n"
     ]
    }
   ],
   "source": [
    "print(x<=y)"
   ]
  },
  {
   "cell_type": "code",
   "execution_count": 22,
   "id": "751843d4-5f12-4151-a64b-0ab98040a523",
   "metadata": {},
   "outputs": [
    {
     "name": "stdout",
     "output_type": "stream",
     "text": [
      "False\n"
     ]
    }
   ],
   "source": [
    "print(x==y)"
   ]
  },
  {
   "cell_type": "code",
   "execution_count": 23,
   "id": "d201b2c4-a2f9-47bb-a6da-ab4b5b0870ab",
   "metadata": {},
   "outputs": [],
   "source": [
    "#Questions"
   ]
  },
  {
   "cell_type": "code",
   "execution_count": 24,
   "id": "d12b3563-bec6-49eb-9df2-9c497ce1e3c1",
   "metadata": {},
   "outputs": [],
   "source": [
    "a=20\n",
    "b=30"
   ]
  },
  {
   "cell_type": "code",
   "execution_count": 25,
   "id": "c891254e-5d6d-467c-9515-b631167d8b6f",
   "metadata": {},
   "outputs": [
    {
     "name": "stdout",
     "output_type": "stream",
     "text": [
      "50\n"
     ]
    }
   ],
   "source": [
    "print(a+b)"
   ]
  },
  {
   "cell_type": "code",
   "execution_count": 26,
   "id": "b67ea36e-9c6f-41cb-892c-b2ea64481310",
   "metadata": {},
   "outputs": [
    {
     "name": "stdout",
     "output_type": "stream",
     "text": [
      "-333\n"
     ]
    }
   ],
   "source": [
    "print(456-789)"
   ]
  },
  {
   "cell_type": "code",
   "execution_count": 27,
   "id": "bfae668e-993d-45cb-ad67-846cd6244d95",
   "metadata": {},
   "outputs": [
    {
     "name": "stdout",
     "output_type": "stream",
     "text": [
      "120\n"
     ]
    }
   ],
   "source": [
    "print(15*8)"
   ]
  },
  {
   "cell_type": "code",
   "execution_count": 28,
   "id": "bfbc2eee-d7bb-4c4e-91fa-198b263ee71f",
   "metadata": {},
   "outputs": [
    {
     "name": "stdout",
     "output_type": "stream",
     "text": [
      "17.0\n"
     ]
    }
   ],
   "source": [
    "print(255/15)"
   ]
  },
  {
   "cell_type": "code",
   "execution_count": 29,
   "id": "69203048-18c7-47c3-893d-4a720da1a3ff",
   "metadata": {},
   "outputs": [
    {
     "name": "stdout",
     "output_type": "stream",
     "text": [
      "7\n"
     ]
    }
   ],
   "source": [
    "print(50//7)"
   ]
  },
  {
   "cell_type": "code",
   "execution_count": 34,
   "id": "31e1fced-9dfa-4c81-9df3-2f6ea6d48160",
   "metadata": {},
   "outputs": [
    {
     "name": "stdout",
     "output_type": "stream",
     "text": [
      "-10.75\n"
     ]
    }
   ],
   "source": [
    "print(10/(5+3)-12)"
   ]
  },
  {
   "cell_type": "code",
   "execution_count": 35,
   "id": "773f5d38-027a-4863-985a-55d3d4a01a00",
   "metadata": {},
   "outputs": [
    {
     "name": "stdout",
     "output_type": "stream",
     "text": [
      "6\n"
     ]
    }
   ],
   "source": [
    "print(58//9)"
   ]
  },
  {
   "cell_type": "code",
   "execution_count": 36,
   "id": "17e15593-8ed8-430a-962f-264e3d3a5945",
   "metadata": {},
   "outputs": [
    {
     "name": "stdout",
     "output_type": "stream",
     "text": [
      "64\n"
     ]
    }
   ],
   "source": [
    "print(4**3)"
   ]
  },
  {
   "cell_type": "code",
   "execution_count": 37,
   "id": "57162508-3b22-40d4-a033-970c4d9b0e91",
   "metadata": {},
   "outputs": [],
   "source": [
    "a=5\n",
    "b=10"
   ]
  },
  {
   "cell_type": "code",
   "execution_count": 38,
   "id": "033defce-c9bf-4610-b5a7-9577b5743d7f",
   "metadata": {},
   "outputs": [],
   "source": [
    "c=(a-b)"
   ]
  },
  {
   "cell_type": "code",
   "execution_count": 39,
   "id": "ae9dcbf8-710c-45ae-8f69-9dd66e5b5103",
   "metadata": {},
   "outputs": [
    {
     "name": "stdout",
     "output_type": "stream",
     "text": [
      "-5\n"
     ]
    }
   ],
   "source": [
    "print(c)\n"
   ]
  },
  {
   "cell_type": "code",
   "execution_count": 40,
   "id": "c560bb99-bfcf-4360-913a-8b449eccdafe",
   "metadata": {},
   "outputs": [],
   "source": [
    "c=42\n",
    "g=24"
   ]
  },
  {
   "cell_type": "code",
   "execution_count": 41,
   "id": "463bba59-df63-4428-8b1c-092540409a6d",
   "metadata": {},
   "outputs": [
    {
     "name": "stdout",
     "output_type": "stream",
     "text": [
      "True\n"
     ]
    }
   ],
   "source": [
    "print(42>24)"
   ]
  },
  {
   "cell_type": "code",
   "execution_count": 42,
   "id": "7b48d935-c619-4eaa-835d-967c07366e43",
   "metadata": {},
   "outputs": [],
   "source": [
    "d=65\n",
    "f=72"
   ]
  },
  {
   "cell_type": "code",
   "execution_count": 43,
   "id": "82234479-2473-4411-8894-90a270e3b8e1",
   "metadata": {},
   "outputs": [
    {
     "name": "stdout",
     "output_type": "stream",
     "text": [
      "True\n"
     ]
    }
   ],
   "source": [
    "print(d<f)"
   ]
  },
  {
   "cell_type": "code",
   "execution_count": 44,
   "id": "ecadb3ba-9423-455c-b1a7-83c95ee8f93f",
   "metadata": {},
   "outputs": [],
   "source": [
    "i=15\n",
    "j=15.5"
   ]
  },
  {
   "cell_type": "code",
   "execution_count": 45,
   "id": "d40d0785-aa15-4b53-b83d-f3ce2b8acf1b",
   "metadata": {},
   "outputs": [
    {
     "name": "stdout",
     "output_type": "stream",
     "text": [
      "False\n"
     ]
    }
   ],
   "source": [
    "print(j==i)"
   ]
  },
  {
   "cell_type": "code",
   "execution_count": 47,
   "id": "859e6e83-6933-4b00-a2b9-d0ec4ef5ae29",
   "metadata": {},
   "outputs": [
    {
     "name": "stdout",
     "output_type": "stream",
     "text": [
      "False\n"
     ]
    }
   ],
   "source": [
    "print(100/10==9)"
   ]
  },
  {
   "cell_type": "markdown",
   "id": "ee18da1d-e22f-4488-91d4-ef7725a64230",
   "metadata": {},
   "source": [
    "Logical"
   ]
  },
  {
   "cell_type": "markdown",
   "id": "98427a78-cf75-46be-96fb-654ffbb9dd00",
   "metadata": {},
   "source": [
    "And,or,not"
   ]
  },
  {
   "cell_type": "code",
   "execution_count": 48,
   "id": "1b932996-5070-43b8-b8b9-2ab8226cef1c",
   "metadata": {},
   "outputs": [],
   "source": [
    "x=4\n",
    "y=5\n",
    "z=4"
   ]
  },
  {
   "cell_type": "code",
   "execution_count": 49,
   "id": "21b7e3fc-d692-4ccf-bfa2-bd7ad8c6cad6",
   "metadata": {},
   "outputs": [
    {
     "name": "stdout",
     "output_type": "stream",
     "text": [
      "False\n"
     ]
    }
   ],
   "source": [
    "print(x==y and x==z)"
   ]
  },
  {
   "cell_type": "code",
   "execution_count": 50,
   "id": "bcfdf751-0019-4686-8e5d-48afbe2b9d29",
   "metadata": {},
   "outputs": [
    {
     "name": "stdout",
     "output_type": "stream",
     "text": [
      "True\n"
     ]
    }
   ],
   "source": [
    "print(x==y or x==z)"
   ]
  },
  {
   "cell_type": "code",
   "execution_count": 55,
   "id": "0dbf8cdf-4861-492a-abc6-2f0a2fe299a9",
   "metadata": {},
   "outputs": [],
   "source": [
    "n=15\n",
    "x=10\n",
    "y=20"
   ]
  },
  {
   "cell_type": "code",
   "execution_count": 56,
   "id": "056c20de-e1c6-4327-8a67-92a963534d42",
   "metadata": {},
   "outputs": [
    {
     "name": "stdout",
     "output_type": "stream",
     "text": [
      "True\n"
     ]
    }
   ],
   "source": [
    "print(x<n and y>n)"
   ]
  },
  {
   "cell_type": "code",
   "execution_count": 58,
   "id": "dd4e38ae-4e73-49bf-ba55-11d85ca89c25",
   "metadata": {},
   "outputs": [],
   "source": [
    "l=50\n",
    "m=110\n"
   ]
  },
  {
   "cell_type": "code",
   "execution_count": 59,
   "id": "e9c43446-d14b-4758-926d-49816009284f",
   "metadata": {},
   "outputs": [
    {
     "name": "stdout",
     "output_type": "stream",
     "text": [
      "60\n"
     ]
    }
   ],
   "source": [
    "print(l-m and m-l)"
   ]
  },
  {
   "cell_type": "code",
   "execution_count": 60,
   "id": "e429d2e2-c741-4c8b-96e3-b41dae6c5bf2",
   "metadata": {},
   "outputs": [],
   "source": [
    "num=55"
   ]
  },
  {
   "cell_type": "code",
   "execution_count": 61,
   "id": "4dad0f7d-dbda-4fd9-ba39-b24dd6414192",
   "metadata": {},
   "outputs": [
    {
     "name": "stdout",
     "output_type": "stream",
     "text": [
      "True\n"
     ]
    }
   ],
   "source": [
    "print(num>0 or num>50)"
   ]
  },
  {
   "cell_type": "code",
   "execution_count": 62,
   "id": "c240afc7-9033-4467-945f-9ff0b06e4bbd",
   "metadata": {},
   "outputs": [],
   "source": [
    "x=10"
   ]
  },
  {
   "cell_type": "code",
   "execution_count": 63,
   "id": "8acf5435-3bf2-4b90-82f3-553de0036948",
   "metadata": {},
   "outputs": [
    {
     "name": "stdout",
     "output_type": "stream",
     "text": [
      "True\n"
     ]
    }
   ],
   "source": [
    "print(x%2==0 or x%5==0)"
   ]
  },
  {
   "cell_type": "code",
   "execution_count": 69,
   "id": "8406189e-3e95-4688-862e-7254a21bfcd5",
   "metadata": {},
   "outputs": [],
   "source": [
    "x=50\n",
    "y=30\n",
    "z=10"
   ]
  },
  {
   "cell_type": "code",
   "execution_count": 71,
   "id": "ffdf20ae-ae3e-4beb-aab2-ae0486ec0e64",
   "metadata": {},
   "outputs": [
    {
     "name": "stdout",
     "output_type": "stream",
     "text": [
      "True\n"
     ]
    }
   ],
   "source": [
    "print(x>y and y<x)"
   ]
  },
  {
   "cell_type": "code",
   "execution_count": null,
   "id": "33bf807e-fdac-43e3-86a0-1d8e8c1a7fac",
   "metadata": {},
   "outputs": [],
   "source": []
  }
 ],
 "metadata": {
  "kernelspec": {
   "display_name": "Python 3 (ipykernel)",
   "language": "python",
   "name": "python3"
  },
  "language_info": {
   "codemirror_mode": {
    "name": "ipython",
    "version": 3
   },
   "file_extension": ".py",
   "mimetype": "text/x-python",
   "name": "python",
   "nbconvert_exporter": "python",
   "pygments_lexer": "ipython3",
   "version": "3.12.7"
  }
 },
 "nbformat": 4,
 "nbformat_minor": 5
}

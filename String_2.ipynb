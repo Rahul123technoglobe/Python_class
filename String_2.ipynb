{
 "cells": [
  {
   "cell_type": "markdown",
   "id": "836567b1-a73e-407c-a2a7-1f4e286dd069",
   "metadata": {},
   "source": [
    "String_2"
   ]
  },
  {
   "cell_type": "markdown",
   "id": "51332734-526c-437d-bcbd-0d7f6e4dcbd7",
   "metadata": {},
   "source": [
    "#Ops on Strings\n",
    "\n",
    "Arithmetic: Concatenation (+), Repetition (*)\n",
    "\n",
    "Relational: Equality (==), Inequality (!=), Comparison (<, >, <=, >=)\n",
    "\n",
    "Logical: and, or, not\n",
    "\n",
    "Loops: for loop, while loop\n",
    "\n",
    "Membership: in, not in"
   ]
  },
  {
   "cell_type": "code",
   "execution_count": 1,
   "id": "06495f3a-90cf-4784-b3d3-0eb5c6e9b5c5",
   "metadata": {},
   "outputs": [
    {
     "data": {
      "text/plain": [
       "'Hello-World'"
      ]
     },
     "execution_count": 1,
     "metadata": {},
     "output_type": "execute_result"
    }
   ],
   "source": [
    "# Arithmetic\n",
    "\"Hello\" + \"-\" + \"World\"\n"
   ]
  },
  {
   "cell_type": "code",
   "execution_count": 14,
   "id": "8391fac0-6e57-4352-b4ad-818767209a7a",
   "metadata": {},
   "outputs": [
    {
     "name": "stdout",
     "output_type": "stream",
     "text": [
      "***************************************************************************************************\n"
     ]
    }
   ],
   "source": [
    "print(\"*\"*99)"
   ]
  },
  {
   "cell_type": "code",
   "execution_count": 22,
   "id": "06afa8ba-2128-4c05-91d2-57adc29aeb13",
   "metadata": {},
   "outputs": [
    {
     "name": "stdout",
     "output_type": "stream",
     "text": [
      "hellohellohellohellohellohellohellohellohello\n"
     ]
    }
   ],
   "source": [
    "print(\"hello\"*9)"
   ]
  },
  {
   "cell_type": "code",
   "execution_count": 23,
   "id": "c775a60d-fc0c-4d86-9693-02bd704e1d90",
   "metadata": {},
   "outputs": [
    {
     "data": {
      "text/plain": [
       "False"
      ]
     },
     "execution_count": 23,
     "metadata": {},
     "output_type": "execute_result"
    }
   ],
   "source": [
    "# Relational\n",
    "\"Hello\" == \"World\""
   ]
  },
  {
   "cell_type": "code",
   "execution_count": 24,
   "id": "157b4ebd-af99-4897-bd64-567fee447e70",
   "metadata": {},
   "outputs": [
    {
     "data": {
      "text/plain": [
       "True"
      ]
     },
     "execution_count": 24,
     "metadata": {},
     "output_type": "execute_result"
    }
   ],
   "source": [
    "\"Hello\" != \"World\""
   ]
  },
  {
   "cell_type": "code",
   "execution_count": 25,
   "id": "06ef667a-da2f-4d4d-9578-fc0d7a82cba0",
   "metadata": {},
   "outputs": [
    {
     "data": {
      "text/plain": [
       "False"
      ]
     },
     "execution_count": 25,
     "metadata": {},
     "output_type": "execute_result"
    }
   ],
   "source": [
    "\"Mumbai\" > \"Pune\" # Lexiographically"
   ]
  },
  {
   "cell_type": "code",
   "execution_count": 26,
   "id": "ae6c2472-1412-470c-a5d5-b5c3a5e0f22a",
   "metadata": {},
   "outputs": [
    {
     "data": {
      "text/plain": [
       "False"
      ]
     },
     "execution_count": 26,
     "metadata": {},
     "output_type": "execute_result"
    }
   ],
   "source": [
    "\"Goa\" > \"Kolkata\""
   ]
  },
  {
   "cell_type": "code",
   "execution_count": 27,
   "id": "04ca6a4f-49e1-43c5-93c4-bf8e40a2a7aa",
   "metadata": {},
   "outputs": [
    {
     "data": {
      "text/plain": [
       "False"
      ]
     },
     "execution_count": 27,
     "metadata": {},
     "output_type": "execute_result"
    }
   ],
   "source": [
    "\"kol\" < \"Kol\""
   ]
  },
  {
   "cell_type": "code",
   "execution_count": 28,
   "id": "f809fde8-594c-40bc-a697-808aedc7fc2a",
   "metadata": {},
   "outputs": [
    {
     "data": {
      "text/plain": [
       "'World'"
      ]
     },
     "execution_count": 28,
     "metadata": {},
     "output_type": "execute_result"
    }
   ],
   "source": [
    "# Logical\n",
    "\"Hello\" and \"World\""
   ]
  },
  {
   "cell_type": "code",
   "execution_count": 29,
   "id": "ccfb7083-8848-4ddc-8520-574a241c0434",
   "metadata": {},
   "outputs": [],
   "source": [
    "# \"\"        ---> False\n",
    "# \"saurabh\" ---> True"
   ]
  },
  {
   "cell_type": "code",
   "execution_count": 30,
   "id": "a306d8e5-c78a-4133-b2f0-37ba4a231084",
   "metadata": {},
   "outputs": [
    {
     "data": {
      "text/plain": [
       "''"
      ]
     },
     "execution_count": 30,
     "metadata": {},
     "output_type": "execute_result"
    }
   ],
   "source": [
    "\n",
    "\"\" and \"Hello\""
   ]
  },
  {
   "cell_type": "code",
   "execution_count": 32,
   "id": "83475788-8774-48aa-ae16-7a28cb348936",
   "metadata": {},
   "outputs": [
    {
     "data": {
      "text/plain": [
       "'Hello'"
      ]
     },
     "execution_count": 32,
     "metadata": {},
     "output_type": "execute_result"
    }
   ],
   "source": [
    "\"Hello\" or \"World\""
   ]
  },
  {
   "cell_type": "code",
   "execution_count": 33,
   "id": "7fbab1a0-d7da-47df-a224-f7c6298a4a46",
   "metadata": {},
   "outputs": [
    {
     "data": {
      "text/plain": [
       "'World'"
      ]
     },
     "execution_count": 33,
     "metadata": {},
     "output_type": "execute_result"
    }
   ],
   "source": [
    "\"Hello\" and \"World\""
   ]
  },
  {
   "cell_type": "code",
   "execution_count": 34,
   "id": "4cd6ee06-5a26-401f-9733-eaefd4e998ba",
   "metadata": {},
   "outputs": [
    {
     "data": {
      "text/plain": [
       "False"
      ]
     },
     "execution_count": 34,
     "metadata": {},
     "output_type": "execute_result"
    }
   ],
   "source": [
    "not \"hello\""
   ]
  },
  {
   "cell_type": "code",
   "execution_count": 35,
   "id": "9a1b1a16-4eec-457a-a002-f4f79cccce49",
   "metadata": {},
   "outputs": [
    {
     "name": "stdout",
     "output_type": "stream",
     "text": [
      "False\n"
     ]
    }
   ],
   "source": [
    "print(not\"hello\")"
   ]
  },
  {
   "cell_type": "code",
   "execution_count": 36,
   "id": "961f48b3-12ee-4b74-ae4b-8742f92b447c",
   "metadata": {},
   "outputs": [
    {
     "data": {
      "text/plain": [
       "True"
      ]
     },
     "execution_count": 36,
     "metadata": {},
     "output_type": "execute_result"
    }
   ],
   "source": [
    "not\"\""
   ]
  },
  {
   "cell_type": "code",
   "execution_count": 37,
   "id": "f273726a-615a-44ed-b722-f40d2066fe42",
   "metadata": {},
   "outputs": [
    {
     "name": "stdout",
     "output_type": "stream",
     "text": [
      "H\n",
      "e\n",
      "l\n",
      "l\n",
      "o\n",
      " \n",
      "W\n",
      "o\n",
      "r\n",
      "l\n",
      "d\n"
     ]
    }
   ],
   "source": [
    "# Loops on Strings\n",
    "c = \"Hello World\"\n",
    "for i in c:\n",
    "    print(i)"
   ]
  },
  {
   "cell_type": "code",
   "execution_count": 42,
   "id": "b9a0dbbf-09ca-45ac-a904-5e7247996126",
   "metadata": {},
   "outputs": [
    {
     "name": "stdout",
     "output_type": "stream",
     "text": [
      "l\n",
      "l\n",
      "o\n",
      " \n",
      "W\n"
     ]
    }
   ],
   "source": [
    "for i in c[2:7]:\n",
    "    print(i)"
   ]
  },
  {
   "cell_type": "code",
   "execution_count": 44,
   "id": "6a9c1e15-4b92-4d9a-ab50-7c1dffd41d45",
   "metadata": {},
   "outputs": [
    {
     "name": "stdout",
     "output_type": "stream",
     "text": [
      "l\n"
     ]
    }
   ],
   "source": [
    "for i in c[2:4:7]:\n",
    "    print(i)"
   ]
  },
  {
   "cell_type": "code",
   "execution_count": 46,
   "id": "47bddec2-c123-462e-a094-0576feabace0",
   "metadata": {},
   "outputs": [
    {
     "name": "stdout",
     "output_type": "stream",
     "text": [
      "H\n",
      "e\n",
      "l\n",
      "l\n",
      "o\n",
      " \n",
      "W\n",
      "o\n",
      "r\n",
      "l\n",
      "d\n"
     ]
    }
   ],
   "source": [
    "for i in c[::+1]:\n",
    "    print(i)"
   ]
  },
  {
   "cell_type": "code",
   "execution_count": 47,
   "id": "acb42391-2660-40b6-ab7e-d645e9137db7",
   "metadata": {},
   "outputs": [
    {
     "data": {
      "text/plain": [
       "'Hello World'"
      ]
     },
     "execution_count": 47,
     "metadata": {},
     "output_type": "execute_result"
    }
   ],
   "source": [
    "# Membership\n",
    "c"
   ]
  },
  {
   "cell_type": "code",
   "execution_count": 48,
   "id": "d36a623b-d2b2-466a-a3e0-dda411742eb1",
   "metadata": {},
   "outputs": [
    {
     "data": {
      "text/plain": [
       "True"
      ]
     },
     "execution_count": 48,
     "metadata": {},
     "output_type": "execute_result"
    }
   ],
   "source": [
    "\"H\" in c"
   ]
  },
  {
   "cell_type": "code",
   "execution_count": 49,
   "id": "48770642-d019-41ed-94fa-9c7f4301137e",
   "metadata": {},
   "outputs": [
    {
     "data": {
      "text/plain": [
       "False"
      ]
     },
     "execution_count": 49,
     "metadata": {},
     "output_type": "execute_result"
    }
   ],
   "source": [
    "\"R\" in c"
   ]
  },
  {
   "cell_type": "code",
   "execution_count": 50,
   "id": "154c35e4-de01-4df0-8d7e-38f221ad346c",
   "metadata": {},
   "outputs": [
    {
     "data": {
      "text/plain": [
       "False"
      ]
     },
     "execution_count": 50,
     "metadata": {},
     "output_type": "execute_result"
    }
   ],
   "source": [
    "\"h\" in c"
   ]
  },
  {
   "cell_type": "markdown",
   "id": "f40dc9b3-3314-489d-85aa-230e0649fa4d",
   "metadata": {},
   "source": [
    "7. String Functions\n",
    "\n",
    "1. Common Functions\n",
    "\n",
    " len()\n",
    "\n",
    " max()\n",
    "\n",
    " min()\n",
    " \n",
    " sorted()"
   ]
  },
  {
   "cell_type": "code",
   "execution_count": 53,
   "id": "be25e79c-8258-4136-9cbf-45e40986b7d1",
   "metadata": {},
   "outputs": [
    {
     "data": {
      "text/plain": [
       "7"
      ]
     },
     "execution_count": 53,
     "metadata": {},
     "output_type": "execute_result"
    }
   ],
   "source": [
    "c = \"kollata\"\n",
    "len(c)"
   ]
  },
  {
   "cell_type": "code",
   "execution_count": 54,
   "id": "726a7a5e-29f4-4180-a3b6-cc1a6d3296a1",
   "metadata": {},
   "outputs": [
    {
     "data": {
      "text/plain": [
       "'t'"
      ]
     },
     "execution_count": 54,
     "metadata": {},
     "output_type": "execute_result"
    }
   ],
   "source": [
    "max(c)"
   ]
  },
  {
   "cell_type": "code",
   "execution_count": 55,
   "id": "5d281158-328c-4007-a36c-9e365161b2c0",
   "metadata": {},
   "outputs": [
    {
     "data": {
      "text/plain": [
       "'a'"
      ]
     },
     "execution_count": 55,
     "metadata": {},
     "output_type": "execute_result"
    }
   ],
   "source": [
    "min(c)"
   ]
  },
  {
   "cell_type": "code",
   "execution_count": 56,
   "id": "51c72e46-7a62-4f0b-9cdb-cd9f1953c85b",
   "metadata": {},
   "outputs": [
    {
     "data": {
      "text/plain": [
       "['a', 'a', 'k', 'l', 'l', 'o', 't']"
      ]
     },
     "execution_count": 56,
     "metadata": {},
     "output_type": "execute_result"
    }
   ],
   "source": [
    "sorted(c)"
   ]
  },
  {
   "cell_type": "code",
   "execution_count": 57,
   "id": "612a8145-2f95-4715-9d36-d61f5dee6d13",
   "metadata": {},
   "outputs": [
    {
     "data": {
      "text/plain": [
       "['t', 'o', 'l', 'l', 'k', 'a', 'a']"
      ]
     },
     "execution_count": 57,
     "metadata": {},
     "output_type": "execute_result"
    }
   ],
   "source": [
    "sorted(c, reverse=True)"
   ]
  },
  {
   "cell_type": "markdown",
   "id": "4430deca-9f25-432d-93c6-d5bd8418d621",
   "metadata": {},
   "source": [
    "#2. Capitalize/Title/Upper/Lower/Swapcase\n"
   ]
  },
  {
   "cell_type": "code",
   "execution_count": 59,
   "id": "1e519ba4-bf5f-4a11-9d46-46705a5b43e9",
   "metadata": {},
   "outputs": [
    {
     "data": {
      "text/plain": [
       "'Kollata'"
      ]
     },
     "execution_count": 59,
     "metadata": {},
     "output_type": "execute_result"
    }
   ],
   "source": [
    "c\n",
    "c.capitalize()"
   ]
  },
  {
   "cell_type": "code",
   "execution_count": 60,
   "id": "78c1dd2f-9778-45c8-93d4-149e5357068a",
   "metadata": {},
   "outputs": [
    {
     "data": {
      "text/plain": [
       "'kollata'"
      ]
     },
     "execution_count": 60,
     "metadata": {},
     "output_type": "execute_result"
    }
   ],
   "source": [
    "c"
   ]
  },
  {
   "cell_type": "code",
   "execution_count": 61,
   "id": "94bd3892-87f4-4fe9-89c3-35d8ec9b7764",
   "metadata": {},
   "outputs": [
    {
     "data": {
      "text/plain": [
       "'It is raining outside'"
      ]
     },
     "execution_count": 61,
     "metadata": {},
     "output_type": "execute_result"
    }
   ],
   "source": [
    "\"it is raining outside\".capitalize()"
   ]
  },
  {
   "cell_type": "code",
   "execution_count": 62,
   "id": "e081b5d7-0c67-49b9-addf-adecb0e98094",
   "metadata": {},
   "outputs": [
    {
     "data": {
      "text/plain": [
       "'It Is Raining Outside'"
      ]
     },
     "execution_count": 62,
     "metadata": {},
     "output_type": "execute_result"
    }
   ],
   "source": [
    "\"it is raining outside\".title()"
   ]
  },
  {
   "cell_type": "code",
   "execution_count": 63,
   "id": "7ef1753d-b749-4ab6-af6e-caa9716ff20c",
   "metadata": {},
   "outputs": [
    {
     "data": {
      "text/plain": [
       "'kollata'"
      ]
     },
     "execution_count": 63,
     "metadata": {},
     "output_type": "execute_result"
    }
   ],
   "source": [
    "c.upper().lower()"
   ]
  },
  {
   "cell_type": "code",
   "execution_count": 64,
   "id": "3cce977d-0c44-43e9-b26c-f2613fb7e333",
   "metadata": {},
   "outputs": [
    {
     "data": {
      "text/plain": [
       "'kOlKaTa'"
      ]
     },
     "execution_count": 64,
     "metadata": {},
     "output_type": "execute_result"
    }
   ],
   "source": [
    "\n",
    "\"KoLkAtA\".swapcase()"
   ]
  },
  {
   "cell_type": "markdown",
   "id": "9809e55a-fb5a-431d-b828-802694e1db6c",
   "metadata": {},
   "source": [
    "3. Count"
   ]
  },
  {
   "cell_type": "code",
   "execution_count": 65,
   "id": "4aeda21e-83d1-4100-a4ec-5de18363c3fb",
   "metadata": {},
   "outputs": [
    {
     "data": {
      "text/plain": [
       "4"
      ]
     },
     "execution_count": 65,
     "metadata": {},
     "output_type": "execute_result"
    }
   ],
   "source": [
    "\"it is raining\".count(\"i\")"
   ]
  },
  {
   "cell_type": "code",
   "execution_count": 66,
   "id": "a2aeb63e-1962-4c88-ad2c-2475240bd5c0",
   "metadata": {},
   "outputs": [
    {
     "data": {
      "text/plain": [
       "12"
      ]
     },
     "execution_count": 66,
     "metadata": {},
     "output_type": "execute_result"
    }
   ],
   "source": [
    "\"it is raining\".find(\"g\")"
   ]
  },
  {
   "cell_type": "code",
   "execution_count": 67,
   "id": "3ae23d24-b840-481c-869c-0246c156901c",
   "metadata": {},
   "outputs": [
    {
     "data": {
      "text/plain": [
       "6"
      ]
     },
     "execution_count": 67,
     "metadata": {},
     "output_type": "execute_result"
    }
   ],
   "source": [
    "\"it is raining\".find(\"raining\")\n"
   ]
  },
  {
   "cell_type": "code",
   "execution_count": 68,
   "id": "0b497fac-dae7-4bb2-bb98-a464fa6d4312",
   "metadata": {},
   "outputs": [
    {
     "data": {
      "text/plain": [
       "-1"
      ]
     },
     "execution_count": 68,
     "metadata": {},
     "output_type": "execute_result"
    }
   ],
   "source": [
    "\"it is raining\".find(\"x\")"
   ]
  },
  {
   "cell_type": "code",
   "execution_count": 69,
   "id": "82a43bdd-91f1-4d89-af8e-2827d0422830",
   "metadata": {},
   "outputs": [
    {
     "data": {
      "text/plain": [
       "6"
      ]
     },
     "execution_count": 69,
     "metadata": {},
     "output_type": "execute_result"
    }
   ],
   "source": [
    "\"it is raining\".index(\"raining\")"
   ]
  },
  {
   "cell_type": "code",
   "execution_count": 70,
   "id": "e335f80c-0a31-446e-9cfe-ae3bab091881",
   "metadata": {},
   "outputs": [
    {
     "ename": "ValueError",
     "evalue": "substring not found",
     "output_type": "error",
     "traceback": [
      "\u001b[1;31m---------------------------------------------------------------------------\u001b[0m",
      "\u001b[1;31mValueError\u001b[0m                                Traceback (most recent call last)",
      "Cell \u001b[1;32mIn[70], line 1\u001b[0m\n\u001b[1;32m----> 1\u001b[0m \u001b[38;5;124m\"\u001b[39m\u001b[38;5;124mit is raining\u001b[39m\u001b[38;5;124m\"\u001b[39m\u001b[38;5;241m.\u001b[39mindex(\u001b[38;5;124m\"\u001b[39m\u001b[38;5;124mx\u001b[39m\u001b[38;5;124m\"\u001b[39m)\n",
      "\u001b[1;31mValueError\u001b[0m: substring not found"
     ]
    }
   ],
   "source": [
    "\"it is raining\".index(\"x\")"
   ]
  },
  {
   "cell_type": "markdown",
   "id": "4397c94c-519c-4da4-a3a4-02ebc1d313de",
   "metadata": {},
   "source": [
    "5. endswith/startswith"
   ]
  },
  {
   "cell_type": "code",
   "execution_count": 71,
   "id": "90ea5042-c38d-46f3-bed9-b9e3e5884642",
   "metadata": {},
   "outputs": [
    {
     "data": {
      "text/plain": [
       "True"
      ]
     },
     "execution_count": 71,
     "metadata": {},
     "output_type": "execute_result"
    }
   ],
   "source": [
    "\"it is raining\".endswith(\"ing\")"
   ]
  },
  {
   "cell_type": "code",
   "execution_count": 72,
   "id": "40aabc26-eb1f-48c7-9a9f-c412e1ba96ae",
   "metadata": {},
   "outputs": [
    {
     "data": {
      "text/plain": [
       "False"
      ]
     },
     "execution_count": 72,
     "metadata": {},
     "output_type": "execute_result"
    }
   ],
   "source": [
    "\"it is raining\".endswith(\"ingf\")"
   ]
  },
  {
   "cell_type": "code",
   "execution_count": 73,
   "id": "764cfb98-c0f1-401f-982d-89dc03af6900",
   "metadata": {},
   "outputs": [
    {
     "data": {
      "text/plain": [
       "True"
      ]
     },
     "execution_count": 73,
     "metadata": {},
     "output_type": "execute_result"
    }
   ],
   "source": [
    "\"it is raining\".startswith(\"it\")"
   ]
  },
  {
   "cell_type": "markdown",
   "id": "a712549d-4922-470f-84b9-330f6d8f1b41",
   "metadata": {},
   "source": [
    "6. format"
   ]
  },
  {
   "cell_type": "code",
   "execution_count": 74,
   "id": "df61553d-680f-46ea-ad2c-a509e1faf080",
   "metadata": {},
   "outputs": [
    {
     "data": {
      "text/plain": [
       "'Hello my name is Saurabh and I am 22'"
      ]
     },
     "execution_count": 74,
     "metadata": {},
     "output_type": "execute_result"
    }
   ],
   "source": [
    "\"Hello my name is {} and I am {}\".format(\"Saurabh\", 22)"
   ]
  },
  {
   "cell_type": "code",
   "execution_count": 75,
   "id": "b1d80d92-8fb1-4f76-83e6-3f608427102d",
   "metadata": {},
   "outputs": [
    {
     "data": {
      "text/plain": [
       "'Hello my name is 22 and I am Saurabh'"
      ]
     },
     "execution_count": 75,
     "metadata": {},
     "output_type": "execute_result"
    }
   ],
   "source": [
    "\"Hello my name is {1} and I am {0}\".format(\"Saurabh\", 22)"
   ]
  },
  {
   "cell_type": "code",
   "execution_count": 76,
   "id": "262fb73b-7541-4351-9550-33563e1a6cbc",
   "metadata": {},
   "outputs": [
    {
     "data": {
      "text/plain": [
       "'Hello my name is Saurabh and I am 22'"
      ]
     },
     "execution_count": 76,
     "metadata": {},
     "output_type": "execute_result"
    }
   ],
   "source": [
    "\"Hello my name is {name} and I am {age}\".format(name = \"Saurabh\", age = 22)"
   ]
  },
  {
   "cell_type": "code",
   "execution_count": 79,
   "id": "0262fad1-d970-4907-b6d5-2e501d763aba",
   "metadata": {},
   "outputs": [
    {
     "data": {
      "text/plain": [
       "'Hello my name is Saurabh and I am 45'"
      ]
     },
     "execution_count": 79,
     "metadata": {},
     "output_type": "execute_result"
    }
   ],
   "source": [
    "\"Hello my name is {name} and I am {age}\".format(name = \"Saurabh\", age = 45)"
   ]
  },
  {
   "cell_type": "markdown",
   "id": "ce881486-1bbc-4068-9ac1-b732be37de9c",
   "metadata": {},
   "source": [
    "7. isalnum/isalpha/isdecimal/isdigit/isidentifier\n"
   ]
  },
  {
   "cell_type": "code",
   "execution_count": 80,
   "id": "fe3fa555-8b6d-424e-8be1-9b6f5c933552",
   "metadata": {},
   "outputs": [
    {
     "data": {
      "text/plain": [
       "True"
      ]
     },
     "execution_count": 80,
     "metadata": {},
     "output_type": "execute_result"
    }
   ],
   "source": [
    "\"Flat20\".isalnum()"
   ]
  },
  {
   "cell_type": "code",
   "execution_count": 81,
   "id": "5071e781-81c1-437e-9b07-09aa78efa26d",
   "metadata": {},
   "outputs": [
    {
     "data": {
      "text/plain": [
       "False"
      ]
     },
     "execution_count": 81,
     "metadata": {},
     "output_type": "execute_result"
    }
   ],
   "source": [
    "\"Flat20&\".isalnum()"
   ]
  },
  {
   "cell_type": "code",
   "execution_count": 84,
   "id": "bb4b110e-dc33-45e3-877d-5a4673c65c1e",
   "metadata": {},
   "outputs": [
    {
     "data": {
      "text/plain": [
       "True"
      ]
     },
     "execution_count": 84,
     "metadata": {},
     "output_type": "execute_result"
    }
   ],
   "source": [
    "\"FLAT\".isalnum()"
   ]
  },
  {
   "cell_type": "code",
   "execution_count": 85,
   "id": "2c62de6f-e62d-4ff8-80cd-ef69bedf3e49",
   "metadata": {},
   "outputs": [
    {
     "data": {
      "text/plain": [
       "False"
      ]
     },
     "execution_count": 85,
     "metadata": {},
     "output_type": "execute_result"
    }
   ],
   "source": [
    "\"FLat20\".isalpha()"
   ]
  },
  {
   "cell_type": "code",
   "execution_count": 86,
   "id": "4a83e343-be77-4034-ae44-7fd0dcb1d316",
   "metadata": {},
   "outputs": [
    {
     "data": {
      "text/plain": [
       "False"
      ]
     },
     "execution_count": 86,
     "metadata": {},
     "output_type": "execute_result"
    }
   ],
   "source": [
    "\"20A\".isalpha()"
   ]
  },
  {
   "cell_type": "code",
   "execution_count": 87,
   "id": "59ee7307-2c2e-46a7-ba08-97311a5f73af",
   "metadata": {},
   "outputs": [
    {
     "data": {
      "text/plain": [
       "True"
      ]
     },
     "execution_count": 87,
     "metadata": {},
     "output_type": "execute_result"
    }
   ],
   "source": [
    "    \"20\".isdigit()"
   ]
  },
  {
   "cell_type": "code",
   "execution_count": 88,
   "id": "bcb615cf-c385-4680-815b-05b1b968aff6",
   "metadata": {},
   "outputs": [
    {
     "data": {
      "text/plain": [
       "False"
      ]
     },
     "execution_count": 88,
     "metadata": {},
     "output_type": "execute_result"
    }
   ],
   "source": [
    "\"Hello World\".isidentifier()"
   ]
  },
  {
   "cell_type": "code",
   "execution_count": 89,
   "id": "00d2ec0a-83a5-4583-b28d-a6375e7877be",
   "metadata": {},
   "outputs": [
    {
     "data": {
      "text/plain": [
       "True"
      ]
     },
     "execution_count": 89,
     "metadata": {},
     "output_type": "execute_result"
    }
   ],
   "source": [
    "\"Hello_World\".isidentifier()"
   ]
  },
  {
   "cell_type": "markdown",
   "id": "101a542d-9a9e-4378-a7d9-cbce54fa3770",
   "metadata": {},
   "source": [
    "8. Split"
   ]
  },
  {
   "cell_type": "code",
   "execution_count": 90,
   "id": "a20c38d1-ccd0-4158-9ffb-6964f7fed91f",
   "metadata": {},
   "outputs": [
    {
     "data": {
      "text/plain": [
       "['who', 'is', 'the', 'pm', 'of', 'india']"
      ]
     },
     "execution_count": 90,
     "metadata": {},
     "output_type": "execute_result"
    }
   ],
   "source": [
    "\"who is the pm of india\".split()"
   ]
  },
  {
   "cell_type": "code",
   "execution_count": 91,
   "id": "66fd1afd-c92c-4748-ae2a-548a1a77a638",
   "metadata": {},
   "outputs": [
    {
     "data": {
      "text/plain": [
       "['who is the ', ' of india']"
      ]
     },
     "execution_count": 91,
     "metadata": {},
     "output_type": "execute_result"
    }
   ],
   "source": [
    "\"who is the pm of india\".split(\"pm\")"
   ]
  },
  {
   "cell_type": "code",
   "execution_count": 92,
   "id": "54809ac2-297b-42d1-82bc-183790cf285e",
   "metadata": {},
   "outputs": [
    {
     "data": {
      "text/plain": [
       "['who ', 's the pm of ', 'nd', 'a']"
      ]
     },
     "execution_count": 92,
     "metadata": {},
     "output_type": "execute_result"
    }
   ],
   "source": [
    "\n",
    "\"who is the pm of india\".split(\"i\")"
   ]
  },
  {
   "cell_type": "code",
   "execution_count": 93,
   "id": "5df7f567-825a-4c3a-9ea4-86a7f7cb643c",
   "metadata": {},
   "outputs": [
    {
     "data": {
      "text/plain": [
       "['who is the pm of india']"
      ]
     },
     "execution_count": 93,
     "metadata": {},
     "output_type": "execute_result"
    }
   ],
   "source": [
    "\"who is the pm of india\".split(\"x\")\n"
   ]
  },
  {
   "cell_type": "markdown",
   "id": "75f8e278-2c02-4b95-997a-9d373e4a6dac",
   "metadata": {},
   "source": [
    "9. Join"
   ]
  },
  {
   "cell_type": "code",
   "execution_count": null,
   "id": "68df0f39-2d2e-4981-85e2-c20dfdb0ab54",
   "metadata": {},
   "outputs": [],
   "source": []
  }
 ],
 "metadata": {
  "kernelspec": {
   "display_name": "Python 3 (ipykernel)",
   "language": "python",
   "name": "python3"
  },
  "language_info": {
   "codemirror_mode": {
    "name": "ipython",
    "version": 3
   },
   "file_extension": ".py",
   "mimetype": "text/x-python",
   "name": "python",
   "nbconvert_exporter": "python",
   "pygments_lexer": "ipython3",
   "version": "3.12.7"
  }
 },
 "nbformat": 4,
 "nbformat_minor": 5
}

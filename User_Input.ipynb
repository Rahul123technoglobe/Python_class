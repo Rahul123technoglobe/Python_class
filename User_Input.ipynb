{
 "cells": [
  {
   "cell_type": "markdown",
   "id": "6f1fe77d-7dbb-491d-9aef-b778f8450174",
   "metadata": {},
   "source": [
    "User Input"
   ]
  },
  {
   "cell_type": "code",
   "execution_count": 1,
   "id": "b1a3bedb-9845-4fc7-9c2a-6bffd0d9769f",
   "metadata": {},
   "outputs": [
    {
     "name": "stdin",
     "output_type": "stream",
     "text": [
      "enter your mail rahulraj01935@gmail.com.\n"
     ]
    },
    {
     "data": {
      "text/plain": [
       "'rahulraj01935@gmail.com.'"
      ]
     },
     "execution_count": 1,
     "metadata": {},
     "output_type": "execute_result"
    }
   ],
   "source": [
    "input(\"enter your mail\")"
   ]
  },
  {
   "cell_type": "code",
   "execution_count": 4,
   "id": "76850fb2-8e50-425c-a37c-f245f6d4a97a",
   "metadata": {},
   "outputs": [
    {
     "name": "stdin",
     "output_type": "stream",
     "text": [
      "Submit your current location House no.6,Gali no9, east chawala colony\n"
     ]
    },
    {
     "data": {
      "text/plain": [
       "'House no.6,Gali no9, east chawala colony'"
      ]
     },
     "execution_count": 4,
     "metadata": {},
     "output_type": "execute_result"
    }
   ],
   "source": [
    "input(\"Submit your current location\")"
   ]
  },
  {
   "cell_type": "code",
   "execution_count": 7,
   "id": "972dd244-e212-4355-911d-db69d7b8ef50",
   "metadata": {},
   "outputs": [
    {
     "ename": "SyntaxError",
     "evalue": "invalid syntax (3340395646.py, line 4)",
     "output_type": "error",
     "traceback": [
      "\u001b[1;36m  Cell \u001b[1;32mIn[7], line 4\u001b[1;36m\u001b[0m\n\u001b[1;33m    Mobile no= input(\"enter your current Number\")\u001b[0m\n\u001b[1;37m           ^\u001b[0m\n\u001b[1;31mSyntaxError\u001b[0m\u001b[1;31m:\u001b[0m invalid syntax\n"
     ]
    }
   ],
   "source": [
    "Name= input(\"enter your name\")\n",
    "Age= input(\"enter your Age\")\n",
    "Mail= input(\"submut your Email id \")\n",
    "Mobile no= input(\"enter your current Number\")\n",
    "\n"
   ]
  },
  {
   "cell_type": "code",
   "execution_count": 9,
   "id": "c696e03f-6f9c-4b3a-b495-948782476811",
   "metadata": {},
   "outputs": [
    {
     "name": "stdin",
     "output_type": "stream",
     "text": [
      "enter your name Rahul Raj\n",
      "enter your Age 20\n",
      "submut your Email id  rahulraj01935@gmail.com\n",
      "enter your current Number 9315470106\n"
     ]
    }
   ],
   "source": [
    "Name= input(\"enter your name\")\n",
    "Age= input(\"enter your Age\")\n",
    "Mail= input(\"submut your Email id \")\n",
    "Mobile_no= input(\"enter your current Number\")"
   ]
  },
  {
   "cell_type": "code",
   "execution_count": 10,
   "id": "811739c3-d49b-4347-a019-d254e5eaab99",
   "metadata": {},
   "outputs": [],
   "source": [
    "a=10\n",
    "b=10\n",
    "c=30"
   ]
  },
  {
   "cell_type": "code",
   "execution_count": 11,
   "id": "1e8f4bd0-14ef-4e57-a0c1-1fd724deeb9e",
   "metadata": {},
   "outputs": [
    {
     "data": {
      "text/plain": [
       "50"
      ]
     },
     "execution_count": 11,
     "metadata": {},
     "output_type": "execute_result"
    }
   ],
   "source": [
    "a+b+c"
   ]
  },
  {
   "cell_type": "code",
   "execution_count": 12,
   "id": "3d8acae4-31b5-4ae1-9b98-90b1f79aedb8",
   "metadata": {},
   "outputs": [
    {
     "name": "stdout",
     "output_type": "stream",
     "text": [
      "-30\n"
     ]
    }
   ],
   "source": [
    "print(a-b-c)"
   ]
  },
  {
   "cell_type": "code",
   "execution_count": 13,
   "id": "138c4cb5-a1a9-4ad5-90c8-85962cc35677",
   "metadata": {},
   "outputs": [],
   "source": [
    "a=10\n",
    "b=a+10"
   ]
  },
  {
   "cell_type": "code",
   "execution_count": 14,
   "id": "68f7711f-d8bc-418e-923b-5327436a69c4",
   "metadata": {},
   "outputs": [
    {
     "name": "stdout",
     "output_type": "stream",
     "text": [
      "20\n"
     ]
    }
   ],
   "source": [
    "print(b)"
   ]
  },
  {
   "cell_type": "code",
   "execution_count": 15,
   "id": "1fff15c7-d5fa-4480-b9f8-5d0a47fbb261",
   "metadata": {},
   "outputs": [],
   "source": [
    "v=25\n",
    "c=v+25"
   ]
  },
  {
   "cell_type": "code",
   "execution_count": 16,
   "id": "408a5b75-14e0-42ae-8570-e6e12fc60340",
   "metadata": {},
   "outputs": [
    {
     "name": "stdout",
     "output_type": "stream",
     "text": [
      "50\n"
     ]
    }
   ],
   "source": [
    "print(c)"
   ]
  },
  {
   "cell_type": "code",
   "execution_count": 17,
   "id": "3ea3c953-3694-466e-a6a9-88ac96c50349",
   "metadata": {},
   "outputs": [],
   "source": [
    "d=50\n",
    "p=d-40"
   ]
  },
  {
   "cell_type": "code",
   "execution_count": 18,
   "id": "2ef293d5-e71e-4d1f-b8a2-b2dd00245413",
   "metadata": {},
   "outputs": [
    {
     "name": "stdout",
     "output_type": "stream",
     "text": [
      "10\n"
     ]
    }
   ],
   "source": [
    "print(p)"
   ]
  },
  {
   "cell_type": "code",
   "execution_count": 19,
   "id": "097cc760-0e2e-4ded-aee6-ca318201ab48",
   "metadata": {},
   "outputs": [],
   "source": [
    "my_first_value=10\n",
    "my_second_value=20"
   ]
  },
  {
   "cell_type": "code",
   "execution_count": 20,
   "id": "72469158-cc6c-40d0-9a21-c2e04c9f7c06",
   "metadata": {},
   "outputs": [
    {
     "name": "stdout",
     "output_type": "stream",
     "text": [
      "30\n"
     ]
    }
   ],
   "source": [
    "print(my_first_value+my_second_value)"
   ]
  },
  {
   "cell_type": "code",
   "execution_count": 21,
   "id": "402e65f6-18ec-447f-aaf7-1e7c588c59bf",
   "metadata": {},
   "outputs": [],
   "source": [
    "my_name_raju=50\n",
    "my_name_ramu=25"
   ]
  },
  {
   "cell_type": "code",
   "execution_count": 22,
   "id": "cc2da14c-edb8-4a4b-9bd6-71946b655f05",
   "metadata": {},
   "outputs": [
    {
     "name": "stdout",
     "output_type": "stream",
     "text": [
      "25\n"
     ]
    }
   ],
   "source": [
    "print(my_name_raju-my_name_ramu)"
   ]
  },
  {
   "cell_type": "code",
   "execution_count": 23,
   "id": "c963d873-9781-438d-8def-cb42be5026f1",
   "metadata": {},
   "outputs": [],
   "source": [
    "Apple=300\n",
    "Mango=200"
   ]
  },
  {
   "cell_type": "code",
   "execution_count": 24,
   "id": "da419984-bf3d-446e-9dfe-09ca6c904dd6",
   "metadata": {},
   "outputs": [
    {
     "name": "stdout",
     "output_type": "stream",
     "text": [
      "100\n"
     ]
    }
   ],
   "source": [
    "print(Apple-Mango)"
   ]
  },
  {
   "cell_type": "code",
   "execution_count": 25,
   "id": "4087b14d-f347-4663-82f0-7dca72070a37",
   "metadata": {},
   "outputs": [
    {
     "data": {
      "text/plain": [
       "60000"
      ]
     },
     "execution_count": 25,
     "metadata": {},
     "output_type": "execute_result"
    }
   ],
   "source": [
    "Apple*Mango"
   ]
  },
  {
   "cell_type": "code",
   "execution_count": 26,
   "id": "dde9cdbc-449e-48e5-8a0e-a022b2becc2c",
   "metadata": {},
   "outputs": [
    {
     "data": {
      "text/plain": [
       "500"
      ]
     },
     "execution_count": 26,
     "metadata": {},
     "output_type": "execute_result"
    }
   ],
   "source": [
    "Apple+Mango"
   ]
  },
  {
   "cell_type": "code",
   "execution_count": 27,
   "id": "a368a98a-1018-4d47-97b8-67ae8b2b5471",
   "metadata": {},
   "outputs": [],
   "source": [
    "ram=200\n",
    "raj=ram*2"
   ]
  },
  {
   "cell_type": "code",
   "execution_count": 28,
   "id": "27d5ef75-f55b-4727-9305-d62a4ba6069d",
   "metadata": {},
   "outputs": [
    {
     "name": "stdout",
     "output_type": "stream",
     "text": [
      "400\n"
     ]
    }
   ],
   "source": [
    "print(raj)"
   ]
  },
  {
   "cell_type": "code",
   "execution_count": 29,
   "id": "1ba09d4e-dd8d-4fea-a74b-b2ec83b6b366",
   "metadata": {},
   "outputs": [
    {
     "data": {
      "text/plain": [
       "400"
      ]
     },
     "execution_count": 29,
     "metadata": {},
     "output_type": "execute_result"
    }
   ],
   "source": [
    "raj"
   ]
  },
  {
   "cell_type": "code",
   "execution_count": 30,
   "id": "96f1e7ae-51fd-49b9-a772-e2ecb9aac7d8",
   "metadata": {},
   "outputs": [
    {
     "data": {
      "text/plain": [
       "600"
      ]
     },
     "execution_count": 30,
     "metadata": {},
     "output_type": "execute_result"
    }
   ],
   "source": [
    "raj+ram"
   ]
  },
  {
   "cell_type": "code",
   "execution_count": null,
   "id": "e4a5b910-8c4b-41e6-9fd3-1c06a0ac5b73",
   "metadata": {},
   "outputs": [],
   "source": []
  }
 ],
 "metadata": {
  "kernelspec": {
   "display_name": "Python 3 (ipykernel)",
   "language": "python",
   "name": "python3"
  },
  "language_info": {
   "codemirror_mode": {
    "name": "ipython",
    "version": 3
   },
   "file_extension": ".py",
   "mimetype": "text/x-python",
   "name": "python",
   "nbconvert_exporter": "python",
   "pygments_lexer": "ipython3",
   "version": "3.12.7"
  }
 },
 "nbformat": 4,
 "nbformat_minor": 5
}

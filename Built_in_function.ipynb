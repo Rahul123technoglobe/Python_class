{
 "cells": [
  {
   "cell_type": "markdown",
   "id": "070223f3-bc5d-47f4-a98b-004ae4e946c7",
   "metadata": {},
   "source": [
    "Built_in_function\n"
   ]
  },
  {
   "cell_type": "code",
   "execution_count": 1,
   "id": "2242f7e7-3f09-4238-82ca-69ab41857a4e",
   "metadata": {},
   "outputs": [
    {
     "name": "stdout",
     "output_type": "stream",
     "text": [
      "HELLO\n"
     ]
    }
   ],
   "source": [
    "#1)print\n",
    "print(\"HELLO\")"
   ]
  },
  {
   "cell_type": "code",
   "execution_count": 3,
   "id": "d133f64d-a3f2-4e26-8ce0-d7f0690bc903",
   "metadata": {},
   "outputs": [
    {
     "name": "stdin",
     "output_type": "stream",
     "text": [
      "name of Student Rahul Raj\n"
     ]
    },
    {
     "data": {
      "text/plain": [
       "'Rahul Raj'"
      ]
     },
     "execution_count": 3,
     "metadata": {},
     "output_type": "execute_result"
    }
   ],
   "source": [
    "#2)input\n",
    "input(\"name of Student\")"
   ]
  },
  {
   "cell_type": "code",
   "execution_count": 4,
   "id": "d4b99eb3-2cf3-4822-a64a-a4cab280e326",
   "metadata": {},
   "outputs": [
    {
     "data": {
      "text/plain": [
       "int"
      ]
     },
     "execution_count": 4,
     "metadata": {},
     "output_type": "execute_result"
    }
   ],
   "source": [
    "#3)Type \n",
    "a=3\n",
    "type(a)"
   ]
  },
  {
   "cell_type": "code",
   "execution_count": 5,
   "id": "ca1ff6ed-e152-4837-bcca-e157430af662",
   "metadata": {},
   "outputs": [
    {
     "data": {
      "text/plain": [
       "float"
      ]
     },
     "execution_count": 5,
     "metadata": {},
     "output_type": "execute_result"
    }
   ],
   "source": [
    "b=3.5\n",
    "type(b)"
   ]
  },
  {
   "cell_type": "code",
   "execution_count": 6,
   "id": "035f9f6b-7f86-45d3-be15-dc7a7ad3b251",
   "metadata": {},
   "outputs": [
    {
     "data": {
      "text/plain": [
       "bool"
      ]
     },
     "execution_count": 6,
     "metadata": {},
     "output_type": "execute_result"
    }
   ],
   "source": [
    "c=True\n",
    "type(c)"
   ]
  },
  {
   "cell_type": "code",
   "execution_count": 7,
   "id": "bba61143-a011-40a5-aaaa-d45bd9512014",
   "metadata": {},
   "outputs": [
    {
     "data": {
      "text/plain": [
       "5"
      ]
     },
     "execution_count": 7,
     "metadata": {},
     "output_type": "execute_result"
    }
   ],
   "source": [
    "#4)\n",
    "int(5)\n",
    "## float\n",
    "# str\n",
    "# list\n",
    "# tuple"
   ]
  },
  {
   "cell_type": "code",
   "execution_count": 8,
   "id": "8cf936e4-a0a1-4e5d-a1cc-9aae3da79049",
   "metadata": {},
   "outputs": [
    {
     "data": {
      "text/plain": [
       "4"
      ]
     },
     "execution_count": 8,
     "metadata": {},
     "output_type": "execute_result"
    }
   ],
   "source": [
    "#5)abs\n",
    "abs(-4)"
   ]
  },
  {
   "cell_type": "code",
   "execution_count": 9,
   "id": "a5db061b-ca85-4cee-a5ff-45b1803d613e",
   "metadata": {},
   "outputs": [
    {
     "data": {
      "text/plain": [
       "16"
      ]
     },
     "execution_count": 9,
     "metadata": {},
     "output_type": "execute_result"
    }
   ],
   "source": [
    "#6)pow\n",
    "pow(4,2)"
   ]
  },
  {
   "cell_type": "code",
   "execution_count": 10,
   "id": "7e7529a7-3d48-4d8e-81f6-6df2bbab300c",
   "metadata": {},
   "outputs": [
    {
     "data": {
      "text/plain": [
       "2.171379806067123e-16"
      ]
     },
     "execution_count": 10,
     "metadata": {},
     "output_type": "execute_result"
    }
   ],
   "source": [
    "pow(55,-9)"
   ]
  },
  {
   "cell_type": "code",
   "execution_count": 15,
   "id": "1a4ef3fa-3eff-4db6-b994-79d89451615b",
   "metadata": {},
   "outputs": [
    {
     "data": {
      "text/plain": [
       "22"
      ]
     },
     "execution_count": 15,
     "metadata": {},
     "output_type": "execute_result"
    }
   ],
   "source": [
    "#7)Min,Max\n",
    "min([22,33,55,66])"
   ]
  },
  {
   "cell_type": "code",
   "execution_count": 16,
   "id": "72b45884-f287-49b1-88f4-ae61bb94108f",
   "metadata": {},
   "outputs": [
    {
     "data": {
      "text/plain": [
       "99"
      ]
     },
     "execution_count": 16,
     "metadata": {},
     "output_type": "execute_result"
    }
   ],
   "source": [
    "max([99,84,43,87,23])"
   ]
  },
  {
   "cell_type": "code",
   "execution_count": 17,
   "id": "4f4d946f-afc8-42ae-8a42-02038a58d440",
   "metadata": {},
   "outputs": [
    {
     "data": {
      "text/plain": [
       "'D'"
      ]
     },
     "execution_count": 17,
     "metadata": {},
     "output_type": "execute_result"
    }
   ],
   "source": [
    "min(\"Delhi\")"
   ]
  },
  {
   "cell_type": "code",
   "execution_count": 18,
   "id": "932a298f-ba68-4ea4-b289-23b5f65e9719",
   "metadata": {},
   "outputs": [
    {
     "data": {
      "text/plain": [
       "'y'"
      ]
     },
     "execution_count": 18,
     "metadata": {},
     "output_type": "execute_result"
    }
   ],
   "source": [
    "max(\"Haryana\")"
   ]
  },
  {
   "cell_type": "code",
   "execution_count": 19,
   "id": "99930180-6575-46a2-9244-facad527b8e4",
   "metadata": {},
   "outputs": [
    {
     "name": "stdout",
     "output_type": "stream",
     "text": [
      "3.375\n"
     ]
    },
    {
     "data": {
      "text/plain": [
       "3"
      ]
     },
     "execution_count": 19,
     "metadata": {},
     "output_type": "execute_result"
    }
   ],
   "source": [
    "#8)Round\n",
    "c=27/8\n",
    "print(c)\n",
    "round(c)"
   ]
  },
  {
   "cell_type": "code",
   "execution_count": 20,
   "id": "384f3de7-dbac-482e-b6d8-0e1e87010f37",
   "metadata": {},
   "outputs": [
    {
     "data": {
      "text/plain": [
       "46"
      ]
     },
     "execution_count": 20,
     "metadata": {},
     "output_type": "execute_result"
    }
   ],
   "source": [
    "round(45.87)"
   ]
  },
  {
   "cell_type": "code",
   "execution_count": 22,
   "id": "6727fe3e-4127-49f5-9e8e-d599619bb3f9",
   "metadata": {},
   "outputs": [
    {
     "data": {
      "text/plain": [
       "3"
      ]
     },
     "execution_count": 22,
     "metadata": {},
     "output_type": "execute_result"
    }
   ],
   "source": [
    "round(a,27)"
   ]
  },
  {
   "cell_type": "code",
   "execution_count": 23,
   "id": "1a7f96f9-dbe7-49dd-862f-4f55f4a2ff79",
   "metadata": {},
   "outputs": [
    {
     "data": {
      "text/plain": [
       "7"
      ]
     },
     "execution_count": 23,
     "metadata": {},
     "output_type": "execute_result"
    }
   ],
   "source": [
    "#9)Len\n",
    "len('kolkata')"
   ]
  },
  {
   "cell_type": "code",
   "execution_count": 24,
   "id": "35ebde09-6e46-4357-a46f-c4383262ad8d",
   "metadata": {},
   "outputs": [
    {
     "data": {
      "text/plain": [
       "6"
      ]
     },
     "execution_count": 24,
     "metadata": {},
     "output_type": "execute_result"
    }
   ],
   "source": [
    "len([1,2,3,4,5,6])"
   ]
  },
  {
   "cell_type": "code",
   "execution_count": 30,
   "id": "f6ff3086-1d7b-45af-95c2-7b807b67ca7c",
   "metadata": {},
   "outputs": [
    {
     "data": {
      "text/plain": [
       "346"
      ]
     },
     "execution_count": 30,
     "metadata": {},
     "output_type": "execute_result"
    }
   ],
   "source": [
    "#10)sum\n",
    "sum([3,5,64,75,76,79,44])"
   ]
  },
  {
   "cell_type": "code",
   "execution_count": 37,
   "id": "5bde88d9-aaba-4bb4-bcaa-e4da0ba85fbb",
   "metadata": {},
   "outputs": [
    {
     "data": {
      "text/plain": [
       "2741363402160"
      ]
     },
     "execution_count": 37,
     "metadata": {},
     "output_type": "execute_result"
    }
   ],
   "source": [
    "#11)ID\n",
    "b=-99\n",
    "id(b)"
   ]
  },
  {
   "cell_type": "code",
   "execution_count": 38,
   "id": "67e655d0-8f8d-43b2-adf6-e0218e4ab803",
   "metadata": {},
   "outputs": [
    {
     "data": {
      "text/plain": [
       "65"
      ]
     },
     "execution_count": 38,
     "metadata": {},
     "output_type": "execute_result"
    }
   ],
   "source": [
    "#12ord\n",
    "ord(\"A\")"
   ]
  },
  {
   "cell_type": "code",
   "execution_count": 39,
   "id": "d08a6907-5b03-4a97-8d09-0804c448ef6c",
   "metadata": {},
   "outputs": [
    {
     "name": "stdout",
     "output_type": "stream",
     "text": [
      "Help on built-in function print in module builtins:\n",
      "\n",
      "print(*args, sep=' ', end='\\n', file=None, flush=False)\n",
      "    Prints the values to a stream, or to sys.stdout by default.\n",
      "\n",
      "    sep\n",
      "      string inserted between values, default a space.\n",
      "    end\n",
      "      string appended after the last value, default a newline.\n",
      "    file\n",
      "      a file-like object (stream); defaults to the current sys.stdout.\n",
      "    flush\n",
      "      whether to forcibly flush the stream.\n",
      "\n"
     ]
    }
   ],
   "source": [
    "#13)help\n",
    "help(print)"
   ]
  },
  {
   "cell_type": "code",
   "execution_count": 43,
   "id": "51baeb3e-94bb-44dd-a975-45be46613cec",
   "metadata": {},
   "outputs": [
    {
     "name": "stdout",
     "output_type": "stream",
     "text": [
      "Help on built-in function sum in module builtins:\n",
      "\n",
      "sum(iterable, /, start=0)\n",
      "    Return the sum of a 'start' value (default: 0) plus an iterable of numbers\n",
      "\n",
      "    When the iterable is empty, return the start value.\n",
      "    This function is intended specifically for use with numeric values and may\n",
      "    reject non-numeric types.\n",
      "\n"
     ]
    }
   ],
   "source": [
    "help(sum)"
   ]
  },
  {
   "cell_type": "code",
   "execution_count": 44,
   "id": "1a6b19d5-d267-4c30-9d32-9a37980d5bb0",
   "metadata": {},
   "outputs": [
    {
     "name": "stdout",
     "output_type": "stream",
     "text": [
      "Help on built-in function abs in module builtins:\n",
      "\n",
      "abs(x, /)\n",
      "    Return the absolute value of the argument.\n",
      "\n"
     ]
    }
   ],
   "source": [
    "help(abs)"
   ]
  },
  {
   "cell_type": "code",
   "execution_count": null,
   "id": "7e28131a-b845-4f5a-8aa6-bc8b3a5fc608",
   "metadata": {},
   "outputs": [],
   "source": []
  }
 ],
 "metadata": {
  "kernelspec": {
   "display_name": "Python 3 (ipykernel)",
   "language": "python",
   "name": "python3"
  },
  "language_info": {
   "codemirror_mode": {
    "name": "ipython",
    "version": 3
   },
   "file_extension": ".py",
   "mimetype": "text/x-python",
   "name": "python",
   "nbconvert_exporter": "python",
   "pygments_lexer": "ipython3",
   "version": "3.12.7"
  }
 },
 "nbformat": 4,
 "nbformat_minor": 5
}

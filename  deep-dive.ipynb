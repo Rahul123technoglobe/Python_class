{
 "cells": [
  {
   "cell_type": "markdown",
   "id": "c6be3507-4fb3-473d-a3ad-d0dacdaac688",
   "metadata": {},
   "source": [
    "#Variable and Memory References"
   ]
  },
  {
   "cell_type": "code",
   "execution_count": 88,
   "id": "f56b2d70-d22e-4ba8-8c2e-8dedaa41bc83",
   "metadata": {},
   "outputs": [],
   "source": [
    "a = 12"
   ]
  },
  {
   "cell_type": "code",
   "execution_count": 89,
   "id": "482bb5ff-1048-4259-bd68-228b6518c005",
   "metadata": {},
   "outputs": [],
   "source": [
    "c = 10"
   ]
  },
  {
   "cell_type": "code",
   "execution_count": 90,
   "id": "1e638637-8b9d-4d55-a59a-c777caa7cd46",
   "metadata": {},
   "outputs": [
    {
     "data": {
      "text/plain": [
       "140708024953624"
      ]
     },
     "execution_count": 90,
     "metadata": {},
     "output_type": "execute_result"
    }
   ],
   "source": [
    "id(a)"
   ]
  },
  {
   "cell_type": "code",
   "execution_count": 91,
   "id": "f5d9ad92-c413-44e0-82b5-1fe9fc005089",
   "metadata": {},
   "outputs": [
    {
     "data": {
      "text/plain": [
       "140708024953560"
      ]
     },
     "execution_count": 91,
     "metadata": {},
     "output_type": "execute_result"
    }
   ],
   "source": [
    "id(c)"
   ]
  },
  {
   "cell_type": "code",
   "execution_count": 92,
   "id": "bcff391a-0053-4c8e-b3e6-75d1a39bf106",
   "metadata": {},
   "outputs": [
    {
     "name": "stdout",
     "output_type": "stream",
     "text": [
      "140708024953624 140708024953560\n"
     ]
    }
   ],
   "source": [
    "print(id(a),id(c))"
   ]
  },
  {
   "cell_type": "code",
   "execution_count": 93,
   "id": "506bba88-3af1-4568-87ee-6b026604ce57",
   "metadata": {},
   "outputs": [
    {
     "name": "stdout",
     "output_type": "stream",
     "text": [
      "140708024954840 140708024954840\n",
      "140708024954200 140708024954840\n"
     ]
    }
   ],
   "source": [
    "a = 50\n",
    "b = a\n",
    "print(id(a),id(b))\n",
    "\n",
    "a = 30\n",
    "print(id(a),id(b))"
   ]
  },
  {
   "cell_type": "code",
   "execution_count": 94,
   "id": "b10b658b-2e19-4243-b646-ac095f80e2ce",
   "metadata": {},
   "outputs": [],
   "source": [
    "a = 30\n",
    "b = a"
   ]
  },
  {
   "cell_type": "code",
   "execution_count": 95,
   "id": "d3ee98c1-50bc-4fd4-ac1a-914e70241951",
   "metadata": {},
   "outputs": [
    {
     "data": {
      "text/plain": [
       "30"
      ]
     },
     "execution_count": 95,
     "metadata": {},
     "output_type": "execute_result"
    }
   ],
   "source": [
    "b"
   ]
  },
  {
   "cell_type": "code",
   "execution_count": 96,
   "id": "107d13fb-e438-40c3-845c-200537235bb3",
   "metadata": {},
   "outputs": [
    {
     "data": {
      "text/plain": [
       "140708024954200"
      ]
     },
     "execution_count": 96,
     "metadata": {},
     "output_type": "execute_result"
    }
   ],
   "source": [
    "id(b)"
   ]
  },
  {
   "cell_type": "code",
   "execution_count": 97,
   "id": "418d3176-306e-496a-9ce0-3766fdb3ea86",
   "metadata": {},
   "outputs": [
    {
     "data": {
      "text/plain": [
       "140708024954200"
      ]
     },
     "execution_count": 97,
     "metadata": {},
     "output_type": "execute_result"
    }
   ],
   "source": [
    "id(a)"
   ]
  },
  {
   "cell_type": "code",
   "execution_count": 98,
   "id": "04e0f866-8aa9-418d-8156-323bc2e55f02",
   "metadata": {},
   "outputs": [],
   "source": [
    "a = 20"
   ]
  },
  {
   "cell_type": "code",
   "execution_count": 99,
   "id": "015325b4-eb78-40c2-aa62-70c2b3a6db41",
   "metadata": {},
   "outputs": [
    {
     "name": "stdout",
     "output_type": "stream",
     "text": [
      "140708024953880 140708024954200\n"
     ]
    }
   ],
   "source": [
    "print(id(a),id(b))"
   ]
  },
  {
   "cell_type": "code",
   "execution_count": 100,
   "id": "88578f4e-6242-4715-83e8-2cdd1f54221e",
   "metadata": {},
   "outputs": [
    {
     "name": "stdout",
     "output_type": "stream",
     "text": [
      "[71, 432, 23, 42, 19]\n",
      "[1, 2, 3, 4, 5, [6, 7, 8, 9], 20]\n",
      "2174820063424 2174818666816\n"
     ]
    }
   ],
   "source": [
    "lama1=[71,432,23,42]\n",
    "lama2= list1\n",
    "lama1.append(19)\n",
    "\n",
    "print(lama1)\n",
    "print(lama2)\n",
    "\n",
    "print(id(lama1),id(lama2))"
   ]
  },
  {
   "cell_type": "code",
   "execution_count": 102,
   "id": "13ac1089-d52c-4061-a870-32ff3a47e22c",
   "metadata": {},
   "outputs": [
    {
     "name": "stdout",
     "output_type": "stream",
     "text": [
      "[1, 2, 3, 4, 5, [6, 7, 8, 9], 20]\n",
      "[1, 2, 3, 4, 5, [6, 7, 8, 9]]\n"
     ]
    }
   ],
   "source": [
    "list3 = copy.deepcopy(list1)\n",
    "list1.append(20)\n",
    "\n",
    "print(list1) \n",
    "print(list2)"
   ]
  },
  {
   "cell_type": "code",
   "execution_count": 103,
   "id": "5f9d1f01-c579-4720-aacb-2ed755ff1795",
   "metadata": {},
   "outputs": [
    {
     "name": "stdout",
     "output_type": "stream",
     "text": [
      "3\n",
      "2\n"
     ]
    }
   ],
   "source": [
    "import sys\n",
    "a = [1,2,3]\n",
    "b = a\n",
    "print(sys.getrefcount(a))\n",
    "\n",
    "del a\n",
    "print(sys.getrefcount(b))      "
   ]
  },
  {
   "cell_type": "code",
   "execution_count": 104,
   "id": "ff61cc63-9fcf-4744-a750-850f28b857c6",
   "metadata": {},
   "outputs": [],
   "source": [
    "क = [1,2,3,4,5]\n",
    "ख = क"
   ]
  },
  {
   "cell_type": "code",
   "execution_count": 105,
   "id": "1f65aad7-04a2-4dc7-85f9-29b5e0579962",
   "metadata": {},
   "outputs": [
    {
     "data": {
      "text/plain": [
       "[1, 2, 3, 4, 5]"
      ]
     },
     "execution_count": 105,
     "metadata": {},
     "output_type": "execute_result"
    }
   ],
   "source": [
    "क"
   ]
  },
  {
   "cell_type": "code",
   "execution_count": 106,
   "id": "5066c4cb-32eb-4243-8e2b-1fac161ad031",
   "metadata": {},
   "outputs": [
    {
     "name": "stdout",
     "output_type": "stream",
     "text": [
      "10\n"
     ]
    }
   ],
   "source": [
    "print(sys.getrefcount(क))"
   ]
  },
  {
   "cell_type": "code",
   "execution_count": null,
   "id": "8b991d9d-2e48-412d-88f8-2cd84b2082ea",
   "metadata": {},
   "outputs": [],
   "source": [
    "\n"
   ]
  },
  {
   "cell_type": "code",
   "execution_count": 107,
   "id": "3d3503ba-2173-4c2f-8945-843bf3b80e51",
   "metadata": {},
   "outputs": [
    {
     "name": "stdout",
     "output_type": "stream",
     "text": [
      "True\n"
     ]
    }
   ],
   "source": [
    "import gc\n",
    "\n",
    "print(gc.isenabled())"
   ]
  },
  {
   "cell_type": "code",
   "execution_count": 108,
   "id": "02c8161e-7833-4c44-b3bc-8b77eeffeaf3",
   "metadata": {},
   "outputs": [],
   "source": [
    "gc.disable()"
   ]
  },
  {
   "cell_type": "code",
   "execution_count": 109,
   "id": "47020564-0941-4bec-8315-7bdbd2d4db15",
   "metadata": {},
   "outputs": [],
   "source": [
    "gc.enable()"
   ]
  },
  {
   "cell_type": "code",
   "execution_count": 110,
   "id": "5b8db550-ade2-46d2-af6b-12811861b565",
   "metadata": {},
   "outputs": [
    {
     "data": {
      "text/plain": [
       "1136"
      ]
     },
     "execution_count": 110,
     "metadata": {},
     "output_type": "execute_result"
    }
   ],
   "source": [
    "gc.collect()"
   ]
  },
  {
   "cell_type": "code",
   "execution_count": 111,
   "id": "ecdb8ab9-1e0f-476f-a2a9-d7ab8e236133",
   "metadata": {},
   "outputs": [
    {
     "name": "stdout",
     "output_type": "stream",
     "text": [
      "True\n",
      "False\n",
      "True\n"
     ]
    }
   ],
   "source": [
    "a = [1, 2, 3]\n",
    "b = a\n",
    "c = [1, 2, 3]\n",
    "\n",
    "print(a == c)\n",
    "print(a is c)\n",
    "print(a is b)"
   ]
  },
  {
   "cell_type": "markdown",
   "id": "eba6a51b-6b45-4aac-b054-158a522a6b90",
   "metadata": {},
   "source": [
    "Quiz"
   ]
  },
  {
   "cell_type": "code",
   "execution_count": 112,
   "id": "fcc12ea0-7d80-427d-8988-df3f19a9d552",
   "metadata": {},
   "outputs": [],
   "source": [
    "#c) String"
   ]
  },
  {
   "cell_type": "code",
   "execution_count": 113,
   "id": "3d6d8833-ad46-4f23-953c-86a40f4e7f6e",
   "metadata": {},
   "outputs": [],
   "source": [
    "#b) (1, 2, [3, 4, 5])"
   ]
  },
  {
   "cell_type": "code",
   "execution_count": 114,
   "id": "e0cc9b27-9a7a-48fb-94cf-e4e688594a1f",
   "metadata": {},
   "outputs": [],
   "source": [
    "#b) Check the object's type"
   ]
  },
  {
   "cell_type": "code",
   "execution_count": 115,
   "id": "57e4f872-df3a-4e93-ac98-c4615e596e13",
   "metadata": {},
   "outputs": [],
   "source": [
    "#b) Set"
   ]
  },
  {
   "cell_type": "code",
   "execution_count": 116,
   "id": "a4702ca7-6b49-44a5-bcf0-f48d566cb4e8",
   "metadata": {},
   "outputs": [],
   "source": [
    "#a) Only the modified reference changes"
   ]
  },
  {
   "cell_type": "code",
   "execution_count": 117,
   "id": "0b11f1d2-8046-42fe-adee-98adbbf650b0",
   "metadata": {},
   "outputs": [],
   "source": [
    "#b) [1, 2, 3, 4]"
   ]
  },
  {
   "cell_type": "code",
   "execution_count": 118,
   "id": "cbab890e-a045-4feb-ba01-2a4b6db7ed07",
   "metadata": {},
   "outputs": [],
   "source": [
    "#d) Mutable objects create a new object when modified"
   ]
  },
  {
   "cell_type": "code",
   "execution_count": 119,
   "id": "c565093d-4363-4400-88be-03133501123f",
   "metadata": {},
   "outputs": [],
   "source": [
    "#a) \"hello\""
   ]
  },
  {
   "cell_type": "code",
   "execution_count": 120,
   "id": "bd77d592-06c0-4f2c-bb0f-a147a07c1738",
   "metadata": {},
   "outputs": [],
   "source": [
    "#d) All of the above"
   ]
  },
  {
   "cell_type": "code",
   "execution_count": 121,
   "id": "7f11399b-acf2-4bdf-a091-f4e96555e1de",
   "metadata": {},
   "outputs": [],
   "source": [
    "#b) Lists are mutable"
   ]
  },
  {
   "cell_type": "code",
   "execution_count": 122,
   "id": "eeb1f51b-e510-49e7-b7af-0c1d348c6810",
   "metadata": {},
   "outputs": [],
   "source": [
    "#c) A new object is created in memory"
   ]
  },
  {
   "cell_type": "code",
   "execution_count": 123,
   "id": "485c1a52-aa24-4f58-8704-ae84d3aaaf4d",
   "metadata": {},
   "outputs": [],
   "source": [
    "#b) [1, 2, 3, 100]"
   ]
  },
  {
   "cell_type": "code",
   "execution_count": null,
   "id": "2b1a7861-10ca-4ff6-bf42-cb341167c818",
   "metadata": {},
   "outputs": [],
   "source": []
  },
  {
   "cell_type": "code",
   "execution_count": 124,
   "id": "0d90f011-f1a2-4df6-ab10-d13fd7f6c49a",
   "metadata": {},
   "outputs": [],
   "source": [
    "#"
   ]
  },
  {
   "cell_type": "code",
   "execution_count": 125,
   "id": "97bd608b-68f7-4a9f-996f-b4a7a371c223",
   "metadata": {},
   "outputs": [],
   "source": [
    "#c) TypeError"
   ]
  }
 ],
 "metadata": {
  "kernelspec": {
   "display_name": "Python 3 (ipykernel)",
   "language": "python",
   "name": "python3"
  },
  "language_info": {
   "codemirror_mode": {
    "name": "ipython",
    "version": 3
   },
   "file_extension": ".py",
   "mimetype": "text/x-python",
   "name": "python",
   "nbconvert_exporter": "python",
   "pygments_lexer": "ipython3",
   "version": "3.12.7"
  }
 },
 "nbformat": 4,
 "nbformat_minor": 5
}

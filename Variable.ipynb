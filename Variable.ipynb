{
 "cells": [
  {
   "cell_type": "markdown",
   "id": "4a4f3bfe-cd8d-49aa-8ed5-d7ba4d06dfda",
   "metadata": {},
   "source": [
    "Variable\n"
   ]
  },
  {
   "cell_type": "code",
   "execution_count": 1,
   "id": "29537ab5-fb47-4f8d-912f-8f16b4e0c02c",
   "metadata": {},
   "outputs": [],
   "source": [
    "Name = 4.5"
   ]
  },
  {
   "cell_type": "code",
   "execution_count": 2,
   "id": "72be0591-ff0b-438d-b240-3ab8ad60f388",
   "metadata": {},
   "outputs": [
    {
     "name": "stdout",
     "output_type": "stream",
     "text": [
      "4.5\n"
     ]
    }
   ],
   "source": [
    "print(Name)"
   ]
  },
  {
   "cell_type": "code",
   "execution_count": 3,
   "id": "066b630a-e9cd-40c1-b75e-205107fce943",
   "metadata": {},
   "outputs": [
    {
     "data": {
      "text/plain": [
       "4.5"
      ]
     },
     "execution_count": 3,
     "metadata": {},
     "output_type": "execute_result"
    }
   ],
   "source": [
    "Name"
   ]
  },
  {
   "cell_type": "code",
   "execution_count": 4,
   "id": "2359ef9b-a644-46ee-9d77-d5b37ce8bfba",
   "metadata": {},
   "outputs": [
    {
     "data": {
      "text/plain": [
       "float"
      ]
     },
     "execution_count": 4,
     "metadata": {},
     "output_type": "execute_result"
    }
   ],
   "source": [
    "type(Name)"
   ]
  },
  {
   "cell_type": "code",
   "execution_count": 6,
   "id": "3618b4a9-068c-4b7c-9353-6e275903b0ac",
   "metadata": {},
   "outputs": [],
   "source": [
    "c = ( 2,3,4,5,True)"
   ]
  },
  {
   "cell_type": "code",
   "execution_count": 7,
   "id": "eb59dfc0-1ebb-4179-92d3-5f5cef52ef52",
   "metadata": {},
   "outputs": [
    {
     "name": "stdout",
     "output_type": "stream",
     "text": [
      "(2, 3, 4, 5, True)\n"
     ]
    }
   ],
   "source": [
    "print(c)"
   ]
  },
  {
   "cell_type": "code",
   "execution_count": 8,
   "id": "fb7db99f-f5de-4e4e-9405-2c886cdf13a8",
   "metadata": {},
   "outputs": [
    {
     "data": {
      "text/plain": [
       "(2, 3, 4, 5, True)"
      ]
     },
     "execution_count": 8,
     "metadata": {},
     "output_type": "execute_result"
    }
   ],
   "source": [
    "c"
   ]
  },
  {
   "cell_type": "code",
   "execution_count": 9,
   "id": "e6fd0613-f054-4abd-8299-074615087cba",
   "metadata": {},
   "outputs": [
    {
     "data": {
      "text/plain": [
       "tuple"
      ]
     },
     "execution_count": 9,
     "metadata": {},
     "output_type": "execute_result"
    }
   ],
   "source": [
    "type(c)"
   ]
  },
  {
   "cell_type": "code",
   "execution_count": 10,
   "id": "621cda7f-c13f-479a-b32d-d702642b8279",
   "metadata": {},
   "outputs": [],
   "source": [
    "name = ('Rahul','jatin','Rajat')"
   ]
  },
  {
   "cell_type": "code",
   "execution_count": 11,
   "id": "c2ab6571-9e91-43bf-802b-f3b1634a8b07",
   "metadata": {},
   "outputs": [
    {
     "name": "stdout",
     "output_type": "stream",
     "text": [
      "('Rahul', 'jatin', 'Rajat')\n"
     ]
    }
   ],
   "source": [
    "print(name)"
   ]
  },
  {
   "cell_type": "code",
   "execution_count": 12,
   "id": "3ea33497-26e4-4405-a2d9-4f2ab80df04f",
   "metadata": {},
   "outputs": [
    {
     "data": {
      "text/plain": [
       "('Rahul', 'jatin', 'Rajat')"
      ]
     },
     "execution_count": 12,
     "metadata": {},
     "output_type": "execute_result"
    }
   ],
   "source": [
    "name"
   ]
  },
  {
   "cell_type": "code",
   "execution_count": 13,
   "id": "37993ed4-bcb9-45c2-90c0-fb8460fc7455",
   "metadata": {},
   "outputs": [
    {
     "data": {
      "text/plain": [
       "tuple"
      ]
     },
     "execution_count": 13,
     "metadata": {},
     "output_type": "execute_result"
    }
   ],
   "source": [
    "type(name)"
   ]
  },
  {
   "cell_type": "code",
   "execution_count": 15,
   "id": "46aaf0e9-aa75-49b3-ad72-62e6727add99",
   "metadata": {},
   "outputs": [],
   "source": [
    "name = ('Raju')"
   ]
  },
  {
   "cell_type": "code",
   "execution_count": 16,
   "id": "f27e87b9-c7ac-4c1d-a5b7-31bc03aca612",
   "metadata": {},
   "outputs": [
    {
     "name": "stdout",
     "output_type": "stream",
     "text": [
      "Raju\n"
     ]
    }
   ],
   "source": [
    "print(name)"
   ]
  },
  {
   "cell_type": "code",
   "execution_count": 17,
   "id": "63327832-aa7d-4eeb-af39-0b454757916d",
   "metadata": {},
   "outputs": [
    {
     "data": {
      "text/plain": [
       "str"
      ]
     },
     "execution_count": 17,
     "metadata": {},
     "output_type": "execute_result"
    }
   ],
   "source": [
    "type(name)"
   ]
  },
  {
   "cell_type": "code",
   "execution_count": 20,
   "id": "ec3f935a-58b6-45d0-ab7d-d240cbdfc273",
   "metadata": {},
   "outputs": [
    {
     "data": {
      "text/plain": [
       "float"
      ]
     },
     "execution_count": 20,
     "metadata": {},
     "output_type": "execute_result"
    }
   ],
   "source": [
    "type(Name)"
   ]
  },
  {
   "cell_type": "code",
   "execution_count": 33,
   "id": "51cfc2a5-222f-433f-9670-628a1425b670",
   "metadata": {},
   "outputs": [],
   "source": [
    "Name = ( 'Raj',8.6,'shyam',7.5)#Raj with 8.6 and shyam with 7.5 CGP "
   ]
  },
  {
   "cell_type": "code",
   "execution_count": 30,
   "id": "32c92ff3-dd14-4fe9-ac38-25bd1997eb81",
   "metadata": {},
   "outputs": [
    {
     "data": {
      "text/plain": [
       "('Raj', 8.6, 'shyam', 7.5)"
      ]
     },
     "execution_count": 30,
     "metadata": {},
     "output_type": "execute_result"
    }
   ],
   "source": [
    "Name"
   ]
  },
  {
   "cell_type": "code",
   "execution_count": 29,
   "id": "7b5916fe-c156-40ff-a59e-d1fd15ae9baf",
   "metadata": {},
   "outputs": [
    {
     "data": {
      "text/plain": [
       "tuple"
      ]
     },
     "execution_count": 29,
     "metadata": {},
     "output_type": "execute_result"
    }
   ],
   "source": [
    "type(Name)"
   ]
  },
  {
   "cell_type": "code",
   "execution_count": 25,
   "id": "0f4ad68e-bda4-4f9e-8f83-95e8e3ab9c00",
   "metadata": {},
   "outputs": [],
   "source": [
    "Room = ('raju','Ramu','Jatin')"
   ]
  },
  {
   "cell_type": "code",
   "execution_count": 31,
   "id": "8ef10f6b-ff15-4f37-b834-9e3991584ad0",
   "metadata": {},
   "outputs": [
    {
     "data": {
      "text/plain": [
       "('raju', 'Ramu', 'Jatin')"
      ]
     },
     "execution_count": 31,
     "metadata": {},
     "output_type": "execute_result"
    }
   ],
   "source": [
    "Room"
   ]
  },
  {
   "cell_type": "code",
   "execution_count": 27,
   "id": "f90916f2-3ff1-4ba5-b7a2-e7331eef535e",
   "metadata": {},
   "outputs": [
    {
     "data": {
      "text/plain": [
       "tuple"
      ]
     },
     "execution_count": 27,
     "metadata": {},
     "output_type": "execute_result"
    }
   ],
   "source": [
    "type(Room)"
   ]
  },
  {
   "cell_type": "code",
   "execution_count": 35,
   "id": "59629e56-009b-479a-85bc-0ab6001d654a",
   "metadata": {},
   "outputs": [],
   "source": [
    "TCS = (12000)"
   ]
  },
  {
   "cell_type": "code",
   "execution_count": 36,
   "id": "4bf1f075-c165-4455-a2e7-18df2d9e5a23",
   "metadata": {},
   "outputs": [
    {
     "data": {
      "text/plain": [
       "12000"
      ]
     },
     "execution_count": 36,
     "metadata": {},
     "output_type": "execute_result"
    }
   ],
   "source": [
    "TCS"
   ]
  },
  {
   "cell_type": "code",
   "execution_count": 37,
   "id": "80a563aa-053b-44d6-87f8-e4b10cba99f3",
   "metadata": {},
   "outputs": [
    {
     "data": {
      "text/plain": [
       "int"
      ]
     },
     "execution_count": 37,
     "metadata": {},
     "output_type": "execute_result"
    }
   ],
   "source": [
    "type(TCS)"
   ]
  },
  {
   "cell_type": "code",
   "execution_count": 38,
   "id": "315c0ecd-569d-4e13-8b21-d7d9b26baa67",
   "metadata": {},
   "outputs": [],
   "source": [
    "Room = ( \"Raja\", \"Mohan\",\"sharuk\")"
   ]
  },
  {
   "cell_type": "code",
   "execution_count": 40,
   "id": "d3327663-6122-4d15-aad2-5a00b1d0cf1b",
   "metadata": {},
   "outputs": [],
   "source": [
    "#Today we'v learned about (Data Type , Variable)\n",
    "#Basic Data Type:\n",
    "#Iinteger,Float,Complex,Boolean\n",
    "#variable Types\n",
    "#Static,Daynamic\n",
    "#Static:Fixed(C+C++)\n",
    "#Daynamic:Not Fixed"
   ]
  },
  {
   "cell_type": "code",
   "execution_count": null,
   "id": "adc2a2ae-a842-472c-977c-a1354a57d5ce",
   "metadata": {},
   "outputs": [],
   "source": [
    "#Data type "
   ]
  }
 ],
 "metadata": {
  "kernelspec": {
   "display_name": "Python 3 (ipykernel)",
   "language": "python",
   "name": "python3"
  },
  "language_info": {
   "codemirror_mode": {
    "name": "ipython",
    "version": 3
   },
   "file_extension": ".py",
   "mimetype": "text/x-python",
   "name": "python",
   "nbconvert_exporter": "python",
   "pygments_lexer": "ipython3",
   "version": "3.12.7"
  }
 },
 "nbformat": 4,
 "nbformat_minor": 5
}

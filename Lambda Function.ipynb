{
 "cells": [
  {
   "cell_type": "markdown",
   "id": "b3418934-a91e-4234-8afd-0136749d2b75",
   "metadata": {},
   "source": [
    "                                            Lambda Function"
   ]
  },
  {
   "cell_type": "code",
   "execution_count": 2,
   "id": "d04f090b-ef4e-40a3-b416-9c1b1e757cc5",
   "metadata": {},
   "outputs": [
    {
     "data": {
      "text/plain": [
       "81"
      ]
     },
     "execution_count": 2,
     "metadata": {},
     "output_type": "execute_result"
    }
   ],
   "source": [
    "x = lambda x,y : x**2\n",
    "x(9,7)"
   ]
  },
  {
   "cell_type": "code",
   "execution_count": 3,
   "id": "4ee5f6c5-6d01-44fe-81d3-dc084cdc12ef",
   "metadata": {},
   "outputs": [
    {
     "data": {
      "text/plain": [
       "44900999999991"
      ]
     },
     "execution_count": 3,
     "metadata": {},
     "output_type": "execute_result"
    }
   ],
   "source": [
    "x = lambda x,y : x*9\n",
    "x(4988999999999,678)"
   ]
  },
  {
   "cell_type": "code",
   "execution_count": 4,
   "id": "a1364bcb-0f09-4892-937a-84f65b5ed5ac",
   "metadata": {},
   "outputs": [],
   "source": [
    "c = lambda x,y,q,w,e,r,t,u,i,o: x*y+q*w+e*r+t*u+i*o"
   ]
  },
  {
   "cell_type": "code",
   "execution_count": 5,
   "id": "d706220f-f695-486f-beb6-005c5f60d91d",
   "metadata": {},
   "outputs": [
    {
     "data": {
      "text/plain": [
       "101001000000900998897897989990000005"
      ]
     },
     "execution_count": 5,
     "metadata": {},
     "output_type": "execute_result"
    }
   ],
   "source": [
    "c(999999999999999999999999999999999999999999999999999999999999999999999999999999999999999999999999999999999999999999999999999999999999999999999999999999,999999999999999999999999999999999999999999999999999999999999999999999999999999999999999999999999999999999999999999999999999999999999999999999999999999999999999999999999999999999,99999999999999999,999999999999999999,999999999999,999999999999,999999999999999,999999999999999,99999999999999,9999999)"
   ]
  },
  {
   "cell_type": "code",
   "execution_count": 6,
   "id": "28678143-0e51-4a84-9ce4-626de96ba4d8",
   "metadata": {},
   "outputs": [
    {
     "data": {
      "text/plain": [
       "function"
      ]
     },
     "execution_count": 6,
     "metadata": {},
     "output_type": "execute_result"
    }
   ],
   "source": [
    "type(c)"
   ]
  },
  {
   "cell_type": "markdown",
   "id": "cf2dfd59-42fc-4471-b0ec-7772abe72867",
   "metadata": {},
   "source": [
    "                                                 Lambda Function vs. Normal Function"
   ]
  },
  {
   "cell_type": "markdown",
   "id": "6c069e74-c863-4c96-acfe-51427d6994ec",
   "metadata": {},
   "source": [
    "Normal function:\n",
    "\n",
    "Has a return value.\n",
    "\n",
    "Multi-line.\n",
    "\n",
    "Encourages code reusability via named functions"
   ]
  },
  {
   "cell_type": "code",
   "execution_count": 7,
   "id": "a461ae83-b1b1-4c42-a391-f0f6baad9450",
   "metadata": {},
   "outputs": [],
   "source": [
    "def myfunc(n):\n",
    "    return lambda a : a * n"
   ]
  },
  {
   "cell_type": "code",
   "execution_count": 8,
   "id": "792023cb-4140-4cb7-bb15-13511085f213",
   "metadata": {},
   "outputs": [
    {
     "data": {
      "text/plain": [
       "True"
      ]
     },
     "execution_count": 8,
     "metadata": {},
     "output_type": "execute_result"
    }
   ],
   "source": [
    "b = lambda x : x[0] =='a'\n",
    "b('apple')"
   ]
  },
  {
   "cell_type": "raw",
   "id": "55fec7f4-666f-4aa0-85d5-0b7af3f58973",
   "metadata": {},
   "source": [
    "b('nana')"
   ]
  },
  {
   "cell_type": "code",
   "execution_count": 10,
   "id": "33e26a99-c3bb-4ef8-a0df-9b3ae5a909e4",
   "metadata": {},
   "outputs": [
    {
     "data": {
      "text/plain": [
       "'even'"
      ]
     },
     "execution_count": 10,
     "metadata": {},
     "output_type": "execute_result"
    }
   ],
   "source": [
    "b = lambda x :'even' if x%2 == 0 else 'odd'\n",
    "b(8)"
   ]
  },
  {
   "cell_type": "code",
   "execution_count": 11,
   "id": "861e8e50-defd-44f2-b4a7-4abc864db3d9",
   "metadata": {},
   "outputs": [
    {
     "data": {
      "text/plain": [
       "'even'"
      ]
     },
     "execution_count": 11,
     "metadata": {},
     "output_type": "execute_result"
    }
   ],
   "source": [
    "b(2)"
   ]
  },
  {
   "cell_type": "markdown",
   "id": "74861048-b2cc-4537-aa88-e81ea76a6b54",
   "metadata": {},
   "source": [
    "                                                    Higher-Order Functions\n",
    "\n",
    "                                                             Map"
   ]
  },
  {
   "cell_type": "code",
   "execution_count": 16,
   "id": "4610d38b-7d8f-4891-8263-b00d4b3f231e",
   "metadata": {},
   "outputs": [],
   "source": [
    "l = [1, 2, 3, 4, 5, 6, 7]"
   ]
  },
  {
   "cell_type": "code",
   "execution_count": 17,
   "id": "51df7032-561d-4f9d-bba2-17f9de37a179",
   "metadata": {},
   "outputs": [
    {
     "data": {
      "text/plain": [
       "<map at 0x2060ce62680>"
      ]
     },
     "execution_count": 17,
     "metadata": {},
     "output_type": "execute_result"
    }
   ],
   "source": [
    "map(lambda x : x * 2,l)"
   ]
  },
  {
   "cell_type": "code",
   "execution_count": 18,
   "id": "a12fbc4d-1476-440a-b298-bf57305d3941",
   "metadata": {},
   "outputs": [],
   "source": [
    "L =[1,2,3,4,5,6,7,8]"
   ]
  },
  {
   "cell_type": "code",
   "execution_count": 19,
   "id": "494e641d-6641-47ba-91fa-7f5512ebc1dc",
   "metadata": {},
   "outputs": [
    {
     "data": {
      "text/plain": [
       "<map at 0x2060ce63190>"
      ]
     },
     "execution_count": 19,
     "metadata": {},
     "output_type": "execute_result"
    }
   ],
   "source": [
    "map(lambda x:x*2 , L )"
   ]
  },
  {
   "cell_type": "code",
   "execution_count": null,
   "id": "6d8af502-887d-49c3-8600-b0808c076d86",
   "metadata": {},
   "outputs": [],
   "source": [
    "list(map(lambda Names:name"
   ]
  },
  {
   "cell_type": "code",
   "execution_count": 4,
   "id": "4e94f604-ba5a-4de6-b6b4-e67a8c5b3fe7",
   "metadata": {},
   "outputs": [],
   "source": [
    "l = [1, 2, 3, 4, 5, 6, 7]"
   ]
  },
  {
   "cell_type": "code",
   "execution_count": 9,
   "id": "2ba388a2-75e1-49ca-9403-0792d3749a23",
   "metadata": {},
   "outputs": [
    {
     "data": {
      "text/plain": [
       "[4, 5, 6, 7]"
      ]
     },
     "execution_count": 9,
     "metadata": {},
     "output_type": "execute_result"
    }
   ],
   "source": [
    "list(filter(lambda x:x>3,l))"
   ]
  },
  {
   "cell_type": "code",
   "execution_count": null,
   "id": "f2f2a1d5-69e8-43d4-81e4-77dbd3b4b43c",
   "metadata": {},
   "outputs": [],
   "source": []
  },
  {
   "cell_type": "code",
   "execution_count": 11,
   "id": "78472d91-d820-4f06-81cc-9e40c73f856a",
   "metadata": {},
   "outputs": [
    {
     "data": {
      "text/plain": [
       "[1, 2, 3]"
      ]
     },
     "execution_count": 11,
     "metadata": {},
     "output_type": "execute_result"
    }
   ],
   "source": [
    "list(filter(lambda x:x<4,l))"
   ]
  },
  {
   "cell_type": "code",
   "execution_count": null,
   "id": "d462e0a2-4cec-430d-a242-7febb10df622",
   "metadata": {},
   "outputs": [],
   "source": []
  },
  {
   "cell_type": "code",
   "execution_count": null,
   "id": "34931715-6f5c-4361-bf11-af5097650c73",
   "metadata": {},
   "outputs": [],
   "source": []
  },
  {
   "cell_type": "code",
   "execution_count": null,
   "id": "8a6760ab-994e-423d-a2d4-03021e70a44a",
   "metadata": {},
   "outputs": [],
   "source": []
  },
  {
   "cell_type": "code",
   "execution_count": null,
   "id": "8265750c-769f-4d11-8788-f278c8aafd42",
   "metadata": {},
   "outputs": [],
   "source": []
  },
  {
   "cell_type": "code",
   "execution_count": null,
   "id": "d30e7fb4-2556-4799-8477-625a4f18c5dc",
   "metadata": {},
   "outputs": [],
   "source": []
  }
 ],
 "metadata": {
  "kernelspec": {
   "display_name": "Python 3 (ipykernel)",
   "language": "python",
   "name": "python3"
  },
  "language_info": {
   "codemirror_mode": {
    "name": "ipython",
    "version": 3
   },
   "file_extension": ".py",
   "mimetype": "text/x-python",
   "name": "python",
   "nbconvert_exporter": "python",
   "pygments_lexer": "ipython3",
   "version": "3.12.7"
  }
 },
 "nbformat": 4,
 "nbformat_minor": 5
}

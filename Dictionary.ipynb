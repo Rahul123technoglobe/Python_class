{
 "cells": [
  {
   "cell_type": "markdown",
   "id": "ede517f5-2acd-42ec-bfbb-e0b95c2e1b55",
   "metadata": {},
   "source": [
    "                                                        Dictionary\n",
    "                                             Key-Value Pairs: Data mapping.\n",
    "                                            Aliases: Map, associative array."
   ]
  },
  {
   "cell_type": "markdown",
   "id": "33bf293e-60a5-47fe-8905-29f3bae8f185",
   "metadata": {},
   "source": [
    "                             1. Create"
   ]
  },
  {
   "cell_type": "code",
   "execution_count": 1,
   "id": "986bf470-caed-4379-a5f9-62ebc26da2d3",
   "metadata": {},
   "outputs": [
    {
     "data": {
      "text/plain": [
       "{}"
      ]
     },
     "execution_count": 1,
     "metadata": {},
     "output_type": "execute_result"
    }
   ],
   "source": [
    "d = {}\n",
    "d"
   ]
  },
  {
   "cell_type": "code",
   "execution_count": 2,
   "id": "0b5b38e5-76a0-416c-ad1f-c5489d847bbe",
   "metadata": {},
   "outputs": [
    {
     "data": {
      "text/plain": [
       "{'Name': 'Saurabh', 'Gender': 'Male'}"
      ]
     },
     "execution_count": 2,
     "metadata": {},
     "output_type": "execute_result"
    }
   ],
   "source": [
    "D = {\"Name\":\"Saurabh\", \"Gender\":\"Male\"}\n",
    "D"
   ]
  },
  {
   "cell_type": "code",
   "execution_count": 4,
   "id": "a95e90c3-e60a-4322-a39d-f254082dd55e",
   "metadata": {},
   "outputs": [
    {
     "ename": "TypeError",
     "evalue": "unhashable type: 'list'",
     "output_type": "error",
     "traceback": [
      "\u001b[1;31m---------------------------------------------------------------------------\u001b[0m",
      "\u001b[1;31mTypeError\u001b[0m                                 Traceback (most recent call last)",
      "Cell \u001b[1;32mIn[4], line 1\u001b[0m\n\u001b[1;32m----> 1\u001b[0m D1 \u001b[38;5;241m=\u001b[39m {[\u001b[38;5;241m1\u001b[39m, \u001b[38;5;241m2\u001b[39m, \u001b[38;5;241m3\u001b[39m]:\u001b[38;5;124m\"\u001b[39m\u001b[38;5;124mSaurabh\u001b[39m\u001b[38;5;124m\"\u001b[39m}\n\u001b[0;32m      2\u001b[0m D1\n",
      "\u001b[1;31mTypeError\u001b[0m: unhashable type: 'list'"
     ]
    }
   ],
   "source": [
    "D1 = {[1, 2, 3]:\"Saurabh\"}\n",
    "\n"
   ]
  },
  {
   "cell_type": "code",
   "execution_count": 5,
   "id": "f6169020-2f5e-4174-8fff-b38becefb764",
   "metadata": {},
   "outputs": [
    {
     "data": {
      "text/plain": [
       "{(1, 2, 3): 'Saurabh'}"
      ]
     },
     "execution_count": 5,
     "metadata": {},
     "output_type": "execute_result"
    }
   ],
   "source": [
    "# with mixed keys\n",
    "D1 = {(1, 2, 3):\"Saurabh\"}\n",
    "D1"
   ]
  },
  {
   "cell_type": "code",
   "execution_count": 7,
   "id": "39651596-7576-4fb5-be94-f60ac3dd707f",
   "metadata": {},
   "outputs": [
    {
     "data": {
      "text/plain": [
       "{'name': 'maru'}"
      ]
     },
     "execution_count": 7,
     "metadata": {},
     "output_type": "execute_result"
    }
   ],
   "source": [
    "D2 = {\"name\":\"natty\",\"name\":\"maru\"}\n",
    "D2"
   ]
  },
  {
   "cell_type": "code",
   "execution_count": 10,
   "id": "2043807a-8398-4172-ad19-e2cc1b05f5b1",
   "metadata": {},
   "outputs": [
    {
     "data": {
      "text/plain": [
       "{'name': 'saurabh', 'collage': 'sgt', 'marks': {'m1': 99, 'm2': 32}}"
      ]
     },
     "execution_count": 10,
     "metadata": {},
     "output_type": "execute_result"
    }
   ],
   "source": [
    "D3 = {\"name\":\"saurabh\",\"collage\":\"sgt\",\"marks\":{\"m1\":99,\"m2\":32}}\n",
    "D3\n",
    "      "
   ]
  },
  {
   "cell_type": "code",
   "execution_count": 13,
   "id": "5b1faf2a-9002-4c2a-9410-b9ecab148f4c",
   "metadata": {},
   "outputs": [
    {
     "data": {
      "text/plain": [
       "{'name': 'niteh',\n",
       " 'college': 'bit',\n",
       " 'sem': '4th',\n",
       " 'subject:': {'hindi': 50, 'math': 67, 'english': 34}}"
      ]
     },
     "execution_count": 13,
     "metadata": {},
     "output_type": "execute_result"
    }
   ],
   "source": [
    "s= {\n",
    "    'name':'niteh',\n",
    "    'college':'bit',\n",
    "    'sem':'4th',\n",
    "    'subject:':{\n",
    "        'hindi':50,\n",
    "        'math':67,\n",
    "        'english':34,\n",
    "    }\n",
    "}    \n",
    "s    "
   ]
  },
  {
   "cell_type": "code",
   "execution_count": 14,
   "id": "11e89a06-a5be-4372-86a3-f0823d6a4dfd",
   "metadata": {},
   "outputs": [
    {
     "name": "stdout",
     "output_type": "stream",
     "text": [
      "{'name': 'nitish', (1, 2, 3): 2}\n"
     ]
    }
   ],
   "source": [
    "# mutable items as keys\n",
    "D4 = {'name':'nitish', (1, 2, 3):2}\n",
    "print(D4)"
   ]
  },
  {
   "cell_type": "code",
   "execution_count": 16,
   "id": "4ebe1621-f7fb-4602-92ab-5dbe3b890502",
   "metadata": {},
   "outputs": [
    {
     "data": {
      "text/plain": [
       "{'name': 'nitish', 'age': 32}"
      ]
     },
     "execution_count": 16,
     "metadata": {},
     "output_type": "execute_result"
    }
   ],
   "source": [
    "D5 = dict([('name','nitish'), ('age',32)])\n",
    "D5"
   ]
  },
  {
   "cell_type": "markdown",
   "id": "49f3bc7e-1fb8-4631-94f4-5c616bc13c41",
   "metadata": {},
   "source": [
    "                                                    2. Access"
   ]
  },
  {
   "cell_type": "code",
   "execution_count": 17,
   "id": "6625fa58-d278-406b-b84a-de231ff12ec2",
   "metadata": {},
   "outputs": [
    {
     "data": {
      "text/plain": [
       "{'Name': 'Saurabh', 'Gender': 'Male'}"
      ]
     },
     "execution_count": 17,
     "metadata": {},
     "output_type": "execute_result"
    }
   ],
   "source": [
    "D"
   ]
  },
  {
   "cell_type": "code",
   "execution_count": 20,
   "id": "c0147d7a-d082-45d7-b859-0a6c45aa5384",
   "metadata": {},
   "outputs": [
    {
     "data": {
      "text/plain": [
       "'Saurabh'"
      ]
     },
     "execution_count": 20,
     "metadata": {},
     "output_type": "execute_result"
    }
   ],
   "source": [
    "D[\"Name\"]"
   ]
  },
  {
   "cell_type": "code",
   "execution_count": 21,
   "id": "77cba369-0905-4b36-b8b0-17ea48fad30a",
   "metadata": {},
   "outputs": [
    {
     "data": {
      "text/plain": [
       "'Saurabh'"
      ]
     },
     "execution_count": 21,
     "metadata": {},
     "output_type": "execute_result"
    }
   ],
   "source": [
    "D.get(\"Name\")"
   ]
  },
  {
   "cell_type": "code",
   "execution_count": 22,
   "id": "1819745e-094c-4661-a3b6-66ece3fc9d03",
   "metadata": {},
   "outputs": [
    {
     "data": {
      "text/plain": [
       "{'name': 'saurabh', 'collage': 'sgt', 'marks': {'m1': 99, 'm2': 32}}"
      ]
     },
     "execution_count": 22,
     "metadata": {},
     "output_type": "execute_result"
    }
   ],
   "source": [
    "D3"
   ]
  },
  {
   "cell_type": "code",
   "execution_count": 23,
   "id": "d74ff215-b5cc-419e-85c9-b8cb00ec90e3",
   "metadata": {},
   "outputs": [
    {
     "ename": "SyntaxError",
     "evalue": "'[' was never closed (1666771207.py, line 1)",
     "output_type": "error",
     "traceback": [
      "\u001b[1;36m  Cell \u001b[1;32mIn[23], line 1\u001b[1;36m\u001b[0m\n\u001b[1;33m    D3[\"Marks\"[\"Ds\"]\u001b[0m\n\u001b[1;37m      ^\u001b[0m\n\u001b[1;31mSyntaxError\u001b[0m\u001b[1;31m:\u001b[0m '[' was never closed\n"
     ]
    }
   ],
   "source": [
    "D3[\"Marks\"[\"Ds\"]\n",
    "D3"
   ]
  },
  {
   "cell_type": "markdown",
   "id": "d47ab6cc-1c58-4efe-8ba2-06e56892a23a",
   "metadata": {},
   "source": [
    "\n",
    "                                                  3. Edit"
   ]
  },
  {
   "cell_type": "code",
   "execution_count": 38,
   "id": "0a063345-bc96-494d-8306-2bd1ea08a2f8",
   "metadata": {},
   "outputs": [
    {
     "data": {
      "text/plain": [
       "{'Name': 'Jatin', 'Gender': 'Bona'}"
      ]
     },
     "execution_count": 38,
     "metadata": {},
     "output_type": "execute_result"
    }
   ],
   "source": [
    "D"
   ]
  },
  {
   "cell_type": "markdown",
   "id": "1bfc4669-3bfd-4c4c-aac8-e3da10a04d8a",
   "metadata": {},
   "source": [
    "\n",
    "                                                    4. Add"
   ]
  },
  {
   "cell_type": "code",
   "execution_count": 39,
   "id": "69501541-3869-4a7c-b7d9-0b5c02df2eeb",
   "metadata": {},
   "outputs": [
    {
     "data": {
      "text/plain": [
       "{'Name': 'Jatin', 'Gender': 'Bona'}"
      ]
     },
     "execution_count": 39,
     "metadata": {},
     "output_type": "execute_result"
    }
   ],
   "source": [
    "D"
   ]
  },
  {
   "cell_type": "code",
   "execution_count": 42,
   "id": "7f41c34d-5f8f-40cc-81b7-35f3b2ebc9d7",
   "metadata": {},
   "outputs": [
    {
     "data": {
      "text/plain": [
       "{'Name': 'Jatin', 'Gender': 'Bona', 'Age': 20}"
      ]
     },
     "execution_count": 42,
     "metadata": {},
     "output_type": "execute_result"
    }
   ],
   "source": [
    "D[\"Age\"]=20\n",
    "D"
   ]
  },
  {
   "cell_type": "code",
   "execution_count": 44,
   "id": "6ab35f6a-4268-475f-9f0f-f06da2d20140",
   "metadata": {},
   "outputs": [
    {
     "data": {
      "text/plain": [
       "{'Name': 'Jatin', 'Gender': 'Bona', 'Age': 20, 'Residence': 'Registaan'}"
      ]
     },
     "execution_count": 44,
     "metadata": {},
     "output_type": "execute_result"
    }
   ],
   "source": [
    "D[\"Residence\"]=\"Registaan\"\n",
    "D"
   ]
  },
  {
   "cell_type": "markdown",
   "id": "d3806dcc-1221-4085-a515-f51a92126ea9",
   "metadata": {},
   "source": [
    "                                                    5. Delete"
   ]
  },
  {
   "cell_type": "code",
   "execution_count": 45,
   "id": "d1cc56c0-2619-4a54-8c0d-9dff6db827a3",
   "metadata": {},
   "outputs": [
    {
     "data": {
      "text/plain": [
       "{}"
      ]
     },
     "execution_count": 45,
     "metadata": {},
     "output_type": "execute_result"
    }
   ],
   "source": [
    "D5 = {}\n",
    "D5"
   ]
  },
  {
   "cell_type": "code",
   "execution_count": 46,
   "id": "b48bedf4-3608-43eb-b00d-1d20f47b715c",
   "metadata": {},
   "outputs": [],
   "source": [
    "del D5"
   ]
  },
  {
   "cell_type": "code",
   "execution_count": 47,
   "id": "cbab4940-e547-40b4-9090-66e5504088fc",
   "metadata": {},
   "outputs": [
    {
     "ename": "NameError",
     "evalue": "name 'D5' is not defined",
     "output_type": "error",
     "traceback": [
      "\u001b[1;31m---------------------------------------------------------------------------\u001b[0m",
      "\u001b[1;31mNameError\u001b[0m                                 Traceback (most recent call last)",
      "Cell \u001b[1;32mIn[47], line 1\u001b[0m\n\u001b[1;32m----> 1\u001b[0m D5\n",
      "\u001b[1;31mNameError\u001b[0m: name 'D5' is not defined"
     ]
    }
   ],
   "source": [
    "D5\n"
   ]
  },
  {
   "cell_type": "code",
   "execution_count": 50,
   "id": "8190fba6-804a-4f0b-be94-e2a5ce1df67c",
   "metadata": {},
   "outputs": [
    {
     "ename": "KeyError",
     "evalue": "'Gender'",
     "output_type": "error",
     "traceback": [
      "\u001b[1;31m---------------------------------------------------------------------------\u001b[0m",
      "\u001b[1;31mKeyError\u001b[0m                                  Traceback (most recent call last)",
      "Cell \u001b[1;32mIn[50], line 1\u001b[0m\n\u001b[1;32m----> 1\u001b[0m \u001b[38;5;28;01mdel\u001b[39;00m D[\u001b[38;5;124m\"\u001b[39m\u001b[38;5;124mGender\u001b[39m\u001b[38;5;124m\"\u001b[39m]\n\u001b[0;32m      2\u001b[0m D\n",
      "\u001b[1;31mKeyError\u001b[0m: 'Gender'"
     ]
    }
   ],
   "source": [
    "del D[\"Gender\"]\n",
    "D"
   ]
  },
  {
   "cell_type": "code",
   "execution_count": 54,
   "id": "9fbf20b7-18b5-4b46-a837-16e2378388a7",
   "metadata": {},
   "outputs": [
    {
     "data": {
      "text/plain": [
       "{'Name': 'Jatin', 'Age': 20, 'Residence': 'Registaan'}"
      ]
     },
     "execution_count": 54,
     "metadata": {},
     "output_type": "execute_result"
    }
   ],
   "source": [
    "D.clear\n",
    "D"
   ]
  },
  {
   "cell_type": "markdown",
   "id": "a3e3786b-8d01-4a0e-a98c-c74df24af886",
   "metadata": {},
   "source": [
    "\n",
    "                                                6. Operations"
   ]
  },
  {
   "cell_type": "code",
   "execution_count": 56,
   "id": "b640fa3d-c2c4-493c-8c89-29b9b29c79aa",
   "metadata": {},
   "outputs": [
    {
     "data": {
      "text/plain": [
       "{'name': 'saurabh', 'collage': 'sgt', 'marks': {'m1': 99, 'm2': 32}}"
      ]
     },
     "execution_count": 56,
     "metadata": {},
     "output_type": "execute_result"
    }
   ],
   "source": [
    "D3"
   ]
  },
  {
   "cell_type": "code",
   "execution_count": 57,
   "id": "37d9e62d-e924-4eed-88b6-facc2b70c9de",
   "metadata": {},
   "outputs": [
    {
     "data": {
      "text/plain": [
       "{'name': 'nitish', (1, 2, 3): 2}"
      ]
     },
     "execution_count": 57,
     "metadata": {},
     "output_type": "execute_result"
    }
   ],
   "source": [
    "D4"
   ]
  },
  {
   "cell_type": "code",
   "execution_count": 58,
   "id": "0de9b0a1-b235-4c52-bc50-e80eeb567460",
   "metadata": {},
   "outputs": [
    {
     "ename": "TypeError",
     "evalue": "unsupported operand type(s) for +: 'dict' and 'dict'",
     "output_type": "error",
     "traceback": [
      "\u001b[1;31m---------------------------------------------------------------------------\u001b[0m",
      "\u001b[1;31mTypeError\u001b[0m                                 Traceback (most recent call last)",
      "Cell \u001b[1;32mIn[58], line 1\u001b[0m\n\u001b[1;32m----> 1\u001b[0m D3 \u001b[38;5;241m+\u001b[39m D4\n",
      "\u001b[1;31mTypeError\u001b[0m: unsupported operand type(s) for +: 'dict' and 'dict'"
     ]
    }
   ],
   "source": [
    "D3 + D4"
   ]
  },
  {
   "cell_type": "code",
   "execution_count": 59,
   "id": "5b47d2f3-1413-420f-9bf8-b77bce546c87",
   "metadata": {},
   "outputs": [
    {
     "data": {
      "text/plain": [
       "{'name': 'saurabh', 'collage': 'sgt', 'marks': {'m1': 99, 'm2': 32}}"
      ]
     },
     "execution_count": 59,
     "metadata": {},
     "output_type": "execute_result"
    }
   ],
   "source": [
    "D3"
   ]
  },
  {
   "cell_type": "code",
   "execution_count": 60,
   "id": "47211462-603c-47f4-ac4d-82162fc6b11b",
   "metadata": {},
   "outputs": [
    {
     "name": "stdout",
     "output_type": "stream",
     "text": [
      "name\n",
      "collage\n",
      "marks\n"
     ]
    }
   ],
   "source": [
    "for i in D3:\n",
    "    print(i)"
   ]
  },
  {
   "cell_type": "code",
   "execution_count": 61,
   "id": "e356ef2a-ef9d-424d-8772-0db5410c8d86",
   "metadata": {},
   "outputs": [
    {
     "name": "stdout",
     "output_type": "stream",
     "text": [
      "name saurabh\n",
      "collage sgt\n",
      "marks {'m1': 99, 'm2': 32}\n"
     ]
    }
   ],
   "source": [
    "for i in D3:\n",
    "    print(i, D3[i])"
   ]
  },
  {
   "cell_type": "code",
   "execution_count": 62,
   "id": "183e9adf-bdd0-4279-b5c8-60c1a237a2ec",
   "metadata": {},
   "outputs": [
    {
     "data": {
      "text/plain": [
       "False"
      ]
     },
     "execution_count": 62,
     "metadata": {},
     "output_type": "execute_result"
    }
   ],
   "source": [
    "\"saurabh\" in D3"
   ]
  },
  {
   "cell_type": "code",
   "execution_count": 63,
   "id": "80604ad0-d2dd-4ee1-94cf-4bbc145089f2",
   "metadata": {},
   "outputs": [
    {
     "data": {
      "text/plain": [
       "False"
      ]
     },
     "execution_count": 63,
     "metadata": {},
     "output_type": "execute_result"
    }
   ],
   "source": [
    "\"Name\" in  D3"
   ]
  },
  {
   "cell_type": "markdown",
   "id": "49913a80-89bb-4422-ae94-21660c3aa387",
   "metadata": {},
   "source": [
    "                                                    7. Functions"
   ]
  },
  {
   "cell_type": "code",
   "execution_count": 64,
   "id": "30358560-4c7e-4f1d-9a75-53281abeeb2a",
   "metadata": {},
   "outputs": [
    {
     "data": {
      "text/plain": [
       "3"
      ]
     },
     "execution_count": 64,
     "metadata": {},
     "output_type": "execute_result"
    }
   ],
   "source": [
    "len(D3)"
   ]
  },
  {
   "cell_type": "code",
   "execution_count": 66,
   "id": "48db4e27-2f82-4010-bde3-380486dc82e2",
   "metadata": {},
   "outputs": [
    {
     "data": {
      "text/plain": [
       "'collage'"
      ]
     },
     "execution_count": 66,
     "metadata": {},
     "output_type": "execute_result"
    }
   ],
   "source": [
    "min(D3)"
   ]
  },
  {
   "cell_type": "code",
   "execution_count": 68,
   "id": "4cc42c24-50e3-492c-ac14-e2ac219e8ab5",
   "metadata": {},
   "outputs": [
    {
     "data": {
      "text/plain": [
       "'name'"
      ]
     },
     "execution_count": 68,
     "metadata": {},
     "output_type": "execute_result"
    }
   ],
   "source": [
    "max(D3)"
   ]
  },
  {
   "cell_type": "code",
   "execution_count": 69,
   "id": "1d2f5429-675c-42c5-b873-d567ca3c6eb6",
   "metadata": {},
   "outputs": [
    {
     "data": {
      "text/plain": [
       "['collage', 'marks', 'name']"
      ]
     },
     "execution_count": 69,
     "metadata": {},
     "output_type": "execute_result"
    }
   ],
   "source": [
    "sorted(D3)"
   ]
  },
  {
   "cell_type": "code",
   "execution_count": 70,
   "id": "9258c66a-f752-4e75-89e4-b4af97a5a986",
   "metadata": {},
   "outputs": [
    {
     "data": {
      "text/plain": [
       "['name', 'marks', 'collage']"
      ]
     },
     "execution_count": 70,
     "metadata": {},
     "output_type": "execute_result"
    }
   ],
   "source": [
    "sorted(D3, reverse = True)"
   ]
  },
  {
   "cell_type": "code",
   "execution_count": 71,
   "id": "4ee8929d-1580-4c30-8f53-0aafc9099773",
   "metadata": {},
   "outputs": [
    {
     "data": {
      "text/plain": [
       "dict_items([('name', 'saurabh'), ('collage', 'sgt'), ('marks', {'m1': 99, 'm2': 32})])"
      ]
     },
     "execution_count": 71,
     "metadata": {},
     "output_type": "execute_result"
    }
   ],
   "source": [
    "D3.items()"
   ]
  },
  {
   "cell_type": "code",
   "execution_count": 72,
   "id": "fb4ecd14-b4e2-473a-b02c-02d5421090ca",
   "metadata": {},
   "outputs": [
    {
     "data": {
      "text/plain": [
       "dict_keys(['name', 'collage', 'marks'])"
      ]
     },
     "execution_count": 72,
     "metadata": {},
     "output_type": "execute_result"
    }
   ],
   "source": [
    "D3.keys()"
   ]
  },
  {
   "cell_type": "code",
   "execution_count": 74,
   "id": "98f8121e-9755-43f9-9c35-4f0168f20485",
   "metadata": {},
   "outputs": [
    {
     "data": {
      "text/plain": [
       "dict_values(['saurabh', 'sgt', {'m1': 99, 'm2': 32}])"
      ]
     },
     "execution_count": 74,
     "metadata": {},
     "output_type": "execute_result"
    }
   ],
   "source": [
    "D3.values()"
   ]
  },
  {
   "cell_type": "code",
   "execution_count": 75,
   "id": "14b87811-553f-4233-bdff-c540694a1c86",
   "metadata": {},
   "outputs": [
    {
     "name": "stdout",
     "output_type": "stream",
     "text": [
      "{1: 2, 3: 4, 4: 8, 9: 10}\n"
     ]
    }
   ],
   "source": [
    "d1 = {1:2, 3:4, 4:5}\n",
    "d2 = {4:8, 9:10}\n",
    "d1.update(d2)\n",
    "print(d1)"
   ]
  },
  {
   "cell_type": "code",
   "execution_count": 76,
   "id": "6b36969e-ecc9-4e1c-8296-978a7f18a4df",
   "metadata": {},
   "outputs": [
    {
     "data": {
      "text/plain": [
       "{'Name': 'Jatin', 'Age': 20, 'Residence': 'Registaan'}"
      ]
     },
     "execution_count": 76,
     "metadata": {},
     "output_type": "execute_result"
    }
   ],
   "source": [
    "D"
   ]
  },
  {
   "cell_type": "code",
   "execution_count": 77,
   "id": "82547744-b715-426c-836b-913e742d0dc1",
   "metadata": {},
   "outputs": [
    {
     "data": {
      "text/plain": [
       "dict_items([('Name', 'Jatin'), ('Age', 20), ('Residence', 'Registaan')])"
      ]
     },
     "execution_count": 77,
     "metadata": {},
     "output_type": "execute_result"
    }
   ],
   "source": [
    "D.items()"
   ]
  },
  {
   "cell_type": "code",
   "execution_count": 78,
   "id": "db7679ca-05a7-4b5e-baf4-9371cbafee7a",
   "metadata": {},
   "outputs": [
    {
     "data": {
      "text/plain": [
       "{'Name': 'Jatin', 'Residence': 'Registaan'}"
      ]
     },
     "execution_count": 78,
     "metadata": {},
     "output_type": "execute_result"
    }
   ],
   "source": [
    "D1 = {key:value for key, value in D.items() if len(key)>3}\n",
    "D1"
   ]
  },
  {
   "cell_type": "code",
   "execution_count": 83,
   "id": "c3f60856-3e52-4140-b59a-44187a452cdf",
   "metadata": {},
   "outputs": [
    {
     "data": {
      "text/plain": [
       "{'Sunday': 39.5,\n",
       " 'Monday': 30.6,\n",
       " 'Tuesday': 44.8,\n",
       " 'Wednesday': 36.4,\n",
       " 'Thursday': 29.8,\n",
       " 'Friday': 29.2,\n",
       " 'Saturday': 39.9}"
      ]
     },
     "execution_count": 83,
     "metadata": {},
     "output_type": "execute_result"
    }
   ],
   "source": [
    "days = [\"Sunday\", \"Monday\", \"Tuesday\", \"Wednesday\", \"Thursday\", \"Friday\", \"Saturday\"]\n",
    "temp_C = [39.5, 30.6, 44.8, 36.4, 29.8, 29.2, 39.9]\n",
    "{i:j for (i, j) in zip(days, temp_C)}"
   ]
  },
  {
   "cell_type": "code",
   "execution_count": 85,
   "id": "3c635b08-250e-4ff2-bd2c-e1d28b5b7865",
   "metadata": {},
   "outputs": [
    {
     "data": {
      "text/plain": [
       "{'delhi': 620.0, 'mumbai': 4340.0, 'banglor': 3100.0}"
      ]
     },
     "execution_count": 85,
     "metadata": {},
     "output_type": "execute_result"
    }
   ],
   "source": [
    "distances = {'delhi':1000,'mumbai':7000, 'banglor':5000}\n",
    "{key:value*0.62 for (key , value) in distances.items()}"
   ]
  },
  {
   "cell_type": "code",
   "execution_count": null,
   "id": "764fd5af-56f7-49c3-ac3e-a52509554964",
   "metadata": {},
   "outputs": [],
   "source": []
  }
 ],
 "metadata": {
  "kernelspec": {
   "display_name": "Python 3 (ipykernel)",
   "language": "python",
   "name": "python3"
  },
  "language_info": {
   "codemirror_mode": {
    "name": "ipython",
    "version": 3
   },
   "file_extension": ".py",
   "mimetype": "text/x-python",
   "name": "python",
   "nbconvert_exporter": "python",
   "pygments_lexer": "ipython3",
   "version": "3.12.7"
  }
 },
 "nbformat": 4,
 "nbformat_minor": 5
}

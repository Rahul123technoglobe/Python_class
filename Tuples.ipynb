{
 "cells": [
  {
   "cell_type": "markdown",
   "id": "6ceac43c-3f81-4b01-b2c4-47f492a14341",
   "metadata": {},
   "source": [
    "                                                     #Tuples"
   ]
  },
  {
   "cell_type": "markdown",
   "id": "712e8de0-3b5f-400e-a928-282d023f9997",
   "metadata": {},
   "source": [
    "Characteristics:\n",
    "Ordered elements.\n",
    "Unmodifiable post-creation.\n",
    "Allows duplicates."
   ]
  },
  {
   "cell_type": "markdown",
   "id": "202446fc-e42f-4b5d-984f-fb88554b7ac2",
   "metadata": {},
   "source": [
    "                                                     #1. Create"
   ]
  },
  {
   "cell_type": "code",
   "execution_count": 2,
   "id": "adb7b128-273a-4b7f-a2f2-c0a55066c7d5",
   "metadata": {},
   "outputs": [
    {
     "data": {
      "text/plain": [
       "()"
      ]
     },
     "execution_count": 2,
     "metadata": {},
     "output_type": "execute_result"
    }
   ],
   "source": [
    "#empty\n",
    "t1=()\n",
    "t1"
   ]
  },
  {
   "cell_type": "code",
   "execution_count": 3,
   "id": "a05c17fe-9e8f-44f0-85b8-32c70be550f8",
   "metadata": {},
   "outputs": [
    {
     "data": {
      "text/plain": [
       "(1, 3, 4, 5)"
      ]
     },
     "execution_count": 3,
     "metadata": {},
     "output_type": "execute_result"
    }
   ],
   "source": [
    "# homo\n",
    "t2 = (1,3,4,5) \n",
    "t2"
   ]
  },
  {
   "cell_type": "code",
   "execution_count": 4,
   "id": "24f7ce4e-1406-49ec-9eb0-6c64af93e34f",
   "metadata": {},
   "outputs": [
    {
     "data": {
      "text/plain": [
       "('hello', 1, 2, 3)"
      ]
     },
     "execution_count": 4,
     "metadata": {},
     "output_type": "execute_result"
    }
   ],
   "source": [
    "# hetro\n",
    "t3 = (\"hello\",1,2,3)\n",
    "t3"
   ]
  },
  {
   "cell_type": "code",
   "execution_count": 5,
   "id": "b9623a61-b11d-4d46-8c34-839577390ec5",
   "metadata": {},
   "outputs": [
    {
     "data": {
      "text/plain": [
       "(1, 2, 3, (4, 5))"
      ]
     },
     "execution_count": 5,
     "metadata": {},
     "output_type": "execute_result"
    }
   ],
   "source": [
    "#tuple\n",
    "t4 = (1,2,3,(4,5))\n",
    "t4"
   ]
  },
  {
   "cell_type": "code",
   "execution_count": 7,
   "id": "490e8f1c-50db-4252-984a-20e2457e4a5c",
   "metadata": {},
   "outputs": [
    {
     "data": {
      "text/plain": [
       "str"
      ]
     },
     "execution_count": 7,
     "metadata": {},
     "output_type": "execute_result"
    }
   ],
   "source": [
    "t5 = (\"hELLO\")\n",
    "type(t5)"
   ]
  },
  {
   "cell_type": "code",
   "execution_count": 9,
   "id": "131985ef-2a68-4368-a565-f93ecac4c921",
   "metadata": {},
   "outputs": [
    {
     "data": {
      "text/plain": [
       "tuple"
      ]
     },
     "execution_count": 9,
     "metadata": {},
     "output_type": "execute_result"
    }
   ],
   "source": [
    "t5 = (\"hELLO\",)\n",
    "type(t5) "
   ]
  },
  {
   "cell_type": "code",
   "execution_count": 14,
   "id": "070badc4-9085-4168-80fd-74cddbf1c980",
   "metadata": {},
   "outputs": [
    {
     "data": {
      "text/plain": [
       "('g', 'o', 'a')"
      ]
     },
     "execution_count": 14,
     "metadata": {},
     "output_type": "execute_result"
    }
   ],
   "source": [
    "t6 = tuple(\"goa\")\n",
    "t6"
   ]
  },
  {
   "cell_type": "code",
   "execution_count": 15,
   "id": "170691db-8863-4946-9f7f-1b417c57f7d3",
   "metadata": {},
   "outputs": [
    {
     "data": {
      "text/plain": [
       "[1, 2, 3, 4]"
      ]
     },
     "execution_count": 15,
     "metadata": {},
     "output_type": "execute_result"
    }
   ],
   "source": [
    "t6 = ([1,2,3,4])\n",
    "t6"
   ]
  },
  {
   "cell_type": "markdown",
   "id": "613b9de8-8341-422f-88d1-cd78f17cad4e",
   "metadata": {},
   "source": [
    "                                                        # 2. Access"
   ]
  },
  {
   "cell_type": "markdown",
   "id": "b840dbf6-2064-40e6-9cf8-98245aabd4fb",
   "metadata": {},
   "source": [
    "                                                        >Indexing\n",
    "                                                        >Slicing"
   ]
  },
  {
   "cell_type": "code",
   "execution_count": 17,
   "id": "a434cf4f-c994-44f8-a80a-5f673662f463",
   "metadata": {},
   "outputs": [
    {
     "data": {
      "text/plain": [
       "(1, 3, 4, 5)"
      ]
     },
     "execution_count": 17,
     "metadata": {},
     "output_type": "execute_result"
    }
   ],
   "source": [
    "t2"
   ]
  },
  {
   "cell_type": "code",
   "execution_count": 19,
   "id": "d5d251d9-365b-4924-9ffa-02727160fc19",
   "metadata": {},
   "outputs": [
    {
     "data": {
      "text/plain": [
       "1"
      ]
     },
     "execution_count": 19,
     "metadata": {},
     "output_type": "execute_result"
    }
   ],
   "source": [
    "t2[0]"
   ]
  },
  {
   "cell_type": "code",
   "execution_count": 20,
   "id": "77b1fcef-c9b4-433a-9677-331083c9fd48",
   "metadata": {},
   "outputs": [
    {
     "data": {
      "text/plain": [
       "5"
      ]
     },
     "execution_count": 20,
     "metadata": {},
     "output_type": "execute_result"
    }
   ],
   "source": [
    "t2[-1]"
   ]
  },
  {
   "cell_type": "code",
   "execution_count": 21,
   "id": "4803a02a-15d7-4f98-80b9-fe9dc7650768",
   "metadata": {},
   "outputs": [
    {
     "data": {
      "text/plain": [
       "(1, 3, 4)"
      ]
     },
     "execution_count": 21,
     "metadata": {},
     "output_type": "execute_result"
    }
   ],
   "source": [
    "t2[:3]"
   ]
  },
  {
   "cell_type": "code",
   "execution_count": 22,
   "id": "b83ea3e4-33ed-40b4-8cb2-a1adc105d90e",
   "metadata": {},
   "outputs": [
    {
     "data": {
      "text/plain": [
       "(1, 2, 3, (4, 5))"
      ]
     },
     "execution_count": 22,
     "metadata": {},
     "output_type": "execute_result"
    }
   ],
   "source": [
    "t4"
   ]
  },
  {
   "cell_type": "code",
   "execution_count": 25,
   "id": "58d27c2c-5f60-43c5-8ece-e916346efb02",
   "metadata": {},
   "outputs": [
    {
     "data": {
      "text/plain": [
       "(2, 3)"
      ]
     },
     "execution_count": 25,
     "metadata": {},
     "output_type": "execute_result"
    }
   ],
   "source": [
    "t4[1:3]"
   ]
  },
  {
   "cell_type": "code",
   "execution_count": 27,
   "id": "7473d1cc-45b6-4086-8469-e76b48fb8be0",
   "metadata": {},
   "outputs": [
    {
     "data": {
      "text/plain": [
       "4"
      ]
     },
     "execution_count": 27,
     "metadata": {},
     "output_type": "execute_result"
    }
   ],
   "source": [
    "t4[-1][0]"
   ]
  },
  {
   "cell_type": "markdown",
   "id": "9d08bc3d-45e0-492d-bd00-2e65957e5014",
   "metadata": {},
   "source": [
    "                                                       #3. Edit"
   ]
  },
  {
   "cell_type": "code",
   "execution_count": 28,
   "id": "edc92f98-11f8-4f47-a2e4-275ed8e09a81",
   "metadata": {},
   "outputs": [],
   "source": [
    "l = [1,2,3,5,6]\n"
   ]
  },
  {
   "cell_type": "code",
   "execution_count": 29,
   "id": "948e1d39-0947-42ea-8ed1-13f168970ef5",
   "metadata": {},
   "outputs": [
    {
     "data": {
      "text/plain": [
       "[100, 2, 3, 5, 6]"
      ]
     },
     "execution_count": 29,
     "metadata": {},
     "output_type": "execute_result"
    }
   ],
   "source": [
    "l[0] = 100\n",
    "l"
   ]
  },
  {
   "cell_type": "code",
   "execution_count": 31,
   "id": "93e45f30-5ffe-4e4a-ab54-58555e7ce64e",
   "metadata": {},
   "outputs": [
    {
     "data": {
      "text/plain": [
       "(1, 3, 4, 5)"
      ]
     },
     "execution_count": 31,
     "metadata": {},
     "output_type": "execute_result"
    }
   ],
   "source": [
    "t2"
   ]
  },
  {
   "cell_type": "code",
   "execution_count": 33,
   "id": "6ed8530f-14e0-4aab-a791-171e55554586",
   "metadata": {},
   "outputs": [
    {
     "ename": "TypeError",
     "evalue": "'tuple' object does not support item assignment",
     "output_type": "error",
     "traceback": [
      "\u001b[1;31m---------------------------------------------------------------------------\u001b[0m",
      "\u001b[1;31mTypeError\u001b[0m                                 Traceback (most recent call last)",
      "Cell \u001b[1;32mIn[33], line 1\u001b[0m\n\u001b[1;32m----> 1\u001b[0m t2[\u001b[38;5;241m0\u001b[39m] \u001b[38;5;241m=\u001b[39m \u001b[38;5;241m100\u001b[39m\n",
      "\u001b[1;31mTypeError\u001b[0m: 'tuple' object does not support item assignment"
     ]
    }
   ],
   "source": [
    "t2[0] = 100\n",
    "# Immutable, like strings"
   ]
  },
  {
   "cell_type": "code",
   "execution_count": 34,
   "id": "81d131dd-e14e-4791-90bd-9bb25a4f5098",
   "metadata": {},
   "outputs": [],
   "source": [
    "# Tuples = immutable (like strings)"
   ]
  },
  {
   "cell_type": "markdown",
   "id": "f461eb4c-be5a-414e-b8f3-52d1d9ad303b",
   "metadata": {},
   "source": [
    "                                                        #4. Add"
   ]
  },
  {
   "cell_type": "code",
   "execution_count": 35,
   "id": "66ecd86f-a981-4dda-aaaf-eb7a76a874aa",
   "metadata": {},
   "outputs": [],
   "source": [
    "# not possible\n",
    "# Tuples: immutable"
   ]
  },
  {
   "cell_type": "markdown",
   "id": "7c6554d6-6c10-4e95-b0d6-f2307fa7532a",
   "metadata": {},
   "source": [
    "                                                     #5. Delete"
   ]
  },
  {
   "cell_type": "code",
   "execution_count": 37,
   "id": "068a6c9e-2eeb-4c70-9afc-4b9b1b87e75c",
   "metadata": {},
   "outputs": [
    {
     "data": {
      "text/plain": [
       "()"
      ]
     },
     "execution_count": 37,
     "metadata": {},
     "output_type": "execute_result"
    }
   ],
   "source": [
    "t1"
   ]
  },
  {
   "cell_type": "code",
   "execution_count": 39,
   "id": "b613ce74-7b11-4e0d-924c-566d4fa0494d",
   "metadata": {},
   "outputs": [
    {
     "ename": "NameError",
     "evalue": "name 't1' is not defined",
     "output_type": "error",
     "traceback": [
      "\u001b[1;31m---------------------------------------------------------------------------\u001b[0m",
      "\u001b[1;31mNameError\u001b[0m                                 Traceback (most recent call last)",
      "Cell \u001b[1;32mIn[39], line 1\u001b[0m\n\u001b[1;32m----> 1\u001b[0m \u001b[38;5;28;01mdel\u001b[39;00m t1\n\u001b[0;32m      2\u001b[0m t1\n",
      "\u001b[1;31mNameError\u001b[0m: name 't1' is not defined"
     ]
    }
   ],
   "source": [
    "del t1\n",
    "t1"
   ]
  },
  {
   "cell_type": "code",
   "execution_count": 40,
   "id": "be72ab98-72d4-4467-bcba-53ba043e2c8f",
   "metadata": {},
   "outputs": [
    {
     "data": {
      "text/plain": [
       "('hello', 1, 2, 3)"
      ]
     },
     "execution_count": 40,
     "metadata": {},
     "output_type": "execute_result"
    }
   ],
   "source": [
    "t3"
   ]
  },
  {
   "cell_type": "code",
   "execution_count": 41,
   "id": "4e54206b-955e-406c-b7f7-e043fee433ec",
   "metadata": {},
   "outputs": [
    {
     "data": {
      "text/plain": [
       "(1, 3, 4, 5)"
      ]
     },
     "execution_count": 41,
     "metadata": {},
     "output_type": "execute_result"
    }
   ],
   "source": [
    "t2"
   ]
  },
  {
   "cell_type": "code",
   "execution_count": 42,
   "id": "f41e44ed-c660-4f02-9706-c85b3434249c",
   "metadata": {},
   "outputs": [
    {
     "ename": "SyntaxError",
     "evalue": "cannot delete function call (3628316064.py, line 1)",
     "output_type": "error",
     "traceback": [
      "\u001b[1;36m  Cell \u001b[1;32mIn[42], line 1\u001b[1;36m\u001b[0m\n\u001b[1;33m    del t2(-1)\u001b[0m\n\u001b[1;37m        ^\u001b[0m\n\u001b[1;31mSyntaxError\u001b[0m\u001b[1;31m:\u001b[0m cannot delete function call\n"
     ]
    }
   ],
   "source": [
    "del t2(-1)"
   ]
  },
  {
   "cell_type": "code",
   "execution_count": 43,
   "id": "c4f774e1-2aab-4ae5-b1cc-cad7aea487cf",
   "metadata": {},
   "outputs": [],
   "source": [
    "# Tuples are immutable"
   ]
  },
  {
   "cell_type": "markdown",
   "id": "7e23f91a-4d5f-487d-9af7-a0a371901311",
   "metadata": {},
   "source": [
    "                                                  #6. Operations"
   ]
  },
  {
   "cell_type": "code",
   "execution_count": 44,
   "id": "c4950f70-0d02-4c47-a59d-670cc583c941",
   "metadata": {},
   "outputs": [
    {
     "data": {
      "text/plain": [
       "(1, 3, 4, 5)"
      ]
     },
     "execution_count": 44,
     "metadata": {},
     "output_type": "execute_result"
    }
   ],
   "source": [
    "t2"
   ]
  },
  {
   "cell_type": "code",
   "execution_count": 45,
   "id": "cfc0ef24-fd24-47cc-84dc-6ac17deffa4d",
   "metadata": {},
   "outputs": [
    {
     "data": {
      "text/plain": [
       "('hello', 1, 2, 3)"
      ]
     },
     "execution_count": 45,
     "metadata": {},
     "output_type": "execute_result"
    }
   ],
   "source": [
    "t3"
   ]
  },
  {
   "cell_type": "code",
   "execution_count": 46,
   "id": "98bf1002-c8ca-4e46-ba3d-82b3338a9a83",
   "metadata": {},
   "outputs": [],
   "source": [
    "# + and *"
   ]
  },
  {
   "cell_type": "code",
   "execution_count": 47,
   "id": "386a5117-5030-4f13-9f3d-0809753a5fb0",
   "metadata": {},
   "outputs": [
    {
     "data": {
      "text/plain": [
       "(1, 3, 4, 5, 'hello', 1, 2, 3)"
      ]
     },
     "execution_count": 47,
     "metadata": {},
     "output_type": "execute_result"
    }
   ],
   "source": [
    "t2 + t3"
   ]
  },
  {
   "cell_type": "code",
   "execution_count": 54,
   "id": "645045f6-adae-4551-8275-6bd4da96de2c",
   "metadata": {},
   "outputs": [
    {
     "data": {
      "text/plain": [
       "(1, 3, 4, 5, 1, 3, 4, 5, 1, 3, 4, 5)"
      ]
     },
     "execution_count": 54,
     "metadata": {},
     "output_type": "execute_result"
    }
   ],
   "source": [
    "t2*3"
   ]
  },
  {
   "cell_type": "code",
   "execution_count": 55,
   "id": "cf0fcc8a-80a5-49f1-b4b7-63eceaf16db3",
   "metadata": {},
   "outputs": [
    {
     "name": "stdout",
     "output_type": "stream",
     "text": [
      "1\n",
      "3\n",
      "4\n",
      "5\n"
     ]
    }
   ],
   "source": [
    "for i in t2:\n",
    "    print(i)"
   ]
  },
  {
   "cell_type": "code",
   "execution_count": 56,
   "id": "bc218fcd-d96c-45ea-b7a5-b2de0cbefee0",
   "metadata": {},
   "outputs": [
    {
     "data": {
      "text/plain": [
       "True"
      ]
     },
     "execution_count": 56,
     "metadata": {},
     "output_type": "execute_result"
    }
   ],
   "source": [
    "5 in t2"
   ]
  },
  {
   "cell_type": "code",
   "execution_count": 57,
   "id": "c4c1b433-c627-4311-a3bf-1b46813b0607",
   "metadata": {},
   "outputs": [
    {
     "data": {
      "text/plain": [
       "False"
      ]
     },
     "execution_count": 57,
     "metadata": {},
     "output_type": "execute_result"
    }
   ],
   "source": [
    "8 in t2"
   ]
  },
  {
   "cell_type": "markdown",
   "id": "82312fca-b826-416e-a0ee-246a7e94424b",
   "metadata": {},
   "source": [
    "\n",
    "                                               #7. Functions"
   ]
  },
  {
   "cell_type": "code",
   "execution_count": 58,
   "id": "fd4ee708-7a05-4d07-b10c-f7df9b1048a9",
   "metadata": {},
   "outputs": [
    {
     "data": {
      "text/plain": [
       "4"
      ]
     },
     "execution_count": 58,
     "metadata": {},
     "output_type": "execute_result"
    }
   ],
   "source": [
    "len(t2)"
   ]
  },
  {
   "cell_type": "code",
   "execution_count": 59,
   "id": "7a07f31f-ebc6-46ac-a7bc-bb3983e3f4fc",
   "metadata": {},
   "outputs": [
    {
     "data": {
      "text/plain": [
       "1"
      ]
     },
     "execution_count": 59,
     "metadata": {},
     "output_type": "execute_result"
    }
   ],
   "source": [
    "min(t2)"
   ]
  },
  {
   "cell_type": "code",
   "execution_count": 60,
   "id": "4a84c96b-eeb4-414f-990c-68ab623f144a",
   "metadata": {},
   "outputs": [
    {
     "data": {
      "text/plain": [
       "5"
      ]
     },
     "execution_count": 60,
     "metadata": {},
     "output_type": "execute_result"
    }
   ],
   "source": [
    "max(t2)"
   ]
  },
  {
   "cell_type": "code",
   "execution_count": 61,
   "id": "7d13454f-1a72-4035-b7b1-cfcd63548f4d",
   "metadata": {},
   "outputs": [
    {
     "data": {
      "text/plain": [
       "13"
      ]
     },
     "execution_count": 61,
     "metadata": {},
     "output_type": "execute_result"
    }
   ],
   "source": [
    "sum(t2)"
   ]
  },
  {
   "cell_type": "code",
   "execution_count": 62,
   "id": "5bff5546-b4b1-4841-8eef-c71a63c1e49c",
   "metadata": {},
   "outputs": [
    {
     "data": {
      "text/plain": [
       "[1, 3, 4, 5]"
      ]
     },
     "execution_count": 62,
     "metadata": {},
     "output_type": "execute_result"
    }
   ],
   "source": [
    "sorted(t2)"
   ]
  },
  {
   "cell_type": "code",
   "execution_count": 65,
   "id": "b1c8897b-b528-41e6-968b-ef5f0d7bdc64",
   "metadata": {},
   "outputs": [
    {
     "data": {
      "text/plain": [
       "[5, 4, 3, 1]"
      ]
     },
     "execution_count": 65,
     "metadata": {},
     "output_type": "execute_result"
    }
   ],
   "source": [
    "sorted(t2, reverse  = True)"
   ]
  },
  {
   "cell_type": "code",
   "execution_count": 69,
   "id": "848bc077-cd87-4c7d-8ebd-fdbe9cd68a99",
   "metadata": {},
   "outputs": [
    {
     "data": {
      "text/plain": [
       "(5, 4, 3, 1)"
      ]
     },
     "execution_count": 69,
     "metadata": {},
     "output_type": "execute_result"
    }
   ],
   "source": [
    "t2[::-1]"
   ]
  },
  {
   "cell_type": "code",
   "execution_count": 73,
   "id": "8ff54cc3-c3eb-4c5a-8984-777853746f63",
   "metadata": {},
   "outputs": [
    {
     "data": {
      "text/plain": [
       "0"
      ]
     },
     "execution_count": 73,
     "metadata": {},
     "output_type": "execute_result"
    }
   ],
   "source": [
    "t = (1,2,3,4,5)\n",
    "t.count(50)"
   ]
  },
  {
   "cell_type": "code",
   "execution_count": 74,
   "id": "81dc39f5-c55c-40a0-b682-8fec0bd4f325",
   "metadata": {},
   "outputs": [
    {
     "data": {
      "text/plain": [
       "1"
      ]
     },
     "execution_count": 74,
     "metadata": {},
     "output_type": "execute_result"
    }
   ],
   "source": [
    "t.count(5)"
   ]
  },
  {
   "cell_type": "code",
   "execution_count": 76,
   "id": "27b15c1c-f65b-43cb-9faf-ceddc4eac681",
   "metadata": {},
   "outputs": [
    {
     "data": {
      "text/plain": [
       "2"
      ]
     },
     "execution_count": 76,
     "metadata": {},
     "output_type": "execute_result"
    }
   ],
   "source": [
    "t.index(3)"
   ]
  },
  {
   "cell_type": "markdown",
   "id": "dd3aabad-8a9b-4ba2-af67-a441c36a2e2f",
   "metadata": {},
   "source": [
    "                                                Lists vs Tuples"
   ]
  },
  {
   "cell_type": "code",
   "execution_count": 1,
   "id": "bdd28414-d489-48b0-8261-9fe56995922b",
   "metadata": {},
   "outputs": [
    {
     "name": "stdout",
     "output_type": "stream",
     "text": [
      "list time 0.0\n",
      "tuple time 0.00928640365600586\n"
     ]
    }
   ],
   "source": [
    "import time\n",
    "l = list(range(1000))\n",
    "t = list(range(1000))\n",
    "\n",
    "#list timing\n",
    "start = time.time()\n",
    "for i in l:\n",
    "    i*5\n",
    "print('list time' , time.time()-start)\n",
    "\n",
    "#tuple timing\n",
    "start = time.time()\n",
    "for i in t:\n",
    "    t*5\n",
    "print('tuple time',time.time()-start)    \n",
    "    \n",
    "    "
   ]
  },
  {
   "cell_type": "code",
   "execution_count": 4,
   "id": "a4d0df55-f67c-4aba-ab71-06dd2639a4e3",
   "metadata": {},
   "outputs": [
    {
     "name": "stdout",
     "output_type": "stream",
     "text": [
      "(1, 2, 3, 4)\n",
      "(1, 2, 3)\n"
     ]
    }
   ],
   "source": [
    "a = (1, 2, 3)\n",
    "b = a\n",
    "a = a + (4,)\n",
    "print(a)\n",
    "print(b)"
   ]
  },
  {
   "cell_type": "code",
   "execution_count": 5,
   "id": "c0341a3e-1e99-4322-96e0-87fc0989aa4d",
   "metadata": {},
   "outputs": [
    {
     "name": "stdout",
     "output_type": "stream",
     "text": [
      "List size 8056\n",
      "Tuple size 8040\n"
     ]
    }
   ],
   "source": [
    "import sys\n",
    "L = list(range(1000))\n",
    "T = tuple(range(1000))\n",
    "print('List size', sys.getsizeof(L))\n",
    "print('Tuple size', sys.getsizeof(T))"
   ]
  },
  {
   "cell_type": "markdown",
   "id": "55a17ed2-6d31-4cc7-beed-8d1577234454",
   "metadata": {},
   "source": [
    "                                                          Q. Why use Tuples?"
   ]
  },
  {
   "cell_type": "markdown",
   "id": "e109621e-8991-4941-b377-38ef6b45229e",
   "metadata": {},
   "source": [
    "                                                Special Syntax"
   ]
  },
  {
   "cell_type": "code",
   "execution_count": 8,
   "id": "b553b24f-b0d6-4433-b86c-f5b81e3cd1a0",
   "metadata": {},
   "outputs": [
    {
     "name": "stdout",
     "output_type": "stream",
     "text": [
      "1 2 3\n"
     ]
    }
   ],
   "source": [
    "a,b,c = (1,2,3)\n",
    "print(a,b,c)"
   ]
  },
  {
   "cell_type": "code",
   "execution_count": 9,
   "id": "c148078a-d8e6-470a-ac90-eab5fc7cf538",
   "metadata": {},
   "outputs": [
    {
     "ename": "ValueError",
     "evalue": "too many values to unpack (expected 2)",
     "output_type": "error",
     "traceback": [
      "\u001b[1;31m---------------------------------------------------------------------------\u001b[0m",
      "\u001b[1;31mValueError\u001b[0m                                Traceback (most recent call last)",
      "Cell \u001b[1;32mIn[9], line 1\u001b[0m\n\u001b[1;32m----> 1\u001b[0m a, b \u001b[38;5;241m=\u001b[39m (\u001b[38;5;241m1\u001b[39m, \u001b[38;5;241m2\u001b[39m, \u001b[38;5;241m3\u001b[39m)\n\u001b[0;32m      2\u001b[0m \u001b[38;5;28mprint\u001b[39m(a, b)\n",
      "\u001b[1;31mValueError\u001b[0m: too many values to unpack (expected 2)"
     ]
    }
   ],
   "source": [
    "a, b = (1, 2, 3)\n",
    "print(a, b)\n"
   ]
  },
  {
   "cell_type": "code",
   "execution_count": 10,
   "id": "10b5fa04-ac90-4c95-9e7f-420fc7205d32",
   "metadata": {},
   "outputs": [
    {
     "name": "stdout",
     "output_type": "stream",
     "text": [
      "2 1\n"
     ]
    }
   ],
   "source": [
    "a = 1\n",
    "b = 2\n",
    "a , b = b , a\n",
    "print(a,b)"
   ]
  },
  {
   "cell_type": "code",
   "execution_count": 14,
   "id": "a705c879-90b9-4dfa-b181-7a4e6b2bee1a",
   "metadata": {},
   "outputs": [
    {
     "name": "stdout",
     "output_type": "stream",
     "text": [
      "1 2\n",
      "[3, 4]\n"
     ]
    }
   ],
   "source": [
    "a , b, *others = (1,2,3,4)\n",
    "print(a,b)\n",
    "print(others)"
   ]
  },
  {
   "cell_type": "code",
   "execution_count": 15,
   "id": "664f3764-fb07-4831-bb54-c29fec966107",
   "metadata": {},
   "outputs": [
    {
     "data": {
      "text/plain": [
       "((1, 5), (2, 6), (3, 7), (4, 8))"
      ]
     },
     "execution_count": 15,
     "metadata": {},
     "output_type": "execute_result"
    }
   ],
   "source": [
    "a = (1, 2, 3, 4)\n",
    "b = (5, 6, 7, 8)\n",
    "tuple(zip(a,b))"
   ]
  },
  {
   "cell_type": "code",
   "execution_count": 16,
   "id": "3bf0834a-723d-40ce-a2a1-0f6556fca0bb",
   "metadata": {},
   "outputs": [],
   "source": [
    "                                                 #quiz"
   ]
  },
  {
   "cell_type": "code",
   "execution_count": 19,
   "id": "61151217-0036-4f21-8b12-c1bd068f3ebc",
   "metadata": {},
   "outputs": [],
   "source": [
    "#1)b) An immutable data structure\n"
   ]
  },
  {
   "cell_type": "code",
   "execution_count": 20,
   "id": "25b2a997-5482-427c-b0e0-55de471f0ab2",
   "metadata": {},
   "outputs": [],
   "source": [
    "#2)c) t = ()"
   ]
  },
  {
   "cell_type": "code",
   "execution_count": 21,
   "id": "81c1fa73-13d5-49f2-a00b-5ded5cdb4c0b",
   "metadata": {},
   "outputs": [],
   "source": [
    "#3)b) t = (10)"
   ]
  },
  {
   "cell_type": "code",
   "execution_count": 22,
   "id": "66d5b286-7197-4e71-958c-694e406856a7",
   "metadata": {},
   "outputs": [],
   "source": [
    "#4)b) Tuples are immutable, lists are mutable"
   ]
  },
  {
   "cell_type": "code",
   "execution_count": 23,
   "id": "3645922b-67c3-4666-be40-e2ba343d6e3f",
   "metadata": {},
   "outputs": [],
   "source": [
    "#5)d) len()"
   ]
  },
  {
   "cell_type": "code",
   "execution_count": 24,
   "id": "05a38b5f-8b06-4164-a058-83002bb31733",
   "metadata": {},
   "outputs": [],
   "source": [
    "#6)b) t[0]"
   ]
  },
  {
   "cell_type": "code",
   "execution_count": 25,
   "id": "74158046-7d95-4628-8d0c-fd9704229db6",
   "metadata": {},
   "outputs": [],
   "source": [
    "#7)a) t[-1]"
   ]
  },
  {
   "cell_type": "code",
   "execution_count": 26,
   "id": "36e42a5b-9c30-49df-b0c7-ad453bbc9585",
   "metadata": {},
   "outputs": [],
   "source": [
    "#8)a) (20, 30, 40)"
   ]
  },
  {
   "cell_type": "code",
   "execution_count": 27,
   "id": "12838edf-e2d1-4119-9d8d-3d2088fa61e9",
   "metadata": {},
   "outputs": [],
   "source": [
    "#9)b) It raises an error"
   ]
  },
  {
   "cell_type": "code",
   "execution_count": 28,
   "id": "d07e8f17-1f1a-4c03-8037-6652efe24a09",
   "metadata": {},
   "outputs": [],
   "source": [
    "#10)b) t.index(value)"
   ]
  },
  {
   "cell_type": "code",
   "execution_count": null,
   "id": "2e0a619c-ac5b-415b-afd7-a49682bd615e",
   "metadata": {},
   "outputs": [],
   "source": [
    "\n"
   ]
  },
  {
   "cell_type": "code",
   "execution_count": 30,
   "id": "9f0c19cd-60b5-4639-9592-b5fa811a1e58",
   "metadata": {},
   "outputs": [],
   "source": [
    "#12)a) ('a', 'b', 'a', 'b', 'a', 'b')"
   ]
  },
  {
   "cell_type": "code",
   "execution_count": 35,
   "id": "a1e3557a-03f0-47f2-9154-8304b530ee1d",
   "metadata": {},
   "outputs": [],
   "source": [
    "#13)c) 20 in t"
   ]
  },
  {
   "cell_type": "code",
   "execution_count": 36,
   "id": "dcd1e7f0-2972-4012-92d5-5382d4717d9b",
   "metadata": {},
   "outputs": [],
   "source": [
    "#14)b) (3, 4, 5)"
   ]
  },
  {
   "cell_type": "code",
   "execution_count": 37,
   "id": "1caf0a70-3572-4d54-9a88-8f3dfe1ae925",
   "metadata": {},
   "outputs": [],
   "source": [
    "#15)a) 10"
   ]
  },
  {
   "cell_type": "code",
   "execution_count": 38,
   "id": "5f9d47bd-adbc-4da1-b03c-e9e20d9402e3",
   "metadata": {},
   "outputs": [],
   "source": [
    "#16)a) Yes"
   ]
  },
  {
   "cell_type": "code",
   "execution_count": 39,
   "id": "ae3850ed-5075-46cf-aea7-972f14385cdf",
   "metadata": {},
   "outputs": [],
   "source": [
    "#17)b) 4"
   ]
  },
  {
   "cell_type": "code",
   "execution_count": 40,
   "id": "965cd443-ab2c-48a0-824d-d3eeec019d91",
   "metadata": {},
   "outputs": [],
   "source": [
    "#18)a) It modifies the tuple"
   ]
  },
  {
   "cell_type": "code",
   "execution_count": 41,
   "id": "b7fdea04-85f1-4d7c-b5c6-4a9eb543aa77",
   "metadata": {},
   "outputs": [],
   "source": [
    "#19)a) t.count(value)"
   ]
  },
  {
   "cell_type": "code",
   "execution_count": 42,
   "id": "4d1786b8-afad-42f0-bcfa-b099f10befe4",
   "metadata": {},
   "outputs": [],
   "source": [
    "#20) <class 'tuple'>"
   ]
  },
  {
   "cell_type": "code",
   "execution_count": null,
   "id": "133aa72b-aea3-4c33-9430-995fb4cc435e",
   "metadata": {},
   "outputs": [],
   "source": []
  }
 ],
 "metadata": {
  "kernelspec": {
   "display_name": "Python 3 (ipykernel)",
   "language": "python",
   "name": "python3"
  },
  "language_info": {
   "codemirror_mode": {
    "name": "ipython",
    "version": 3
   },
   "file_extension": ".py",
   "mimetype": "text/x-python",
   "name": "python",
   "nbconvert_exporter": "python",
   "pygments_lexer": "ipython3",
   "version": "3.12.7"
  }
 },
 "nbformat": 4,
 "nbformat_minor": 5
}

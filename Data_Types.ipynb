{
 "cells": [
  {
   "cell_type": "markdown",
   "id": "69383c8a-6af9-496f-a31a-5b49bd2f057e",
   "metadata": {},
   "source": [
    "Data Type"
   ]
  },
  {
   "cell_type": "code",
   "execution_count": 1,
   "id": "37cd70a1-62f9-4dfa-9411-304bf1173984",
   "metadata": {},
   "outputs": [
    {
     "data": {
      "text/plain": [
       "5"
      ]
     },
     "execution_count": 1,
     "metadata": {},
     "output_type": "execute_result"
    }
   ],
   "source": [
    "int(5)"
   ]
  },
  {
   "cell_type": "code",
   "execution_count": 2,
   "id": "614e0e31-778e-4810-a30b-7f8b7f168d2e",
   "metadata": {},
   "outputs": [
    {
     "data": {
      "text/plain": [
       "int"
      ]
     },
     "execution_count": 2,
     "metadata": {},
     "output_type": "execute_result"
    }
   ],
   "source": [
    "type(5)"
   ]
  },
  {
   "cell_type": "code",
   "execution_count": 3,
   "id": "25865729-da19-4c4b-accf-7519ff4988fc",
   "metadata": {},
   "outputs": [],
   "source": [
    "Room=5"
   ]
  },
  {
   "cell_type": "code",
   "execution_count": 4,
   "id": "7d5c8506-36b9-4c15-bcbd-2338a7ba8982",
   "metadata": {},
   "outputs": [
    {
     "name": "stdout",
     "output_type": "stream",
     "text": [
      "5\n"
     ]
    }
   ],
   "source": [
    "print(Room)"
   ]
  },
  {
   "cell_type": "code",
   "execution_count": 5,
   "id": "3d941dba-47b1-4654-a760-73ec14367630",
   "metadata": {},
   "outputs": [
    {
     "data": {
      "text/plain": [
       "5"
      ]
     },
     "execution_count": 5,
     "metadata": {},
     "output_type": "execute_result"
    }
   ],
   "source": [
    "Room"
   ]
  },
  {
   "cell_type": "code",
   "execution_count": 6,
   "id": "96057fa8-03ae-474a-b098-e1775e2528e8",
   "metadata": {},
   "outputs": [
    {
     "data": {
      "text/plain": [
       "int"
      ]
     },
     "execution_count": 6,
     "metadata": {},
     "output_type": "execute_result"
    }
   ],
   "source": [
    "type(Room)"
   ]
  },
  {
   "cell_type": "code",
   "execution_count": 16,
   "id": "423eaca6-3cd8-4489-afb1-c8c6579867d9",
   "metadata": {},
   "outputs": [],
   "source": [
    "c=5.6"
   ]
  },
  {
   "cell_type": "code",
   "execution_count": 14,
   "id": "2a06980e-0798-4ab6-8f75-b02f38ad07df",
   "metadata": {},
   "outputs": [
    {
     "data": {
      "text/plain": [
       "5.6"
      ]
     },
     "execution_count": 14,
     "metadata": {},
     "output_type": "execute_result"
    }
   ],
   "source": [
    "B"
   ]
  },
  {
   "cell_type": "code",
   "execution_count": 19,
   "id": "502de542-36f7-4524-ae93-d884a6c90e12",
   "metadata": {},
   "outputs": [
    {
     "name": "stdout",
     "output_type": "stream",
     "text": [
      "(4+5j)\n"
     ]
    }
   ],
   "source": [
    "print(4+5J)"
   ]
  },
  {
   "cell_type": "code",
   "execution_count": 20,
   "id": "15977626-1bce-4d75-a9f0-b9619dbcab5a",
   "metadata": {},
   "outputs": [
    {
     "name": "stdout",
     "output_type": "stream",
     "text": [
      "True\n"
     ]
    }
   ],
   "source": [
    "print(True)"
   ]
  },
  {
   "cell_type": "code",
   "execution_count": 21,
   "id": "dec55e87-c813-4451-8091-cf8df5490fec",
   "metadata": {},
   "outputs": [
    {
     "data": {
      "text/plain": [
       "True"
      ]
     },
     "execution_count": 21,
     "metadata": {},
     "output_type": "execute_result"
    }
   ],
   "source": [
    "True"
   ]
  },
  {
   "cell_type": "code",
   "execution_count": 22,
   "id": "1fe57432-d42b-4959-a23f-d877ddb25bf1",
   "metadata": {},
   "outputs": [
    {
     "name": "stdout",
     "output_type": "stream",
     "text": [
      "False\n"
     ]
    }
   ],
   "source": [
    "print(False)"
   ]
  },
  {
   "cell_type": "code",
   "execution_count": 24,
   "id": "ed9af0b5-acec-4156-b093-04414c02d57d",
   "metadata": {},
   "outputs": [
    {
     "data": {
      "text/plain": [
       "1"
      ]
     },
     "execution_count": 24,
     "metadata": {},
     "output_type": "execute_result"
    }
   ],
   "source": [
    "True+False#1+0"
   ]
  },
  {
   "cell_type": "code",
   "execution_count": 27,
   "id": "d39c9618-c0bd-431d-8c82-fbf1eac98cac",
   "metadata": {},
   "outputs": [
    {
     "data": {
      "text/plain": [
       "2"
      ]
     },
     "execution_count": 27,
     "metadata": {},
     "output_type": "execute_result"
    }
   ],
   "source": [
    "True+True#1+1"
   ]
  },
  {
   "cell_type": "code",
   "execution_count": 28,
   "id": "3331006d-bc0d-4c84-b854-19dda3f56c3b",
   "metadata": {},
   "outputs": [
    {
     "data": {
      "text/plain": [
       "0"
      ]
     },
     "execution_count": 28,
     "metadata": {},
     "output_type": "execute_result"
    }
   ],
   "source": [
    "False+False#0+0"
   ]
  },
  {
   "cell_type": "code",
   "execution_count": 29,
   "id": "791d9b7c-7448-45cb-b1b4-950aa5924a7f",
   "metadata": {},
   "outputs": [
    {
     "data": {
      "text/plain": [
       "0"
      ]
     },
     "execution_count": 29,
     "metadata": {},
     "output_type": "execute_result"
    }
   ],
   "source": [
    "False-False"
   ]
  },
  {
   "cell_type": "code",
   "execution_count": 30,
   "id": "3743c65e-1cf1-4ef6-b8a4-b3dcfce1e8e3",
   "metadata": {},
   "outputs": [
    {
     "data": {
      "text/plain": [
       "0"
      ]
     },
     "execution_count": 30,
     "metadata": {},
     "output_type": "execute_result"
    }
   ],
   "source": [
    "True-True"
   ]
  },
  {
   "cell_type": "code",
   "execution_count": null,
   "id": "62b4848b-3bf9-478f-8bca-ff9735a1fd40",
   "metadata": {},
   "outputs": [],
   "source": []
  }
 ],
 "metadata": {
  "kernelspec": {
   "display_name": "Python 3 (ipykernel)",
   "language": "python",
   "name": "python3"
  },
  "language_info": {
   "codemirror_mode": {
    "name": "ipython",
    "version": 3
   },
   "file_extension": ".py",
   "mimetype": "text/x-python",
   "name": "python",
   "nbconvert_exporter": "python",
   "pygments_lexer": "ipython3",
   "version": "3.12.7"
  }
 },
 "nbformat": 4,
 "nbformat_minor": 5
}

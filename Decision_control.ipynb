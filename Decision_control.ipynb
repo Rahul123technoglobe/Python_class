{
 "cells": [
  {
   "cell_type": "markdown",
   "id": "3206cab5-7f7d-4b56-b6a0-6e21f5670a94",
   "metadata": {},
   "source": [
    "Decision_control"
   ]
  },
  {
   "cell_type": "code",
   "execution_count": 1,
   "id": "bcccfcc5-ac17-468d-b6fc-fde993533aec",
   "metadata": {},
   "outputs": [],
   "source": [
    "a = 33"
   ]
  },
  {
   "cell_type": "code",
   "execution_count": 2,
   "id": "c5dfd8e4-8f8c-4288-b13f-26f962a3d6e2",
   "metadata": {},
   "outputs": [
    {
     "name": "stdout",
     "output_type": "stream",
     "text": [
      "false\n"
     ]
    }
   ],
   "source": [
    "if a==34:\n",
    "   print('true')\n",
    "else:\n",
    "   print('false')"
   ]
  },
  {
   "cell_type": "code",
   "execution_count": 3,
   "id": "98363fe5-9558-4655-a3d7-44c6f24b24a8",
   "metadata": {},
   "outputs": [],
   "source": [
    "#(if it is grater then \"0\" , print positive) ,,(if it is les then \"0\",print negative) ,, (if it is equal to \"0\" , print \"0\")"
   ]
  },
  {
   "cell_type": "code",
   "execution_count": null,
   "id": "03ecf9d7-f147-4351-85fd-7dbae639d900",
   "metadata": {},
   "outputs": [],
   "source": [
    "num = int(input('enter the value')\n",
    "if num>0:\n",
    "          \n",
    "          \n",
    "          \n",
    "          \n",
    "          \n",
    "          "
   ]
  }
 ],
 "metadata": {
  "kernelspec": {
   "display_name": "Python 3 (ipykernel)",
   "language": "python",
   "name": "python3"
  },
  "language_info": {
   "codemirror_mode": {
    "name": "ipython",
    "version": 3
   },
   "file_extension": ".py",
   "mimetype": "text/x-python",
   "name": "python",
   "nbconvert_exporter": "python",
   "pygments_lexer": "ipython3",
   "version": "3.12.7"
  }
 },
 "nbformat": 4,
 "nbformat_minor": 5
}

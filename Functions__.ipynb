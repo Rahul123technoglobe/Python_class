{
 "cells": [
  {
   "cell_type": "code",
   "execution_count": 22,
   "id": "88d701bf-3552-4100-b7d5-d447ce3eac49",
   "metadata": {},
   "outputs": [],
   "source": [
    "# Check if number is even/odd\n",
    "def is_even(number):\n",
    "    \"\"\"\n",
    "    This function tells if a given number is odd or even\n",
    "    Input - any valid integer\n",
    "    Output - odd/even\n",
    "    Created By - Rahul Raj\n",
    "    Last edited - 25 Feb 2025\n",
    "    \"\"\" \n",
    "    if number % 2 == 0:\n",
    "        return \"Even\"\n",
    "    else:\n",
    "        return \"Odd\""
   ]
  },
  {
   "cell_type": "code",
   "execution_count": 27,
   "id": "6daec82f-ddf7-4be5-ad56-2a9e2f852947",
   "metadata": {},
   "outputs": [
    {
     "data": {
      "text/plain": [
       "'Odd'"
      ]
     },
     "execution_count": 27,
     "metadata": {},
     "output_type": "execute_result"
    }
   ],
   "source": [
    "is_even(421)"
   ]
  },
  {
   "cell_type": "code",
   "execution_count": 24,
   "id": "2bc928d8-e9f0-4f09-b4b0-509b4f29d67f",
   "metadata": {},
   "outputs": [
    {
     "name": "stdout",
     "output_type": "stream",
     "text": [
      "Odd\n",
      "Even\n",
      "Odd\n",
      "Even\n",
      "Odd\n",
      "Even\n",
      "Odd\n",
      "Even\n",
      "Odd\n",
      "Even\n"
     ]
    }
   ],
   "source": [
    "for i in range(1,11):\n",
    "    print(is_even(i))"
   ]
  },
  {
   "cell_type": "code",
   "execution_count": 25,
   "id": "765f6afa-046f-4fe4-830e-271a11dfff46",
   "metadata": {},
   "outputs": [
    {
     "name": "stdout",
     "output_type": "stream",
     "text": [
      "\n",
      "    This function tells if a given number is odd or even\n",
      "    Input - any valid integer\n",
      "    Output - odd/even\n",
      "    Created By - Rahul Raj\n",
      "    Last edited - 25 Feb 2025\n",
      "    \n"
     ]
    }
   ],
   "source": [
    "print(is_even.__doc__)"
   ]
  },
  {
   "cell_type": "code",
   "execution_count": 26,
   "id": "0a1e6366-121a-4655-9a13-5c331e263090",
   "metadata": {},
   "outputs": [
    {
     "data": {
      "text/plain": [
       "'Prints the values to a stream, or to sys.stdout by default.\\n\\n  sep\\n    string inserted between values, default a space.\\n  end\\n    string appended after the last value, default a newline.\\n  file\\n    a file-like object (stream); defaults to the current sys.stdout.\\n  flush\\n    whether to forcibly flush the stream.'"
      ]
     },
     "execution_count": 26,
     "metadata": {},
     "output_type": "execute_result"
    }
   ],
   "source": [
    "print.__doc__"
   ]
  },
  {
   "cell_type": "code",
   "execution_count": 28,
   "id": "f50f85da-8f8b-4a16-9e72-0b6434a90300",
   "metadata": {},
   "outputs": [
    {
     "data": {
      "text/plain": [
       "'C:\\\\Users\\\\lenovo\\\\Desktop\\\\Rahul'"
      ]
     },
     "execution_count": 28,
     "metadata": {},
     "output_type": "execute_result"
    }
   ],
   "source": [
    " pwd"
   ]
  },
  {
   "cell_type": "code",
   "execution_count": 32,
   "id": "7ccec551-408f-4f40-a681-8d72069a7f81",
   "metadata": {},
   "outputs": [],
   "source": [
    "import math"
   ]
  },
  {
   "cell_type": "code",
   "execution_count": 1,
   "id": "9acad48f-c262-4f6f-b554-81c915b09c38",
   "metadata": {},
   "outputs": [
    {
     "name": "stdout",
     "output_type": "stream",
     "text": [
      "2\n"
     ]
    }
   ],
   "source": [
    "print(2)"
   ]
  },
  {
   "cell_type": "markdown",
   "id": "f2c478f3-e3a4-4b90-80b0-6fd3997e9b7e",
   "metadata": {},
   "source": [
    "                                                Parameters Vs Arguments\n"
   ]
  },
  {
   "cell_type": "code",
   "execution_count": 6,
   "id": "2466d181-22e2-4e5f-9a23-004280e44b32",
   "metadata": {},
   "outputs": [],
   "source": [
    "def pow(a, b):\n",
    "    return a**b"
   ]
  },
  {
   "cell_type": "code",
   "execution_count": 8,
   "id": "217c24bb-a7fb-43b4-92cf-1cb6f9cfa723",
   "metadata": {},
   "outputs": [
    {
     "data": {
      "text/plain": [
       "8"
      ]
     },
     "execution_count": 8,
     "metadata": {},
     "output_type": "execute_result"
    }
   ],
   "source": [
    "pow(2,3)"
   ]
  },
  {
   "cell_type": "code",
   "execution_count": 9,
   "id": "7836f800-13ab-4e23-9c16-1c66c28400b4",
   "metadata": {},
   "outputs": [
    {
     "ename": "TypeError",
     "evalue": "pow() missing required argument 'exp' (pos 2)",
     "output_type": "error",
     "traceback": [
      "\u001b[1;31m---------------------------------------------------------------------------\u001b[0m",
      "\u001b[1;31mTypeError\u001b[0m                                 Traceback (most recent call last)",
      "Cell \u001b[1;32mIn[9], line 1\u001b[0m\n\u001b[1;32m----> 1\u001b[0m \u001b[38;5;28mpow\u001b[39m(\u001b[38;5;241m9\u001b[39m)\n",
      "\u001b[1;31mTypeError\u001b[0m: pow() missing required argument 'exp' (pos 2)"
     ]
    }
   ],
   "source": [
    "pow(9)"
   ]
  },
  {
   "cell_type": "code",
   "execution_count": 10,
   "id": "4ac05168-32b3-4e5b-b6a0-e41ca54796b1",
   "metadata": {},
   "outputs": [],
   "source": [
    "def pow(a=0,b=0):\n",
    "    return a**b"
   ]
  },
  {
   "cell_type": "code",
   "execution_count": 11,
   "id": "4f31783a-43cc-4114-8cec-f2f0b5a1477b",
   "metadata": {},
   "outputs": [
    {
     "data": {
      "text/plain": [
       "16"
      ]
     },
     "execution_count": 11,
     "metadata": {},
     "output_type": "execute_result"
    }
   ],
   "source": [
    "pow(2,4)"
   ]
  },
  {
   "cell_type": "code",
   "execution_count": 12,
   "id": "23589985-8f8d-4f6e-a834-61ea02ce3fc4",
   "metadata": {},
   "outputs": [
    {
     "data": {
      "text/plain": [
       "1"
      ]
     },
     "execution_count": 12,
     "metadata": {},
     "output_type": "execute_result"
    }
   ],
   "source": [
    "pow(3)"
   ]
  },
  {
   "cell_type": "code",
   "execution_count": 13,
   "id": "4931088d-dd23-49a6-8564-770dc3c43bc4",
   "metadata": {},
   "outputs": [
    {
     "data": {
      "text/plain": [
       "1"
      ]
     },
     "execution_count": 13,
     "metadata": {},
     "output_type": "execute_result"
    }
   ],
   "source": [
    "pow()"
   ]
  },
  {
   "cell_type": "code",
   "execution_count": 16,
   "id": "6b36d932-6709-427a-805f-3a47f903e633",
   "metadata": {},
   "outputs": [],
   "source": [
    "def add(a=0,b=0):\n",
    "    return a+b"
   ]
  },
  {
   "cell_type": "code",
   "execution_count": 17,
   "id": "7761a23d-fd6c-4bef-bf65-0e83426eb2fa",
   "metadata": {},
   "outputs": [
    {
     "data": {
      "text/plain": [
       "50"
      ]
     },
     "execution_count": 17,
     "metadata": {},
     "output_type": "execute_result"
    }
   ],
   "source": [
    "add(50)"
   ]
  },
  {
   "cell_type": "code",
   "execution_count": 18,
   "id": "2948fc1f-efa0-4321-ab0d-d710cd1eb911",
   "metadata": {},
   "outputs": [
    {
     "data": {
      "text/plain": [
       "0"
      ]
     },
     "execution_count": 18,
     "metadata": {},
     "output_type": "execute_result"
    }
   ],
   "source": [
    "add()"
   ]
  },
  {
   "cell_type": "code",
   "execution_count": 80,
   "id": "e96eee14-7743-47d6-8872-4df752d5e8f3",
   "metadata": {},
   "outputs": [],
   "source": [
    "def flexi(*number):\n",
    "    product = 9\n",
    "    for i in number:\n",
    "        product *= i\n",
    "        return product"
   ]
  },
  {
   "cell_type": "code",
   "execution_count": 81,
   "id": "ae157d7a-d247-4ef9-9832-ff9cf4f161bb",
   "metadata": {},
   "outputs": [
    {
     "data": {
      "text/plain": [
       "18"
      ]
     },
     "execution_count": 81,
     "metadata": {},
     "output_type": "execute_result"
    }
   ],
   "source": [
    "flexi(2,3,4,5,6)"
   ]
  },
  {
   "cell_type": "code",
   "execution_count": 59,
   "id": "7dfb8532-b7ad-4e2a-80e2-85b3a353e6fc",
   "metadata": {},
   "outputs": [
    {
     "name": "stdout",
     "output_type": "stream",
     "text": [
      "(2, 3, 4, 5, 6)\n",
      "(2, 3, 4, 5, 6)\n",
      "(2, 3, 4, 5, 6)\n",
      "(2, 3, 4, 5, 6)\n",
      "(2, 3, 4, 5, 6)\n"
     ]
    },
    {
     "data": {
      "text/plain": [
       "720"
      ]
     },
     "execution_count": 59,
     "metadata": {},
     "output_type": "execute_result"
    }
   ],
   "source": [
    "rrr(2,3,4,5,6)"
   ]
  },
  {
   "cell_type": "code",
   "execution_count": 64,
   "id": "3809fcdd-fbc7-424f-8267-4369c90c02aa",
   "metadata": {},
   "outputs": [],
   "source": [
    "def rrrrr(*num):\n",
    "  product = 1\n",
    "  for i in num:\n",
    "    product *= i\n",
    "  return product"
   ]
  },
  {
   "cell_type": "code",
   "execution_count": 65,
   "id": "5ad1cf2b-83c5-4dcc-bf6f-e10b0eaab0d5",
   "metadata": {},
   "outputs": [
    {
     "data": {
      "text/plain": [
       "720"
      ]
     },
     "execution_count": 65,
     "metadata": {},
     "output_type": "execute_result"
    }
   ],
   "source": [
    "rrrrr(1,2,3,4,5,6)"
   ]
  },
  {
   "cell_type": "code",
   "execution_count": 78,
   "id": "8e054150-01d8-4b64-a1b4-accbf9dfdc98",
   "metadata": {},
   "outputs": [],
   "source": [
    "def display(**salam):\n",
    "  for (key, value) in salam.items():\n",
    "    print(key, '>>>>>', value)"
   ]
  },
  {
   "cell_type": "code",
   "execution_count": 1,
   "id": "92f4e8b3-a36c-4557-8ad2-e7bd1d6fea03",
   "metadata": {},
   "outputs": [
    {
     "data": {
      "text/plain": [
       "5"
      ]
     },
     "execution_count": 1,
     "metadata": {},
     "output_type": "execute_result"
    }
   ],
   "source": [
    "len('hello')"
   ]
  },
  {
   "cell_type": "code",
   "execution_count": 2,
   "id": "08e47e5f-1d3d-43ab-baeb-741f603f941d",
   "metadata": {},
   "outputs": [
    {
     "name": "stdout",
     "output_type": "stream",
     "text": [
      "10\n"
     ]
    }
   ],
   "source": [
    "print(10)"
   ]
  },
  {
   "cell_type": "code",
   "execution_count": 3,
   "id": "3a8c7269-5a24-49a1-9558-b85829963c20",
   "metadata": {},
   "outputs": [
    {
     "data": {
      "text/plain": [
       "['False',\n",
       " 'None',\n",
       " 'True',\n",
       " 'and',\n",
       " 'as',\n",
       " 'assert',\n",
       " 'async',\n",
       " 'await',\n",
       " 'break',\n",
       " 'class',\n",
       " 'continue',\n",
       " 'def',\n",
       " 'del',\n",
       " 'elif',\n",
       " 'else',\n",
       " 'except',\n",
       " 'finally',\n",
       " 'for',\n",
       " 'from',\n",
       " 'global',\n",
       " 'if',\n",
       " 'import',\n",
       " 'in',\n",
       " 'is',\n",
       " 'lambda',\n",
       " 'nonlocal',\n",
       " 'not',\n",
       " 'or',\n",
       " 'pass',\n",
       " 'raise',\n",
       " 'return',\n",
       " 'try',\n",
       " 'while',\n",
       " 'with',\n",
       " 'yield']"
      ]
     },
     "execution_count": 3,
     "metadata": {},
     "output_type": "execute_result"
    }
   ],
   "source": [
    "import keyword\n",
    "keyword.kwlist"
   ]
  },
  {
   "cell_type": "code",
   "execution_count": 7,
   "id": "7c1f76d5-acb5-4757-8e28-d91a1d517458",
   "metadata": {},
   "outputs": [],
   "source": [
    "def odd_even(num):\n",
    "    \"\"\"\n",
    "    Name->Rahul\n",
    "    Date->4/3/2025\n",
    "    inpur->integer\n",
    "    output->odd,even\n",
    "    This is my function\n",
    "\n",
    "    \"\"\"\n",
    "    if num%2==0:\n",
    "        return 'even'\n",
    "    else:\n",
    "        return 'odd'"
   ]
  },
  {
   "cell_type": "code",
   "execution_count": 8,
   "id": "d2a890d2-1fd7-4952-b0f9-ad1f0fb155be",
   "metadata": {},
   "outputs": [
    {
     "ename": "TypeError",
     "evalue": "len() takes exactly one argument (0 given)",
     "output_type": "error",
     "traceback": [
      "\u001b[1;31m---------------------------------------------------------------------------\u001b[0m",
      "\u001b[1;31mTypeError\u001b[0m                                 Traceback (most recent call last)",
      "Cell \u001b[1;32mIn[8], line 1\u001b[0m\n\u001b[1;32m----> 1\u001b[0m \u001b[38;5;28mlen\u001b[39m()\n",
      "\u001b[1;31mTypeError\u001b[0m: len() takes exactly one argument (0 given)"
     ]
    }
   ],
   "source": [
    "len()"
   ]
  },
  {
   "cell_type": "code",
   "execution_count": 10,
   "id": "eac9b57a-9a0f-4b49-a0e9-5c64d51e925e",
   "metadata": {},
   "outputs": [
    {
     "data": {
      "text/plain": [
       "'even'"
      ]
     },
     "execution_count": 10,
     "metadata": {},
     "output_type": "execute_result"
    }
   ],
   "source": [
    "odd_even(10)"
   ]
  },
  {
   "cell_type": "code",
   "execution_count": 11,
   "id": "89d6a3ad-7b2c-4ab8-ba4f-c72b584b3852",
   "metadata": {},
   "outputs": [
    {
     "data": {
      "text/plain": [
       "3.5"
      ]
     },
     "execution_count": 11,
     "metadata": {},
     "output_type": "execute_result"
    }
   ],
   "source": [
    "7/2"
   ]
  },
  {
   "cell_type": "code",
   "execution_count": 13,
   "id": "3d5bdeaf-1f61-4663-a148-8286576ec429",
   "metadata": {},
   "outputs": [
    {
     "data": {
      "text/plain": [
       "'odd'"
      ]
     },
     "execution_count": 13,
     "metadata": {},
     "output_type": "execute_result"
    }
   ],
   "source": [
    "odd_even(292493452935)"
   ]
  },
  {
   "cell_type": "code",
   "execution_count": 14,
   "id": "526b0b61-daa9-4711-9ace-b64c128686f1",
   "metadata": {},
   "outputs": [
    {
     "ename": "TypeError",
     "evalue": "not all arguments converted during string formatting",
     "output_type": "error",
     "traceback": [
      "\u001b[1;31m---------------------------------------------------------------------------\u001b[0m",
      "\u001b[1;31mTypeError\u001b[0m                                 Traceback (most recent call last)",
      "Cell \u001b[1;32mIn[14], line 1\u001b[0m\n\u001b[1;32m----> 1\u001b[0m odd_even(\u001b[38;5;124m'\u001b[39m\u001b[38;5;124mwreiwpeo\u001b[39m\u001b[38;5;124m'\u001b[39m)\n",
      "Cell \u001b[1;32mIn[7], line 10\u001b[0m, in \u001b[0;36modd_even\u001b[1;34m(num)\u001b[0m\n\u001b[0;32m      1\u001b[0m \u001b[38;5;28;01mdef\u001b[39;00m \u001b[38;5;21modd_even\u001b[39m(num):\n\u001b[0;32m      2\u001b[0m \u001b[38;5;250m    \u001b[39m\u001b[38;5;124;03m\"\"\"\u001b[39;00m\n\u001b[0;32m      3\u001b[0m \u001b[38;5;124;03m    Name->Rahul\u001b[39;00m\n\u001b[0;32m      4\u001b[0m \u001b[38;5;124;03m    Date->4/3/2025\u001b[39;00m\n\u001b[1;32m   (...)\u001b[0m\n\u001b[0;32m      8\u001b[0m \n\u001b[0;32m      9\u001b[0m \u001b[38;5;124;03m    \"\"\"\u001b[39;00m\n\u001b[1;32m---> 10\u001b[0m     \u001b[38;5;28;01mif\u001b[39;00m num\u001b[38;5;241m%\u001b[39m\u001b[38;5;241m2\u001b[39m\u001b[38;5;241m==\u001b[39m\u001b[38;5;241m0\u001b[39m:\n\u001b[0;32m     11\u001b[0m         \u001b[38;5;28;01mreturn\u001b[39;00m \u001b[38;5;124m'\u001b[39m\u001b[38;5;124meven\u001b[39m\u001b[38;5;124m'\u001b[39m\n\u001b[0;32m     12\u001b[0m     \u001b[38;5;28;01melse\u001b[39;00m:\n",
      "\u001b[1;31mTypeError\u001b[0m: not all arguments converted during string formatting"
     ]
    }
   ],
   "source": [
    "odd_even('wreiwpeo')"
   ]
  },
  {
   "cell_type": "code",
   "execution_count": 12,
   "id": "578f2a55-a0b0-439b-a741-f7d694f69c2c",
   "metadata": {},
   "outputs": [
    {
     "ename": "IndentationError",
     "evalue": "unindent does not match any outer indentation level (<string>, line 10)",
     "output_type": "error",
     "traceback": [
      "\u001b[1;36m  File \u001b[1;32m<string>:10\u001b[1;36m\u001b[0m\n\u001b[1;33m    if type(num)==int:\u001b[0m\n\u001b[1;37m                      ^\u001b[0m\n\u001b[1;31mIndentationError\u001b[0m\u001b[1;31m:\u001b[0m unindent does not match any outer indentation level\n"
     ]
    }
   ],
   "source": [
    "def odd_even(num):\n",
    "    \"\"\"\n",
    "     Name->Rahul\n",
    "    Date->4/3/2025\n",
    "    inpur->integer\n",
    "    output->odd,even\n",
    "    This is my function\n",
    "\n",
    "    \"\"\"\n",
    "   if type(num)==int:\n",
    "    if num%2==0:\n",
    "      return 'even'\n",
    "\n",
    "    else:\n",
    "      return 'odd'\n",
    "\n",
    "  else:\n",
    "    return 'bhai int dal isme'"
   ]
  },
  {
   "cell_type": "code",
   "execution_count": 13,
   "id": "e1858b19-698a-4039-a432-b1c74f1dfce4",
   "metadata": {},
   "outputs": [
    {
     "name": "stdout",
     "output_type": "stream",
     "text": [
      "3233\n"
     ]
    }
   ],
   "source": [
    "print(3233)"
   ]
  },
  {
   "cell_type": "code",
   "execution_count": 14,
   "id": "d5b4cdb4-4398-4363-9f1f-ff7a6846bf14",
   "metadata": {},
   "outputs": [
    {
     "ename": "SyntaxError",
     "evalue": "invalid syntax (3459589153.py, line 1)",
     "output_type": "error",
     "traceback": [
      "\u001b[1;36m  Cell \u001b[1;32mIn[14], line 1\u001b[1;36m\u001b[0m\n\u001b[1;33m    Name->Rahul\u001b[0m\n\u001b[1;37m        ^\u001b[0m\n\u001b[1;31mSyntaxError\u001b[0m\u001b[1;31m:\u001b[0m invalid syntax\n"
     ]
    }
   ],
   "source": [
    " Name->Rahul\n",
    "    Date->4/3/2025\n",
    "    inpur->integer\n",
    "    output->odd,even\n",
    "    This is my function"
   ]
  },
  {
   "cell_type": "code",
   "execution_count": 15,
   "id": "7e5deb7c-2f7e-420c-b513-94443b6a469f",
   "metadata": {},
   "outputs": [
    {
     "ename": "NameError",
     "evalue": "name 'odd_even' is not defined",
     "output_type": "error",
     "traceback": [
      "\u001b[1;31m---------------------------------------------------------------------------\u001b[0m",
      "\u001b[1;31mNameError\u001b[0m                                 Traceback (most recent call last)",
      "Cell \u001b[1;32mIn[15], line 1\u001b[0m\n\u001b[1;32m----> 1\u001b[0m odd_even(\u001b[38;5;124m'\u001b[39m\u001b[38;5;124mhello\u001b[39m\u001b[38;5;124m'\u001b[39m)\n",
      "\u001b[1;31mNameError\u001b[0m: name 'odd_even' is not defined"
     ]
    }
   ],
   "source": [
    "odd_even('hello')"
   ]
  },
  {
   "cell_type": "code",
   "execution_count": 16,
   "id": "97fddd18-3256-42a2-a73e-8fed96547a7c",
   "metadata": {},
   "outputs": [
    {
     "name": "stdout",
     "output_type": "stream",
     "text": [
      "this is my outer func\n",
      "this is my inner func\n"
     ]
    }
   ],
   "source": [
    "def outer_fun() :\n",
    "    print(\"this is my outer func\")\n",
    "    def inner_fun():\n",
    "        print(\"this is my inner func\")\n",
    "\n",
    "\n",
    "    inner_fun()\n",
    "\n",
    "\n",
    "outer_fun()"
   ]
  },
  {
   "cell_type": "code",
   "execution_count": 17,
   "id": "1e32879a-52a0-42b4-975e-6cce66d0de4e",
   "metadata": {},
   "outputs": [
    {
     "name": "stdout",
     "output_type": "stream",
     "text": [
      "this is my outer func\n",
      "this is my inner func\n"
     ]
    }
   ],
   "source": [
    "outer_fun()"
   ]
  },
  {
   "cell_type": "code",
   "execution_count": 20,
   "id": "a936ba7e-efac-468b-bdc9-c96c596ad51c",
   "metadata": {},
   "outputs": [
    {
     "data": {
      "text/plain": [
       "25"
      ]
     },
     "execution_count": 20,
     "metadata": {},
     "output_type": "execute_result"
    }
   ],
   "source": [
    "def cal () :\n",
    "    def add(a,b):\n",
    "        return a + b\n",
    "    def sub(a,b):\n",
    "        return a - b\n",
    "    def mul(a,b):\n",
    "        return a * b\n",
    "    def div(a,b):\n",
    "        return a / b\n",
    "\n",
    "    return {\n",
    "    'add':add,\n",
    "    'sub':sub,\n",
    "    'mul':mul,\n",
    "    'div':div}\n",
    "cal()['mul'](5,5)"
   ]
  },
  {
   "cell_type": "code",
   "execution_count": 28,
   "id": "892edbb0-36fe-42e5-bf16-8da25740e047",
   "metadata": {},
   "outputs": [
    {
     "data": {
      "text/plain": [
       "99999"
      ]
     },
     "execution_count": 28,
     "metadata": {},
     "output_type": "execute_result"
    }
   ],
   "source": [
    "cal()['mul'](99999,1)"
   ]
  },
  {
   "cell_type": "code",
   "execution_count": 29,
   "id": "3f55f858-68a1-4b2c-94b0-6aa0fea3db8c",
   "metadata": {},
   "outputs": [],
   "source": [
    "import re\n",
    "import string"
   ]
  },
  {
   "cell_type": "code",
   "execution_count": 30,
   "id": "46c5385f-65e6-4165-bc49-b74f89e7c1a0",
   "metadata": {},
   "outputs": [],
   "source": [
    "def to_lowercase(text):\n",
    "    \"\"\"convert text to lowercase\"\"\"\n",
    "    return text.lower()\n",
    "    "
   ]
  },
  {
   "cell_type": "code",
   "execution_count": 31,
   "id": "c8cb8e78-b115-4ae2-9f83-55b149a73a87",
   "metadata": {},
   "outputs": [
    {
     "data": {
      "text/plain": [
       "'hello'"
      ]
     },
     "execution_count": 31,
     "metadata": {},
     "output_type": "execute_result"
    }
   ],
   "source": [
    "to_lowercase('hello')"
   ]
  },
  {
   "cell_type": "code",
   "execution_count": 32,
   "id": "7f0a0062-4f85-44d3-b7fc-ea36336e2497",
   "metadata": {},
   "outputs": [],
   "source": [
    "import pandas as pd "
   ]
  },
  {
   "cell_type": "code",
   "execution_count": null,
   "id": "b4a3cb55-4829-4f1d-85dc-469d69a54d55",
   "metadata": {},
   "outputs": [],
   "source": []
  }
 ],
 "metadata": {
  "kernelspec": {
   "display_name": "Python 3 (ipykernel)",
   "language": "python",
   "name": "python3"
  },
  "language_info": {
   "codemirror_mode": {
    "name": "ipython",
    "version": 3
   },
   "file_extension": ".py",
   "mimetype": "text/x-python",
   "name": "python",
   "nbconvert_exporter": "python",
   "pygments_lexer": "ipython3",
   "version": "3.12.7"
  }
 },
 "nbformat": 4,
 "nbformat_minor": 5
}

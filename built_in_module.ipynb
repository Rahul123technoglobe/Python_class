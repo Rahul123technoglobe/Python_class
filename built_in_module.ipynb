{
 "cells": [
  {
   "cell_type": "markdown",
   "id": "6bf4a74e-1932-49c2-9b71-b8ca8eac4ca7",
   "metadata": {},
   "source": [
    "built_in_module"
   ]
  },
  {
   "cell_type": "code",
   "execution_count": 1,
   "id": "e15519e6-7156-4f04-b39d-14107f019162",
   "metadata": {},
   "outputs": [
    {
     "name": "stdout",
     "output_type": "stream",
     "text": [
      "\n",
      "Please wait a moment while I gather a list of all available modules...\n",
      "\n"
     ]
    },
    {
     "name": "stderr",
     "output_type": "stream",
     "text": [
      "C:\\Users\\lenovo\\Documents\\Power BI Desktop\\Custom Connectors\\Lib\\site-packages\\paramiko\\pkey.py:82: CryptographyDeprecationWarning: TripleDES has been moved to cryptography.hazmat.decrepit.ciphers.algorithms.TripleDES and will be removed from this module in 48.0.0.\n",
      "  \"cipher\": algorithms.TripleDES,\n",
      "C:\\Users\\lenovo\\Documents\\Power BI Desktop\\Custom Connectors\\Lib\\site-packages\\paramiko\\transport.py:219: CryptographyDeprecationWarning: Blowfish has been moved to cryptography.hazmat.decrepit.ciphers.algorithms.Blowfish and will be removed from this module in 45.0.0.\n",
      "  \"class\": algorithms.Blowfish,\n",
      "C:\\Users\\lenovo\\Documents\\Power BI Desktop\\Custom Connectors\\Lib\\site-packages\\paramiko\\transport.py:243: CryptographyDeprecationWarning: TripleDES has been moved to cryptography.hazmat.decrepit.ciphers.algorithms.TripleDES and will be removed from this module in 48.0.0.\n",
      "  \"class\": algorithms.TripleDES,\n",
      "C:\\Users\\lenovo\\Documents\\Power BI Desktop\\Custom Connectors\\Lib\\site-packages\\nltk\\twitter\\__init__.py:20: UserWarning: The twython library has not been installed. Some functionality from the twitter package will not be available.\n",
      "  warnings.warn(\n",
      "C:\\Users\\lenovo\\Documents\\Power BI Desktop\\Custom Connectors\\Lib\\pkgutil.py:78: UserWarning: The numpy.array_api submodule is still experimental. See NEP 47.\n",
      "  __import__(info.name)\n",
      "C:\\Users\\lenovo\\Documents\\Power BI Desktop\\Custom Connectors\\Lib\\site-packages\\pydantic\\experimental\\__init__.py:7: PydanticExperimentalWarning:\n",
      "\n",
      "This module is experimental, its contents are subject to change and deprecation.\n",
      "\n",
      "No QCoreApplication instance found. Application patches not applied. You have to call load_stylesheet function after instantiation of QApplication to take effect. \n"
     ]
    },
    {
     "name": "stdout",
     "output_type": "stream",
     "text": [
      "3204bda914b7f2c6f497__mypyc colorcet            mccabe              smmap\n",
      "IPython             colorsys            mdit_py_plugins     smtplib\n",
      "OpenSSL             comm                mdurl               sndhdr\n",
      "PIL                 commctrl            menuinst            sniffio\n",
      "PyQt5               compileall          mimetypes           snowballstemmer\n",
      "__future__          concurrent          mistune             socket\n",
      "__hello__           conda               mkl                 socketserver\n",
      "__phello__          conda_build         mkl_fft             socks\n",
      "_abc                conda_content_trust mkl_random          sockshandler\n",
      "_aix_support        conda_env           ml_dtypes           sortedcontainers\n",
      "_argon2_cffi_bindings conda_index         mmap                soupsieve\n",
      "_ast                conda_libmamba_solver mmapfile            sphinx\n",
      "_asyncio            conda_pack          mmsystem            spyder\n",
      "_bisect             conda_package_handling modulefinder        spyder_kernels\n",
      "_black_version      conda_package_streaming more_itertools      sqlalchemy\n",
      "_blake2             conda_token         mpmath              sqlite3\n",
      "_brotli             configparser        msgpack             sre_compile\n",
      "_bz2                constantly          msilib              sre_constants\n",
      "_cffi_backend       contextlib          msvcrt              sre_parse\n",
      "_codecs             contextvars         multidict           ssl\n",
      "_codecs_cn          contourpy           multipledispatch    sspi\n",
      "_codecs_hk          cookiecutter        multiprocessing     sspicon\n",
      "_codecs_iso2022     copy                mypy                stack_data\n",
      "_codecs_jp          copyreg             mypy_extensions     stat\n",
      "_codecs_kr          cpuinfo             mypyc               statistics\n",
      "_codecs_tw          crypt               nacl                statsmodels\n",
      "_collections        cryptography        namex               streamlit\n",
      "_collections_abc    cssselect           navigator_updater   string\n",
      "_compat_pickle      csv                 nbclient            stringprep\n",
      "_compression        ctypes              nbconvert           struct\n",
      "_contextvars        curl                nbformat            subprocess\n",
      "_csv                curses              nest_asyncio        sunau\n",
      "_ctypes             cwp                 netbios             sympy\n",
      "_ctypes_test        cycler              netrc               symtable\n",
      "_datetime           cytoolz             networkx            sys\n",
      "_decimal            dask                nltk                sysconfig\n",
      "_distutils_hack     dask_expr           nntplib             tables\n",
      "_elementtree        dataclasses         notebook            tabnanny\n",
      "_functools          datashader          notebook_shim       tabulate\n",
      "_hashlib            datetime            nt                  tarfile\n",
      "_heapq              dateutil            ntpath              tblib\n",
      "_imp                dbi                 ntsecuritycon       telnetlib\n",
      "_io                 dbm                 nturl2path          tempfile\n",
      "_json               dde                 numba               tenacity\n",
      "_locale             debugpy             numbergen           tensorboard\n",
      "_lsprof             decimal             numbers             tensorboard_data_server\n",
      "_lzma               decorator           numexpr             tensorflow\n",
      "_markupbase         defusedxml          numpy               termcolor\n",
      "_md5                diff_match_patch    numpydoc            terminado\n",
      "_msi                difflib             odbc                test\n",
      "_multibytecodec     dill                opcode              test_pycosat\n",
      "_multiprocessing    dis                 openpyxl            text_unidecode\n",
      "_nsis               distributed         operator            textdistance\n",
      "_opcode             distro              opt_einsum          textwrap\n",
      "_operator           docstring_to_markdown optparse            this\n",
      "_osx_support        doctest             optree              threading\n",
      "_overlapped         docutils            os                  threadpoolctl\n",
      "_pickle             dotenv              overrides           three_merge\n",
      "_plotly_future_     email               packaging           tifffile\n",
      "_plotly_utils       encodings           pandas              time\n",
      "_py_abc             ensurepip           pandocfilters       timeit\n",
      "_pydatetime         enum                panel               timer\n",
      "_pydecimal          erfa                param               tinycss2\n",
      "_pyio               errno               paramiko            tkinter\n",
      "_pylong             et_xmlfile          parsel              tldextract\n",
      "_pytest             executing           parso               tlz\n",
      "_queue              fastjsonschema      partd               token\n",
      "_random             faulthandler        pasta               tokenize\n",
      "_ruamel_yaml        filecmp             pathlib             toml\n",
      "_sha1               fileinput           pathspec            tomli\n",
      "_sha2               filelock            patsy               tomlkit\n",
      "_sha3               flake8              pdb                 tomllib\n",
      "_signal             flask               perfmon             toolz\n",
      "_sitebuiltins       flatbuffers         pexpect             tornado\n",
      "_socket             fnmatch             pickle              tqdm\n",
      "_sqlite3            fontTools           pickleshare         trace\n",
      "_sre                fractions           pickletools         traceback\n",
      "_ssl                frozendict          pip                 tracemalloc\n",
      "_stat               frozenlist          pipes               traitlets\n",
      "_statistics         fsspec              pkce                truststore\n",
      "_string             ftplib              pkg_resources       tty\n",
      "_strptime           functools           pkginfo             turtle\n",
      "_struct             gast                pkgutil             turtledemo\n",
      "_symtable           gc                  platform            twisted\n",
      "_system_path        genericpath         platformdirs        typeguard\n",
      "_testbuffer         gensim              plistlib            types\n",
      "_testcapi           getopt              plotly              typing\n",
      "_testclinic         getpass             pluggy              typing_extensions\n",
      "_testconsole        gettext             ply                 tzdata\n",
      "_testimportmultiple git                 poplib              uc_micro\n",
      "_testinternalcapi   gitdb               posixpath           ujson\n",
      "_testmultiphase     glob                pprint              unicodedata\n",
      "_testsinglephase    graphlib            profile             unicodedata2\n",
      "_thread             greenlet            prometheus_client   unidecode\n",
      "_threading_local    grpc                prompt_toolkit      unittest\n",
      "_tkinter            gzip                protego             urllib\n",
      "_tokenize           h11                 pstats              urllib3\n",
      "_tracemalloc        h5py                psutil              uu\n",
      "_typing             hashlib             pty                 uuid\n",
      "_uuid               heapdict            ptyprocess          venv\n",
      "_warnings           heapq               pure_eval           w3lib\n",
      "_weakref            hmac                py                  warnings\n",
      "_weakrefset         holoviews           py_compile          watchdog\n",
      "_win32sysloader     html                pyarrow             wave\n",
      "_winapi             http                pyasn1              wcwidth\n",
      "_winxptheme         httpcore            pyasn1_modules      weakref\n",
      "_wmi                httpx               pyclbr              webbrowser\n",
      "_xxinterpchannels   hvplot              pycodestyle         webencodings\n",
      "_xxsubinterpreters  hyperlink           pycosat             websocket\n",
      "_yaml               idlelib             pycparser           werkzeug\n",
      "_zoneinfo           idna                pyct                whatthepatch\n",
      "abc                 imagecodecs         pycurl              wheel\n",
      "absl                imageio             pydantic            widgetsnbextension\n",
      "adodbapi            imagesize           pydantic_core       win2kras\n",
      "afxres              imaplib             pydeck              win32api\n",
      "aifc                imblearn            pydispatch          win32clipboard\n",
      "aiobotocore         imghdr              pydoc               win32com\n",
      "aiohappyeyeballs    importlib           pydoc_data          win32con\n",
      "aiohttp             importlib_metadata  pydocstyle          win32console\n",
      "aioitertools        importlib_resources pyexpat             win32cred\n",
      "aiosignal           incremental         pyflakes            win32crypt\n",
      "alabaster           inflect             pygments            win32cryptcon\n",
      "altair              inflection          pylab               win32ctypes\n",
      "anaconda_anon_usage iniconfig           pylint              win32event\n",
      "anaconda_catalogs   inspect             pylint_venv         win32evtlog\n",
      "anaconda_cloud_auth intake              pyls_spyder         win32evtlogutil\n",
      "anaconda_navigator  intervaltree        pylsp               win32file\n",
      "anaconda_project    io                  pylsp_black         win32gui\n",
      "annotated_types     ipaddress           pylsp_jsonrpc       win32gui_struct\n",
      "antigravity         ipykernel           pyodbc              win32help\n",
      "anyio               ipykernel_launcher  pyparsing           win32inet\n",
      "appdirs             ipython_genutils    pytest              win32inetcon\n",
      "archspec            ipywidgets          pythoncom           win32job\n",
      "argon2              isapi               pythonjsonlogger    win32lz\n",
      "argparse            isort               pytoolconfig        win32net\n",
      "array               isympy              pytz                win32netcon\n",
      "arrow               itemadapter         pyviz_comms         win32pdh\n",
      "ast                 itemloaders         pywin               win32pdhquery\n",
      "astroid             itertools           pywin32_bootstrap   win32pdhutil\n",
      "astropy             itsdangerous        pywin32_testutil    win32pipe\n",
      "astropy_iers_data   jedi                pywintypes          win32print\n",
      "asttokens           jellyfish           pywt                win32process\n",
      "astunparse          jinja2              qdarkstyle          win32profile\n",
      "async_lru           jmespath            qstylizer           win32ras\n",
      "asyncio             joblib              qtawesome           win32rcparser\n",
      "atexit              json                qtconsole           win32security\n",
      "atomicwrites        json5               qtpy                win32service\n",
      "attr                jsonpatch           queue               win32serviceutil\n",
      "attrs               jsonpointer         queuelib            win32timezone\n",
      "audioop             jsonschema          quopri              win32trace\n",
      "autocommand         jsonschema_specifications random              win32traceutil\n",
      "automat             jupyter             rasutil             win32transaction\n",
      "autopep8            jupyter_client      re                  win32ts\n",
      "babel               jupyter_console     referencing         win32ui\n",
      "backports           jupyter_core        regcheck            win32uiole\n",
      "base64              jupyter_events      regex               win32verstamp\n",
      "bcrypt              jupyter_lsp         regutil             win32wnet\n",
      "bdb                 jupyter_server      repo_cli            win_inet_pton\n",
      "binaryornot         jupyter_server_terminals reprlib             winerror\n",
      "binascii            jupyterlab          requests            winioctlcon\n",
      "binstar_client      jupyterlab_plotly   requests_file       winnt\n",
      "bisect              jupyterlab_pygments requests_toolbelt   winperf\n",
      "black               jupyterlab_server   rfc3339_validator   winpty\n",
      "blackd              jupyterlab_widgets  rfc3986_validator   winreg\n",
      "bleach              jwt                 rich                winsound\n",
      "blib2to3            keras               rlcompleter         winxpgui\n",
      "blinker             keyring             rope                winxptheme\n",
      "bokeh               keyword             rpds                wrapt\n",
      "boltons             kiwisolver          rtree               wsgiref\n",
      "botocore            lazy_loader         ruamel_yaml         xarray\n",
      "bottleneck          lazy_object_proxy   runpy               xdrlib\n",
      "brotli              lckr_jupyterlab_variableinspector s3fs                xlwings\n",
      "bs4                 lib2to3             sched               xlwingsjs\n",
      "builtins            libarchive          scipy               xml\n",
      "bz2                 libmambapy          scrapy              xmlrpc\n",
      "cProfile            lief                seaborn             xxlimited\n",
      "cachetools          linecache           secrets             xxlimited_35\n",
      "calendar            linkify_it          select              xxsubtype\n",
      "certifi             llvmlite            selectors           xyzservices\n",
      "cffi                lmdb                semver              yaml\n",
      "cgi                 locale              send2trash          yapf\n",
      "cgitb               locket              service_identity    yapf_third_party\n",
      "chardet             logging             servicemanager      yapftests\n",
      "charset_normalizer  lxml                setuptools          yarl\n",
      "chunk               lz4                 shelve              zict\n",
      "clang               lzma                shlex               zipapp\n",
      "click               mailbox             shutil              zipfile\n",
      "cloudpickle         mailcap             signal              zipimport\n",
      "cmath               markdown            sipbuild            zipp\n",
      "cmd                 markdown_it         site                zlib\n",
      "code                markupsafe          six                 zmq\n",
      "codecs              marshal             skimage             zoneinfo\n",
      "codeop              math                sklearn             zope\n",
      "collections         matplotlib          slugify             zstandard\n",
      "colorama            matplotlib_inline   smart_open          \n",
      "\n",
      "Enter any module name to get more help.  Or, type \"modules spam\" to search\n",
      "for modules whose name or summary contain the string \"spam\".\n",
      "\n"
     ]
    }
   ],
   "source": [
    "\n",
    "help(\"modules\")"
   ]
  },
  {
   "cell_type": "code",
   "execution_count": 2,
   "id": "14bbe9bf-a54b-4793-95c3-e14220c3e861",
   "metadata": {},
   "outputs": [
    {
     "name": "stdout",
     "output_type": "stream",
     "text": [
      "['False', 'None', 'True', 'and', 'as', 'assert', 'async', 'await', 'break', 'class', 'continue', 'def', 'del', 'elif', 'else', 'except', 'finally', 'for', 'from', 'global', 'if', 'import', 'in', 'is', 'lambda', 'nonlocal', 'not', 'or', 'pass', 'raise', 'return', 'try', 'while', 'with', 'yield']\n"
     ]
    }
   ],
   "source": [
    "#2)Keyword modules\n",
    "import keyword \n",
    "print(keyword.kwlist) "
   ]
  },
  {
   "cell_type": "code",
   "execution_count": 15,
   "id": "8786ff6a-1dd4-44ad-881d-f470a4ebdd2f",
   "metadata": {},
   "outputs": [],
   "source": [
    "#3) Math Module\n"
   ]
  },
  {
   "cell_type": "code",
   "execution_count": 5,
   "id": "25f294dd-2edc-4ac1-bd6c-58a250ced374",
   "metadata": {},
   "outputs": [],
   "source": [
    "import math"
   ]
  },
  {
   "cell_type": "code",
   "execution_count": 7,
   "id": "59578d74-b84e-491c-92ec-848e23260ae5",
   "metadata": {},
   "outputs": [
    {
     "data": {
      "text/plain": [
       "3.141592653589793"
      ]
     },
     "execution_count": 7,
     "metadata": {},
     "output_type": "execute_result"
    }
   ],
   "source": [
    "math.pi"
   ]
  },
  {
   "cell_type": "code",
   "execution_count": 8,
   "id": "4ebc10f7-3da7-4fe4-8963-10728104743d",
   "metadata": {},
   "outputs": [
    {
     "data": {
      "text/plain": [
       "2.718281828459045"
      ]
     },
     "execution_count": 8,
     "metadata": {},
     "output_type": "execute_result"
    }
   ],
   "source": [
    "math.e"
   ]
  },
  {
   "cell_type": "code",
   "execution_count": 11,
   "id": "6a7626aa-8e5b-48ff-8a4c-987ac2383de1",
   "metadata": {},
   "outputs": [
    {
     "data": {
      "text/plain": [
       "120"
      ]
     },
     "execution_count": 11,
     "metadata": {},
     "output_type": "execute_result"
    }
   ],
   "source": [
    "math.factorial(5)#5*4*3*2*1"
   ]
  },
  {
   "cell_type": "code",
   "execution_count": 13,
   "id": "6e4873b5-8c5b-437f-8284-a3ea67f14862",
   "metadata": {},
   "outputs": [
    {
     "data": {
      "text/plain": [
       "7"
      ]
     },
     "execution_count": 13,
     "metadata": {},
     "output_type": "execute_result"
    }
   ],
   "source": [
    "math.ceil(6.3)#pick a radmom from given"
   ]
  },
  {
   "cell_type": "code",
   "execution_count": 14,
   "id": "77e6b531-8834-4f23-afa6-aef2def22343",
   "metadata": {},
   "outputs": [
    {
     "data": {
      "text/plain": [
       "9"
      ]
     },
     "execution_count": 14,
     "metadata": {},
     "output_type": "execute_result"
    }
   ],
   "source": [
    "math.floor(9.8)"
   ]
  },
  {
   "cell_type": "code",
   "execution_count": 19,
   "id": "59933457-efb8-43b1-a361-51db7e010219",
   "metadata": {},
   "outputs": [],
   "source": [
    "#Time Module\n"
   ]
  },
  {
   "cell_type": "code",
   "execution_count": 17,
   "id": "e0475f47-fc85-44db-9dcf-b252f3b6e5d5",
   "metadata": {},
   "outputs": [],
   "source": [
    "import time"
   ]
  },
  {
   "cell_type": "code",
   "execution_count": 18,
   "id": "d566473a-f0c6-4a3e-8881-2c6b54a9b2e7",
   "metadata": {},
   "outputs": [
    {
     "data": {
      "text/plain": [
       "1738567911.1348884"
      ]
     },
     "execution_count": 18,
     "metadata": {},
     "output_type": "execute_result"
    }
   ],
   "source": [
    "time.time() #current time Seconds"
   ]
  },
  {
   "cell_type": "code",
   "execution_count": 22,
   "id": "fef4b7e1-9463-44b5-87e3-794a44741b19",
   "metadata": {},
   "outputs": [
    {
     "data": {
      "text/plain": [
       "'Sun Feb  2 23:33:44 2025'"
      ]
     },
     "execution_count": 22,
     "metadata": {},
     "output_type": "execute_result"
    }
   ],
   "source": [
    "time.ctime()"
   ]
  },
  {
   "cell_type": "code",
   "execution_count": 25,
   "id": "2067d5ee-39b1-42f4-a6cc-47fae0cf2add",
   "metadata": {},
   "outputs": [
    {
     "name": "stdout",
     "output_type": "stream",
     "text": [
      "hello this\n",
      "beautiful world\n"
     ]
    }
   ],
   "source": [
    "print(\"hello this\")\n",
    "time.sleep(2)\n",
    "print(\"beautiful world\")"
   ]
  },
  {
   "cell_type": "code",
   "execution_count": 27,
   "id": "1231a39f-c2da-4a56-84ff-9887cf5a955f",
   "metadata": {},
   "outputs": [],
   "source": [
    "#datetime Module\n"
   ]
  },
  {
   "cell_type": "code",
   "execution_count": 28,
   "id": "82365892-90d0-4c2d-a1eb-25eca5492cb1",
   "metadata": {},
   "outputs": [
    {
     "name": "stdout",
     "output_type": "stream",
     "text": [
      "2025-02-02 23:36:42.847139\n"
     ]
    }
   ],
   "source": [
    "import datetime\n",
    "print(datetime.datetime.now()) # Current date/time\n"
   ]
  },
  {
   "cell_type": "code",
   "execution_count": 29,
   "id": "954ca8ac-607c-4929-af0e-c5d90f2fb484",
   "metadata": {},
   "outputs": [],
   "source": [
    "#os Module"
   ]
  },
  {
   "cell_type": "code",
   "execution_count": 30,
   "id": "f2f90376-365f-4615-b605-e3f69bbcf992",
   "metadata": {},
   "outputs": [],
   "source": [
    "import os"
   ]
  },
  {
   "cell_type": "code",
   "execution_count": 31,
   "id": "064a0e06-f291-4620-bf51-991c16223c62",
   "metadata": {},
   "outputs": [
    {
     "data": {
      "text/plain": [
       "'C:\\\\Users\\\\lenovo\\\\Desktop\\\\Rahul'"
      ]
     },
     "execution_count": 31,
     "metadata": {},
     "output_type": "execute_result"
    }
   ],
   "source": [
    "os.getcwd() # Current working dir"
   ]
  },
  {
   "cell_type": "code",
   "execution_count": 32,
   "id": "9610ab83-5d36-45f4-b8b6-2025c048047e",
   "metadata": {},
   "outputs": [
    {
     "data": {
      "text/plain": [
       "['.ipynb_checkpoints',\n",
       " 'Built_in_function.ipynb',\n",
       " 'built_in_module.ipynb',\n",
       " 'Container data type.ipynb',\n",
       " 'Data_Types.ipynb',\n",
       " 'Decision_control.ibty',\n",
       " 'experiments.ipynb',\n",
       " 'For_loop.ipynb',\n",
       " 'Keywords_Identifiers.ipynb',\n",
       " 'literals.ipynb',\n",
       " 'Operators.ipynb',\n",
       " 'Print function.ipynb',\n",
       " 'Untitled.ipynb',\n",
       " 'Untitled1.ipynb',\n",
       " 'User_Input.ipynb',\n",
       " 'Variable.ipynb',\n",
       " 'WineQT.csv']"
      ]
     },
     "execution_count": 32,
     "metadata": {},
     "output_type": "execute_result"
    }
   ],
   "source": [
    "os.listdir() # Files in dir"
   ]
  },
  {
   "cell_type": "code",
   "execution_count": 33,
   "id": "ec0aa5c2-f426-4ddb-9c1b-9d28949b79b7",
   "metadata": {},
   "outputs": [],
   "source": [
    "#Random Module"
   ]
  },
  {
   "cell_type": "code",
   "execution_count": 39,
   "id": "758f5f47-45ed-4663-9149-ed01a4b948f3",
   "metadata": {},
   "outputs": [],
   "source": [
    "import random"
   ]
  },
  {
   "cell_type": "code",
   "execution_count": 40,
   "id": "7c1a7711-8a13-4b07-805c-e83e27a0e42b",
   "metadata": {},
   "outputs": [
    {
     "data": {
      "text/plain": [
       "24"
      ]
     },
     "execution_count": 40,
     "metadata": {},
     "output_type": "execute_result"
    }
   ],
   "source": [
    "random.randint(1, 100)\n"
   ]
  },
  {
   "cell_type": "code",
   "execution_count": 45,
   "id": "96f3911c-6a38-4d5b-ac43-9ed16acdd49c",
   "metadata": {},
   "outputs": [
    {
     "data": {
      "text/plain": [
       "[6, 3, 7, 4, 5, 5, 4, 3, 2]"
      ]
     },
     "execution_count": 45,
     "metadata": {},
     "output_type": "execute_result"
    }
   ],
   "source": [
    "a=[2,3,4,5,6,4,3,5,7]\n",
    "random.shuffle(a)\n",
    "a"
   ]
  },
  {
   "cell_type": "code",
   "execution_count": null,
   "id": "6468978c-6d3d-4204-86d7-69f4bad6bb3e",
   "metadata": {},
   "outputs": [],
   "source": []
  },
  {
   "cell_type": "code",
   "execution_count": null,
   "id": "6cb07a19-dfc8-4934-a041-6e0249d1742e",
   "metadata": {},
   "outputs": [],
   "source": []
  }
 ],
 "metadata": {
  "kernelspec": {
   "display_name": "Python 3 (ipykernel)",
   "language": "python",
   "name": "python3"
  },
  "language_info": {
   "codemirror_mode": {
    "name": "ipython",
    "version": 3
   },
   "file_extension": ".py",
   "mimetype": "text/x-python",
   "name": "python",
   "nbconvert_exporter": "python",
   "pygments_lexer": "ipython3",
   "version": "3.12.7"
  }
 },
 "nbformat": 4,
 "nbformat_minor": 5
}

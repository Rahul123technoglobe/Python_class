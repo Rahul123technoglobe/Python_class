{
 "cells": [
  {
   "cell_type": "code",
   "execution_count": 1,
   "id": "079e7e55-b6a0-4b83-b955-41357ddaebc9",
   "metadata": {},
   "outputs": [],
   "source": [
    "list = [1,2,3,4]"
   ]
  },
  {
   "cell_type": "code",
   "execution_count": 2,
   "id": "87f62018-0079-4905-83e2-08c9057b174a",
   "metadata": {},
   "outputs": [
    {
     "data": {
      "text/plain": [
       "[1, 2, 3, 4]"
      ]
     },
     "execution_count": 2,
     "metadata": {},
     "output_type": "execute_result"
    }
   ],
   "source": [
    "list"
   ]
  },
  {
   "cell_type": "code",
   "execution_count": 3,
   "id": "7e565071-3bef-4838-aa8e-e4fd1ebb6012",
   "metadata": {},
   "outputs": [
    {
     "name": "stdout",
     "output_type": "stream",
     "text": [
      "1\n",
      "2\n",
      "3\n",
      "4\n"
     ]
    }
   ],
   "source": [
    "for i in list:\n",
    "    print(i)"
   ]
  },
  {
   "cell_type": "code",
   "execution_count": 4,
   "id": "4f658a84-8212-4cdf-a37b-f8ce0935dd9d",
   "metadata": {},
   "outputs": [],
   "source": [
    "#for Loop"
   ]
  },
  {
   "cell_type": "code",
   "execution_count": 12,
   "id": "ef6d2d36-ae62-455e-b9b7-5fe66cbba286",
   "metadata": {},
   "outputs": [],
   "source": [
    "Students = [1,2,3,4,5,6,7,8,9,10,11,12]"
   ]
  },
  {
   "cell_type": "code",
   "execution_count": 13,
   "id": "3531d8a7-1cfc-49e6-bd81-eb8b859c58cf",
   "metadata": {},
   "outputs": [
    {
     "data": {
      "text/plain": [
       "[1, 2, 3, 4, 5, 6, 7, 8, 9, 10, 11, 12]"
      ]
     },
     "execution_count": 13,
     "metadata": {},
     "output_type": "execute_result"
    }
   ],
   "source": [
    "Students"
   ]
  },
  {
   "cell_type": "code",
   "execution_count": 14,
   "id": "147826ac-57c9-48ab-8c9d-e1ff35bc54cc",
   "metadata": {},
   "outputs": [
    {
     "name": "stdout",
     "output_type": "stream",
     "text": [
      "1\n",
      "2\n",
      "3\n",
      "4\n",
      "5\n",
      "6\n",
      "7\n",
      "8\n",
      "9\n",
      "10\n",
      "11\n",
      "12\n"
     ]
    }
   ],
   "source": [
    "for i in Students:\n",
    "    print(i)"
   ]
  },
  {
   "cell_type": "code",
   "execution_count": 19,
   "id": "96f749c5-0b3e-49c5-b99a-413ac5517cfc",
   "metadata": {},
   "outputs": [],
   "source": [
    "Groups = ['A','B','C','D']"
   ]
  },
  {
   "cell_type": "code",
   "execution_count": 20,
   "id": "7125709a-fe35-428f-ab7d-6c04d625f350",
   "metadata": {},
   "outputs": [
    {
     "data": {
      "text/plain": [
       "['A', 'B', 'C', 'D']"
      ]
     },
     "execution_count": 20,
     "metadata": {},
     "output_type": "execute_result"
    }
   ],
   "source": [
    "Groups"
   ]
  },
  {
   "cell_type": "code",
   "execution_count": 21,
   "id": "763021f3-d628-4485-bc3c-7268d55a62e4",
   "metadata": {},
   "outputs": [
    {
     "name": "stdout",
     "output_type": "stream",
     "text": [
      "A\n",
      "B\n",
      "C\n",
      "D\n"
     ]
    }
   ],
   "source": [
    "for i in Groups:\n",
    "    print(i)"
   ]
  },
  {
   "cell_type": "code",
   "execution_count": 22,
   "id": "7cecf0a5-993a-4ea2-b00c-00ada023f795",
   "metadata": {},
   "outputs": [],
   "source": [
    "Names = ['Raj','Ram','Sonu','Suresh','jatin']"
   ]
  },
  {
   "cell_type": "code",
   "execution_count": 23,
   "id": "063baeb5-be53-43e0-ac43-9a94b9ecc282",
   "metadata": {},
   "outputs": [
    {
     "data": {
      "text/plain": [
       "['Raj', 'Ram', 'Sonu', 'Suresh', 'jatin']"
      ]
     },
     "execution_count": 23,
     "metadata": {},
     "output_type": "execute_result"
    }
   ],
   "source": [
    "Names"
   ]
  },
  {
   "cell_type": "code",
   "execution_count": 24,
   "id": "2aac7741-db3a-4274-9f5a-189fd370c7b7",
   "metadata": {},
   "outputs": [
    {
     "name": "stdout",
     "output_type": "stream",
     "text": [
      "Raj\n",
      "Ram\n",
      "Sonu\n",
      "Suresh\n",
      "jatin\n"
     ]
    }
   ],
   "source": [
    "for i in Names:\n",
    "    print(i)\n",
    "    "
   ]
  },
  {
   "cell_type": "code",
   "execution_count": 29,
   "id": "2d978f9e-28fc-4812-b4db-280879d30dc0",
   "metadata": {},
   "outputs": [],
   "source": [
    "numbers = [2.33,45.66,23.77,98.66,]"
   ]
  },
  {
   "cell_type": "code",
   "execution_count": 30,
   "id": "650fb026-93c6-4e9f-bda7-a4ed70d1c33b",
   "metadata": {},
   "outputs": [
    {
     "name": "stdout",
     "output_type": "stream",
     "text": [
      "2.33\n",
      "45.66\n",
      "23.77\n",
      "98.66\n"
     ]
    }
   ],
   "source": [
    "for i in numbers:\n",
    "    print(i)"
   ]
  },
  {
   "cell_type": "code",
   "execution_count": 31,
   "id": "d686d313-ed95-466a-8587-e65ddd57529d",
   "metadata": {},
   "outputs": [],
   "source": [
    "list=[25,30,33,40,50,60,70,80,90,75]"
   ]
  },
  {
   "cell_type": "code",
   "execution_count": 33,
   "id": "ce706f61-5623-4d22-851c-97f7ada658e8",
   "metadata": {},
   "outputs": [
    {
     "name": "stdout",
     "output_type": "stream",
     "text": [
      "25\n",
      "30\n",
      "33\n",
      "40\n",
      "50\n",
      "60\n",
      "70\n",
      "80\n",
      "90\n",
      "75\n"
     ]
    }
   ],
   "source": [
    "for numbers in list:\n",
    "    print(numbers)"
   ]
  },
  {
   "cell_type": "code",
   "execution_count": 39,
   "id": "fea99644-a5b7-4b81-a70d-4cea830f5e1b",
   "metadata": {},
   "outputs": [
    {
     "name": "stdout",
     "output_type": "stream",
     "text": [
      "0\n",
      "1\n",
      "2\n",
      "3\n",
      "4\n",
      "5\n",
      "6\n",
      "7\n",
      "8\n",
      "9\n"
     ]
    }
   ],
   "source": [
    "for i in range(10):\n",
    "    print(i)"
   ]
  },
  {
   "cell_type": "code",
   "execution_count": 40,
   "id": "104e661b-f9fb-4fa8-aab5-be20349bf1f0",
   "metadata": {},
   "outputs": [
    {
     "name": "stdout",
     "output_type": "stream",
     "text": [
      "10\n",
      "11\n",
      "12\n",
      "13\n",
      "14\n",
      "15\n",
      "16\n",
      "17\n",
      "18\n",
      "19\n",
      "20\n",
      "21\n",
      "22\n",
      "23\n",
      "24\n",
      "25\n",
      "26\n",
      "27\n",
      "28\n",
      "29\n",
      "30\n",
      "31\n",
      "32\n",
      "33\n",
      "34\n",
      "35\n",
      "36\n",
      "37\n",
      "38\n",
      "39\n",
      "40\n",
      "41\n",
      "42\n",
      "43\n",
      "44\n",
      "45\n",
      "46\n",
      "47\n",
      "48\n",
      "49\n",
      "50\n"
     ]
    }
   ],
   "source": [
    "for i in range(10,51):\n",
    "    print(i)"
   ]
  },
  {
   "cell_type": "code",
   "execution_count": 42,
   "id": "86c65e60-2094-480b-8952-d6e36a708c11",
   "metadata": {},
   "outputs": [
    {
     "name": "stdout",
     "output_type": "stream",
     "text": [
      "1\n",
      "4\n",
      "7\n",
      "10\n"
     ]
    }
   ],
   "source": [
    "for i in range(1,11,3):\n",
    "    print(i)"
   ]
  },
  {
   "cell_type": "code",
   "execution_count": 2,
   "id": "5a1287fd-1fa0-48f2-9f91-88b778c20bff",
   "metadata": {},
   "outputs": [
    {
     "name": "stdout",
     "output_type": "stream",
     "text": [
      "1\n",
      "10\n",
      "19\n",
      "28\n",
      "37\n",
      "46\n",
      "55\n",
      "64\n",
      "73\n",
      "82\n",
      "91\n"
     ]
    }
   ],
   "source": [
    "for men in range(1,99,9):\n",
    "    print(men)"
   ]
  },
  {
   "cell_type": "code",
   "execution_count": 4,
   "id": "b7d4c9e7-934c-479f-bd69-95a887751aa1",
   "metadata": {},
   "outputs": [
    {
     "name": "stdout",
     "output_type": "stream",
     "text": [
      "18\n",
      "20\n",
      "22\n",
      "24\n",
      "26\n"
     ]
    }
   ],
   "source": [
    "for a in range(9*2,9*3,2):\n",
    "    print(a)"
   ]
  },
  {
   "cell_type": "code",
   "execution_count": 9,
   "id": "e282c6bf-f883-432a-8dee-e6b1456416e1",
   "metadata": {},
   "outputs": [
    {
     "name": "stdout",
     "output_type": "stream",
     "text": [
      "1\n",
      "2\n"
     ]
    }
   ],
   "source": [
    "for t in range(9%2,3%99):\n",
    "    print(t)"
   ]
  },
  {
   "cell_type": "code",
   "execution_count": 10,
   "id": "9afeabbe-276b-4e8c-8240-65219a700d62",
   "metadata": {},
   "outputs": [],
   "source": [
    "list=(1,2,3,4,5)\n"
   ]
  },
  {
   "cell_type": "code",
   "execution_count": 12,
   "id": "aac90cee-963e-4d4e-b745-bca752b09f0c",
   "metadata": {},
   "outputs": [
    {
     "name": "stdout",
     "output_type": "stream",
     "text": [
      "this is three 3\n"
     ]
    }
   ],
   "source": [
    "for i in list:\n",
    "    if i==3:\n",
    "        print(\"this is three\",i)"
   ]
  },
  {
   "cell_type": "code",
   "execution_count": 14,
   "id": "75d1b49f-fc06-44cf-bf6b-e15e560d853e",
   "metadata": {},
   "outputs": [],
   "source": [
    "list=(1,2,3,4,5)"
   ]
  },
  {
   "cell_type": "code",
   "execution_count": 15,
   "id": "14ccab75-842e-4019-a553-f0e02b96cd33",
   "metadata": {},
   "outputs": [
    {
     "name": "stdout",
     "output_type": "stream",
     "text": [
      "it's Five 5\n"
     ]
    }
   ],
   "source": [
    "for a in list:\n",
    "    if a==5:\n",
    "        print(\"it's Five\",a)"
   ]
  },
  {
   "cell_type": "code",
   "execution_count": 16,
   "id": "33984ed6-6835-438a-9e8d-74da6cbe4523",
   "metadata": {},
   "outputs": [],
   "source": [
    "list=('raj','ram','shyam')"
   ]
  },
  {
   "cell_type": "code",
   "execution_count": 17,
   "id": "6c1d0389-4b79-4886-b10d-2af9c5f32f72",
   "metadata": {},
   "outputs": [
    {
     "name": "stdout",
     "output_type": "stream",
     "text": [
      "25 raj\n"
     ]
    }
   ],
   "source": [
    "for a in list:\n",
    "    if a==\"raj\":\n",
    "        print(25,a)"
   ]
  },
  {
   "cell_type": "code",
   "execution_count": 28,
   "id": "04e2ec7d-1a15-4325-bbbe-3d8928d11f12",
   "metadata": {},
   "outputs": [],
   "source": [
    "\n",
    "for n in list:\n",
    "    if n==7:\n",
    "        print(n,a)\n",
    "    "
   ]
  },
  {
   "cell_type": "code",
   "execution_count": 33,
   "id": "3314c660-309e-4662-883d-76c52cd9453d",
   "metadata": {},
   "outputs": [],
   "source": [
    "tuple=(22,30,45,55,78,99,4+2,'raj')"
   ]
  },
  {
   "cell_type": "code",
   "execution_count": 39,
   "id": "a6238848-7597-44b4-bb0d-396918876635",
   "metadata": {},
   "outputs": [
    {
     "name": "stdout",
     "output_type": "stream",
     "text": [
      "small number 30\n"
     ]
    }
   ],
   "source": [
    "for e in tuple:\n",
    "    if e==30:\n",
    "        print(\"small number\",e)"
   ]
  },
  {
   "cell_type": "code",
   "execution_count": 40,
   "id": "2c5ea01e-3515-415a-8323-0a1539719da5",
   "metadata": {},
   "outputs": [],
   "source": [
    "str = (\"Rahul RAJ\")"
   ]
  },
  {
   "cell_type": "code",
   "execution_count": 41,
   "id": "ce11725a-f97b-4db8-97a5-5f9cb0e41555",
   "metadata": {},
   "outputs": [
    {
     "name": "stdout",
     "output_type": "stream",
     "text": [
      "R\n",
      "a\n",
      "h\n",
      "u\n",
      "l\n",
      " \n",
      "R\n",
      "A\n",
      "J\n"
     ]
    }
   ],
   "source": [
    "for i in str:\n",
    "    print(i)"
   ]
  },
  {
   "cell_type": "code",
   "execution_count": 42,
   "id": "d783f758-9a8b-4981-a8c0-7423b077fad7",
   "metadata": {},
   "outputs": [],
   "source": [
    "name=[\"sam\",\"tom\",\"peter\",\"thomas\",\"Rahul\"]"
   ]
  },
  {
   "cell_type": "code",
   "execution_count": 43,
   "id": "c0562fe8-b005-4235-8e73-b478339a71b4",
   "metadata": {},
   "outputs": [
    {
     "name": "stdout",
     "output_type": "stream",
     "text": [
      "sam\n",
      "tom\n",
      "peter\n",
      "thomas\n",
      "Rahul\n"
     ]
    }
   ],
   "source": [
    "for i in name:\n",
    "    print(i)"
   ]
  },
  {
   "cell_type": "code",
   "execution_count": 46,
   "id": "f63bf652-73af-452f-a9cc-d463408a168a",
   "metadata": {},
   "outputs": [
    {
     "name": "stdout",
     "output_type": "stream",
     "text": [
      "Rahul\n"
     ]
    }
   ],
   "source": [
    "for i in name:\n",
    "    if i==\"peter\":\n",
    "        continue\n",
    "        \n",
    "print(i)\n"
   ]
  },
  {
   "cell_type": "code",
   "execution_count": 47,
   "id": "9a867d4c-73fa-4d23-b78e-6a3b956d08e7",
   "metadata": {},
   "outputs": [
    {
     "name": "stdout",
     "output_type": "stream",
     "text": [
      "1\n",
      "2\n",
      "3\n",
      "4\n",
      "5\n",
      "Breaking out of the loop!\n"
     ]
    }
   ],
   "source": [
    "for i in range(1, 10):\n",
    "    print(i)\n",
    "    if i == 5:\n",
    "        print(\"Breaking out of the loop!\")\n",
    "        break\n"
   ]
  },
  {
   "cell_type": "code",
   "execution_count": 48,
   "id": "fbcad404-dcc0-4af4-82af-6f6233c9585c",
   "metadata": {},
   "outputs": [
    {
     "name": "stdout",
     "output_type": "stream",
     "text": [
      "peter\n"
     ]
    }
   ],
   "source": [
    "for i in name:\n",
    "    if i == \"peter\":\n",
    "        print(i)\n",
    "        break"
   ]
  },
  {
   "cell_type": "code",
   "execution_count": 51,
   "id": "a1098cc3-7ed3-4c27-a961-406356cfeb40",
   "metadata": {},
   "outputs": [
    {
     "name": "stdout",
     "output_type": "stream",
     "text": [
      "1\n",
      "2\n",
      "3\n",
      "4\n",
      "5\n",
      "Breaking out of the loop!\n",
      "6\n",
      "7\n",
      "8\n",
      "9\n"
     ]
    }
   ],
   "source": [
    "for i in range(1, 10):\n",
    "    print(i)\n",
    "    if i == 5:\n",
    "        print(\"Breaking out of the loop!\")\n",
    "        continue"
   ]
  },
  {
   "cell_type": "code",
   "execution_count": null,
   "id": "b588e742-fc95-48ce-9a96-c1d286a3e3f9",
   "metadata": {},
   "outputs": [],
   "source": []
  }
 ],
 "metadata": {
  "kernelspec": {
   "display_name": "Python 3 (ipykernel)",
   "language": "python",
   "name": "python3"
  },
  "language_info": {
   "codemirror_mode": {
    "name": "ipython",
    "version": 3
   },
   "file_extension": ".py",
   "mimetype": "text/x-python",
   "name": "python",
   "nbconvert_exporter": "python",
   "pygments_lexer": "ipython3",
   "version": "3.12.7"
  }
 },
 "nbformat": 4,
 "nbformat_minor": 5
}

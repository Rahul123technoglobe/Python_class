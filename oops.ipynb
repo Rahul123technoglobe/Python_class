{
 "cells": [
  {
   "cell_type": "code",
   "execution_count": 3,
   "id": "feeae873-8ccf-4e46-a15a-83ac7121fc15",
   "metadata": {},
   "outputs": [
    {
     "name": "stdout",
     "output_type": "stream",
     "text": [
      "Rahul\n",
      "Rahul\n",
      "\n"
     ]
    }
   ],
   "source": [
    "class test:\n",
    "    def __init__(self):\n",
    "        print(\"Rahul\")\n",
    "t1=test()\n",
    "t2=test()\n",
    "print()"
   ]
  },
  {
   "cell_type": "code",
   "execution_count": 4,
   "id": "85e3c080-e49b-4e32-b404-03873e5c1780",
   "metadata": {},
   "outputs": [
    {
     "name": "stdout",
     "output_type": "stream",
     "text": [
      "3 4\n"
     ]
    }
   ],
   "source": [
    "class test:\n",
    "    def __init__(self,a,b):\n",
    "        self.a=a\n",
    "        self.b=b\n",
    "r1=test(3,4)\n",
    "print(r1.a,r1.b)"
   ]
  },
  {
   "cell_type": "code",
   "execution_count": 24,
   "id": "42c419a9-6c2d-47dc-b599-0ce909b4ad07",
   "metadata": {},
   "outputs": [
    {
     "name": "stdout",
     "output_type": "stream",
     "text": [
      "4 5\n"
     ]
    }
   ],
   "source": [
    "class obb:\n",
    "    def __init__(selfish,a,b):\n",
    "        selfish.a=a\n",
    "        selfish.b=b\n",
    "r5=obb(4,5)\n",
    "print(r5.a,r5.b)"
   ]
  },
  {
   "cell_type": "code",
   "execution_count": 41,
   "id": "b85e6ca0-aef6-44d8-997b-5bb746714304",
   "metadata": {},
   "outputs": [
    {
     "name": "stdout",
     "output_type": "stream",
     "text": [
      "4 5 6 7.5 bona -71 4.5\n"
     ]
    }
   ],
   "source": [
    "class obb:\n",
    "    def __init__(selfish,a,b,c,d,f,y,p):    # is a special method that automatically runs when an object is created\n",
    "        selfish.a=a\n",
    "        selfish.b=b\n",
    "        selfish.c=c\n",
    "        selfish.d=d\n",
    "        selfish.f=f\n",
    "        selfish.y=y\n",
    "        selfish.p=p\n",
    "        \n",
    "r5=obb(4,5,6,7.5,\"bona\",(4+5-80),4.5)\n",
    "print(r5.a,r5.b,r5.c,r5.d,r5.f,r5.y,r5.p)"
   ]
  },
  {
   "cell_type": "code",
   "execution_count": null,
   "id": "75411ad3-9276-4b16-85f7-635807c2cf32",
   "metadata": {},
   "outputs": [],
   "source": []
  },
  {
   "cell_type": "markdown",
   "id": "082ddc24-25e1-4d9e-ac58-da73865008f9",
   "metadata": {},
   "source": [
    "lass representation:\n",
    "\n",
    "+-------------------------+\n",
    "|          - Car          |\n",
    "|-------------------------| \n",
    "|         - Color         | \n",
    "|        - mileage        | # attributes/data (private)\n",
    "|         - engine        |\n",
    "|-------------------------|\n",
    "|     + cal_avg_speed     | \n",
    "|     + open_airbags      | # methods/functions (public)\n",
    "|       + show_gps        |\n",
    "+-------------------------+"
   ]
  },
  {
   "cell_type": "code",
   "execution_count": null,
   "id": "a853a324-4fa0-44a3-b273-c88c0148f094",
   "metadata": {},
   "outputs": [],
   "source": []
  },
  {
   "cell_type": "code",
   "execution_count": null,
   "id": "df5c2ff3-f088-4e63-823e-af66ad2cc868",
   "metadata": {},
   "outputs": [],
   "source": []
  }
 ],
 "metadata": {
  "kernelspec": {
   "display_name": "Python 3 (ipykernel)",
   "language": "python",
   "name": "python3"
  },
  "language_info": {
   "codemirror_mode": {
    "name": "ipython",
    "version": 3
   },
   "file_extension": ".py",
   "mimetype": "text/x-python",
   "name": "python",
   "nbconvert_exporter": "python",
   "pygments_lexer": "ipython3",
   "version": "3.12.7"
  }
 },
 "nbformat": 4,
 "nbformat_minor": 5
}

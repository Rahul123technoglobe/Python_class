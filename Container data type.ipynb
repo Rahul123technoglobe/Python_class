{
 "cells": [
  {
   "cell_type": "markdown",
   "id": "b18bba1a-4f52-4d74-b2f1-5bf19ec20c10",
   "metadata": {},
   "source": [
    "Container datatype"
   ]
  },
  {
   "cell_type": "code",
   "execution_count": 53,
   "id": "5f007303-8661-416a-8362-2b3ac273b08b",
   "metadata": {},
   "outputs": [],
   "source": [
    "#[1]list= = [2,2.5,True]\n",
    "#[2]tupple=()\n",
    "#[3]dict={:},Key,value\n",
    "#[4]set={}"
   ]
  },
  {
   "cell_type": "code",
   "execution_count": 3,
   "id": "ce3e6f07-d9a1-4241-ab5c-b1654e30e4d5",
   "metadata": {},
   "outputs": [],
   "source": [
    "a = True"
   ]
  },
  {
   "cell_type": "code",
   "execution_count": 4,
   "id": "e83cfbb4-6f42-49a6-938d-c8b609463aa4",
   "metadata": {},
   "outputs": [
    {
     "data": {
      "text/plain": [
       "bool"
      ]
     },
     "execution_count": 4,
     "metadata": {},
     "output_type": "execute_result"
    }
   ],
   "source": [
    "type(a)"
   ]
  },
  {
   "cell_type": "code",
   "execution_count": 33,
   "id": "153b0de9-9180-4ec8-a36a-bc25ca413115",
   "metadata": {},
   "outputs": [],
   "source": [
    "#list\"[]\"\n",
    "l=[2,3,4,5,4]"
   ]
  },
  {
   "cell_type": "code",
   "execution_count": 14,
   "id": "ec59bc5b-3565-48b5-a8c7-a6b667e74ff0",
   "metadata": {},
   "outputs": [
    {
     "data": {
      "text/plain": [
       "[2, 3, 4, 5, 4]"
      ]
     },
     "execution_count": 14,
     "metadata": {},
     "output_type": "execute_result"
    }
   ],
   "source": [
    "l"
   ]
  },
  {
   "cell_type": "code",
   "execution_count": 15,
   "id": "675d0425-7574-450f-94e5-18f99919d6d4",
   "metadata": {},
   "outputs": [
    {
     "data": {
      "text/plain": [
       "list"
      ]
     },
     "execution_count": 15,
     "metadata": {},
     "output_type": "execute_result"
    }
   ],
   "source": [
    "type(l)"
   ]
  },
  {
   "cell_type": "code",
   "execution_count": 50,
   "id": "8745ce6e-a6b5-463f-9954-e9e7463c5862",
   "metadata": {},
   "outputs": [],
   "source": [
    "gali = [3,4,5,2,8]"
   ]
  },
  {
   "cell_type": "code",
   "execution_count": 51,
   "id": "046914fa-14bc-4fa3-963b-640d3520ea0e",
   "metadata": {},
   "outputs": [
    {
     "data": {
      "text/plain": [
       "[3, 4, 5, 2, 8]"
      ]
     },
     "execution_count": 51,
     "metadata": {},
     "output_type": "execute_result"
    }
   ],
   "source": [
    "gali"
   ]
  },
  {
   "cell_type": "code",
   "execution_count": 52,
   "id": "01c6d575-65fa-409a-82b2-121828b4f89b",
   "metadata": {},
   "outputs": [
    {
     "data": {
      "text/plain": [
       "list"
      ]
     },
     "execution_count": 52,
     "metadata": {},
     "output_type": "execute_result"
    }
   ],
   "source": [
    "type(gali)"
   ]
  },
  {
   "cell_type": "code",
   "execution_count": 16,
   "id": "3ae52f24-0bf7-46e7-9315-ae2b5b9589a4",
   "metadata": {},
   "outputs": [],
   "source": [
    "#set=\"{}\""
   ]
  },
  {
   "cell_type": "code",
   "execution_count": 8,
   "id": "7fdcdc78-1cab-4db6-a6d6-a03305de467f",
   "metadata": {},
   "outputs": [],
   "source": [
    "x = {1,2,3,4,5}"
   ]
  },
  {
   "cell_type": "code",
   "execution_count": 9,
   "id": "fbe3ba01-f539-488e-ac53-d032ae3708be",
   "metadata": {},
   "outputs": [
    {
     "data": {
      "text/plain": [
       "{1, 2, 3, 4, 5}"
      ]
     },
     "execution_count": 9,
     "metadata": {},
     "output_type": "execute_result"
    }
   ],
   "source": [
    "x"
   ]
  },
  {
   "cell_type": "code",
   "execution_count": 10,
   "id": "1a84283f-a8a7-41cc-ac97-c37db1cfc8fc",
   "metadata": {},
   "outputs": [
    {
     "data": {
      "text/plain": [
       "set"
      ]
     },
     "execution_count": 10,
     "metadata": {},
     "output_type": "execute_result"
    }
   ],
   "source": [
    "type(x)"
   ]
  },
  {
   "cell_type": "code",
   "execution_count": 47,
   "id": "52906a32-e7ca-4283-bcaa-d39bd89820ee",
   "metadata": {},
   "outputs": [],
   "source": [
    "students = {23,43,12,34}"
   ]
  },
  {
   "cell_type": "code",
   "execution_count": 48,
   "id": "6fa09a74-bf2c-4933-a7ee-627774376fab",
   "metadata": {},
   "outputs": [
    {
     "data": {
      "text/plain": [
       "{12, 23, 34, 43}"
      ]
     },
     "execution_count": 48,
     "metadata": {},
     "output_type": "execute_result"
    }
   ],
   "source": [
    "students"
   ]
  },
  {
   "cell_type": "code",
   "execution_count": 49,
   "id": "fad38207-8057-477e-983c-52ac755ac503",
   "metadata": {},
   "outputs": [
    {
     "data": {
      "text/plain": [
       "set"
      ]
     },
     "execution_count": 49,
     "metadata": {},
     "output_type": "execute_result"
    }
   ],
   "source": [
    "type(students)"
   ]
  },
  {
   "cell_type": "code",
   "execution_count": 23,
   "id": "ea61c984-641e-4676-9a7e-b49227bdd41b",
   "metadata": {},
   "outputs": [],
   "source": [
    "#tuple=()\n",
    "f=(5,3,4,5,)"
   ]
  },
  {
   "cell_type": "code",
   "execution_count": 24,
   "id": "d1d285c8-1691-4311-9ba7-6845151a7aa2",
   "metadata": {},
   "outputs": [
    {
     "data": {
      "text/plain": [
       "(5, 3, 4, 5)"
      ]
     },
     "execution_count": 24,
     "metadata": {},
     "output_type": "execute_result"
    }
   ],
   "source": [
    "f"
   ]
  },
  {
   "cell_type": "code",
   "execution_count": 25,
   "id": "c5618584-49ab-4a32-ad7f-1fc39e03a93e",
   "metadata": {},
   "outputs": [
    {
     "data": {
      "text/plain": [
       "tuple"
      ]
     },
     "execution_count": 25,
     "metadata": {},
     "output_type": "execute_result"
    }
   ],
   "source": [
    "type(f)"
   ]
  },
  {
   "cell_type": "code",
   "execution_count": 44,
   "id": "26a50ddb-aa5e-46af-b3d4-cf29bd508f4c",
   "metadata": {},
   "outputs": [],
   "source": [
    "num=(546,654,6478,98)"
   ]
  },
  {
   "cell_type": "code",
   "execution_count": 45,
   "id": "f7cc3768-b762-4607-a72f-502a89169408",
   "metadata": {},
   "outputs": [
    {
     "data": {
      "text/plain": [
       "(546, 654, 6478, 98)"
      ]
     },
     "execution_count": 45,
     "metadata": {},
     "output_type": "execute_result"
    }
   ],
   "source": [
    "num\n"
   ]
  },
  {
   "cell_type": "code",
   "execution_count": 46,
   "id": "959469e2-4085-44eb-8534-0239c8367aaa",
   "metadata": {},
   "outputs": [
    {
     "data": {
      "text/plain": [
       "tuple"
      ]
     },
     "execution_count": 46,
     "metadata": {},
     "output_type": "execute_result"
    }
   ],
   "source": [
    "type(num)"
   ]
  },
  {
   "cell_type": "code",
   "execution_count": 34,
   "id": "88c384b8-3af3-4c3d-a881-9c36872f2fdf",
   "metadata": {},
   "outputs": [],
   "source": [
    "#dict=\"{:}\"\n",
    "d= {\"name\":\"rahul\"}"
   ]
  },
  {
   "cell_type": "code",
   "execution_count": 31,
   "id": "6ab63579-9936-4e64-9b9b-305fe7bf42df",
   "metadata": {},
   "outputs": [
    {
     "data": {
      "text/plain": [
       "{'name': 'rahul'}"
      ]
     },
     "execution_count": 31,
     "metadata": {},
     "output_type": "execute_result"
    }
   ],
   "source": [
    "d"
   ]
  },
  {
   "cell_type": "code",
   "execution_count": 32,
   "id": "ecfea57b-bff0-4d28-b802-902771a81225",
   "metadata": {},
   "outputs": [
    {
     "data": {
      "text/plain": [
       "dict"
      ]
     },
     "execution_count": 32,
     "metadata": {},
     "output_type": "execute_result"
    }
   ],
   "source": [
    "type(d)"
   ]
  },
  {
   "cell_type": "code",
   "execution_count": 40,
   "id": "54f0aa2e-e74b-4937-b231-32b69f7c9558",
   "metadata": {},
   "outputs": [],
   "source": [
    "kings={\"rajarao\":\"ramusaha\"}"
   ]
  },
  {
   "cell_type": "code",
   "execution_count": 41,
   "id": "2df93b9c-863f-4a81-9f6c-70b7b5a33099",
   "metadata": {},
   "outputs": [
    {
     "data": {
      "text/plain": [
       "{'rajarao': 'ramusaha'}"
      ]
     },
     "execution_count": 41,
     "metadata": {},
     "output_type": "execute_result"
    }
   ],
   "source": [
    "kings"
   ]
  },
  {
   "cell_type": "code",
   "execution_count": 42,
   "id": "7d4782f8-823e-4222-822e-1b0b55937cb3",
   "metadata": {},
   "outputs": [
    {
     "data": {
      "text/plain": [
       "dict"
      ]
     },
     "execution_count": 42,
     "metadata": {},
     "output_type": "execute_result"
    }
   ],
   "source": [
    "type(gh)"
   ]
  },
  {
   "cell_type": "code",
   "execution_count": 64,
   "id": "6c5a0cee-078d-4fea-8fbc-06a8b70e6bf7",
   "metadata": {},
   "outputs": [],
   "source": [
    "#rough:"
   ]
  },
  {
   "cell_type": "code",
   "execution_count": 65,
   "id": "ea0a13ec-77f0-4657-8198-0dfb1dd76f75",
   "metadata": {},
   "outputs": [],
   "source": [
    "y=(45%(50*2))"
   ]
  },
  {
   "cell_type": "code",
   "execution_count": 66,
   "id": "5b90cc88-3475-4740-a920-7a0dcf7e6775",
   "metadata": {},
   "outputs": [],
   "source": [
    "o=(y*20)"
   ]
  },
  {
   "cell_type": "code",
   "execution_count": 67,
   "id": "2bacab78-46f5-4e86-a07d-688871915a29",
   "metadata": {},
   "outputs": [
    {
     "name": "stdout",
     "output_type": "stream",
     "text": [
      "900\n"
     ]
    }
   ],
   "source": [
    "print(o)"
   ]
  },
  {
   "cell_type": "code",
   "execution_count": 78,
   "id": "801f2151-4ff1-413b-b4b4-c8bec388224b",
   "metadata": {},
   "outputs": [],
   "source": [
    "a = [4.5,6.5,8,True,\"raju\"]"
   ]
  },
  {
   "cell_type": "code",
   "execution_count": 79,
   "id": "0bd2eaf3-71d4-4387-9081-c8b9e13d8c30",
   "metadata": {},
   "outputs": [
    {
     "data": {
      "text/plain": [
       "[4.5, 6.5, 8, True, 'raju']"
      ]
     },
     "execution_count": 79,
     "metadata": {},
     "output_type": "execute_result"
    }
   ],
   "source": [
    "a"
   ]
  },
  {
   "cell_type": "code",
   "execution_count": 80,
   "id": "a321b0da-bfce-46e6-a50a-cb94608fb6f7",
   "metadata": {},
   "outputs": [
    {
     "data": {
      "text/plain": [
       "list"
      ]
     },
     "execution_count": 80,
     "metadata": {},
     "output_type": "execute_result"
    }
   ],
   "source": [
    "type(a)"
   ]
  },
  {
   "cell_type": "code",
   "execution_count": 81,
   "id": "969b71a7-3db2-47c8-aab2-595400b20ec7",
   "metadata": {},
   "outputs": [],
   "source": [
    "c= {1,2,34.7,'sonu',False}"
   ]
  },
  {
   "cell_type": "code",
   "execution_count": 83,
   "id": "d1e5b5e0-0cd5-4f13-8254-d3fcb9dfc6fe",
   "metadata": {},
   "outputs": [
    {
     "data": {
      "text/plain": [
       "{1, 2, 34.7, False, 'sonu'}"
      ]
     },
     "execution_count": 83,
     "metadata": {},
     "output_type": "execute_result"
    }
   ],
   "source": [
    "c"
   ]
  },
  {
   "cell_type": "code",
   "execution_count": 84,
   "id": "69377dfc-2935-480d-bc9c-bdd3982a063c",
   "metadata": {},
   "outputs": [
    {
     "data": {
      "text/plain": [
       "set"
      ]
     },
     "execution_count": 84,
     "metadata": {},
     "output_type": "execute_result"
    }
   ],
   "source": [
    "type(c)"
   ]
  },
  {
   "cell_type": "code",
   "execution_count": 90,
   "id": "58d00323-a57f-4ae9-b10f-dd5460aeeb90",
   "metadata": {},
   "outputs": [],
   "source": [
    "Jatin={'Age':20}"
   ]
  },
  {
   "cell_type": "code",
   "execution_count": 91,
   "id": "2ce4fc62-2645-4feb-9c90-fbcc4dcc4d3c",
   "metadata": {},
   "outputs": [
    {
     "data": {
      "text/plain": [
       "{'Age': 20}"
      ]
     },
     "execution_count": 91,
     "metadata": {},
     "output_type": "execute_result"
    }
   ],
   "source": [
    "Jatin"
   ]
  },
  {
   "cell_type": "code",
   "execution_count": 95,
   "id": "36ae2618-016c-48d2-ad79-1eda1162363c",
   "metadata": {},
   "outputs": [
    {
     "name": "stdin",
     "output_type": "stream",
     "text": [
      "enter value 80\n"
     ]
    },
    {
     "name": "stdout",
     "output_type": "stream",
     "text": [
      "pass\n"
     ]
    }
   ],
   "source": [
    "a = int(input('enter value'))\n",
    "if a>=50:\n",
    "    print('pass')\n",
    "else:\n",
    "    print('fail')"
   ]
  },
  {
   "cell_type": "code",
   "execution_count": null,
   "id": "20876a37-9142-47c5-a661-40ccb3bc3ff9",
   "metadata": {},
   "outputs": [],
   "source": [
    "num = int(input('Age'))\n",
    "if num>=18:\n",
    "          print('Dede Bhosdike')\n",
    "else:\n",
    "    print('Maa Chuda Fir')"
   ]
  },
  {
   "cell_type": "code",
   "execution_count": null,
   "id": "5bbe2cf4-1f6c-45c1-80f1-1aed3675f0af",
   "metadata": {},
   "outputs": [],
   "source": []
  }
 ],
 "metadata": {
  "kernelspec": {
   "display_name": "Python 3 (ipykernel)",
   "language": "python",
   "name": "python3"
  },
  "language_info": {
   "codemirror_mode": {
    "name": "ipython",
    "version": 3
   },
   "file_extension": ".py",
   "mimetype": "text/x-python",
   "name": "python",
   "nbconvert_exporter": "python",
   "pygments_lexer": "ipython3",
   "version": "3.12.7"
  }
 },
 "nbformat": 4,
 "nbformat_minor": 5
}

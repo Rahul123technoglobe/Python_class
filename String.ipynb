{
 "cells": [
  {
   "cell_type": "markdown",
   "id": "ece8c856-428a-49f2-b3f8-98203827b9f9",
   "metadata": {},
   "source": [
    "String"
   ]
  },
  {
   "cell_type": "code",
   "execution_count": 13,
   "id": "86fbdf04-90d4-42a8-b28e-7a4db762f413",
   "metadata": {},
   "outputs": [],
   "source": [
    "\n",
    "#1. Create\n"
   ]
  },
  {
   "cell_type": "code",
   "execution_count": 5,
   "id": "7c7d042b-1f98-4aa4-9186-e531d4127c6d",
   "metadata": {},
   "outputs": [],
   "source": [
    "c=\"Hello\""
   ]
  },
  {
   "cell_type": "code",
   "execution_count": 6,
   "id": "2254cc1e-a7a8-49bc-b255-0fc96ddb2e7d",
   "metadata": {},
   "outputs": [
    {
     "data": {
      "text/plain": [
       "'Hello'"
      ]
     },
     "execution_count": 6,
     "metadata": {},
     "output_type": "execute_result"
    }
   ],
   "source": [
    "c"
   ]
  },
  {
   "cell_type": "code",
   "execution_count": 7,
   "id": "6500a3bc-f51e-4069-bc7c-fdd2df2dbb74",
   "metadata": {},
   "outputs": [
    {
     "ename": "SyntaxError",
     "evalue": "unterminated string literal (detected at line 2) (114246515.py, line 2)",
     "output_type": "error",
     "traceback": [
      "\u001b[1;36m  Cell \u001b[1;32mIn[7], line 2\u001b[1;36m\u001b[0m\n\u001b[1;33m    'it's raining outside'\u001b[0m\n\u001b[1;37m                         ^\u001b[0m\n\u001b[1;31mSyntaxError\u001b[0m\u001b[1;31m:\u001b[0m unterminated string literal (detected at line 2)\n"
     ]
    }
   ],
   "source": [
    "#use of Dubble String \n",
    "'it's raining outside'"
   ]
  },
  {
   "cell_type": "code",
   "execution_count": 8,
   "id": "a7769ef0-8f1e-4dc1-ae8b-ceb293f86b78",
   "metadata": {},
   "outputs": [
    {
     "data": {
      "text/plain": [
       "\"it's raining outside\""
      ]
     },
     "execution_count": 8,
     "metadata": {},
     "output_type": "execute_result"
    }
   ],
   "source": [
    "\"it's raining outside\"#use Double when there is a string in sentence"
   ]
  },
  {
   "cell_type": "code",
   "execution_count": 9,
   "id": "fee1a7cd-46cc-498e-b928-43fe37b753fb",
   "metadata": {},
   "outputs": [],
   "source": [
    "c = '''Hello'''\n"
   ]
  },
  {
   "cell_type": "code",
   "execution_count": 10,
   "id": "9fef5022-0280-42d6-a016-6531c25ae411",
   "metadata": {},
   "outputs": [
    {
     "name": "stdout",
     "output_type": "stream",
     "text": [
      "Hello\n"
     ]
    }
   ],
   "source": [
    "print(c)"
   ]
  },
  {
   "cell_type": "code",
   "execution_count": 11,
   "id": "0f20e51e-e51b-48b5-81d2-edac4f1dd420",
   "metadata": {},
   "outputs": [
    {
     "name": "stdout",
     "output_type": "stream",
     "text": [
      "Hello\n"
     ]
    }
   ],
   "source": [
    "c = \"\"\"Hello\"\"\"\n",
    "print(c)"
   ]
  },
  {
   "cell_type": "code",
   "execution_count": 12,
   "id": "d8b3bd1e-3954-4573-b5da-2d44820da02f",
   "metadata": {},
   "outputs": [
    {
     "name": "stdout",
     "output_type": "stream",
     "text": [
      "Hello\n"
     ]
    }
   ],
   "source": [
    "c = str('Hello')\n",
    "print(c)"
   ]
  },
  {
   "cell_type": "markdown",
   "id": "4f495e86-039e-44cc-997d-c22ccf932268",
   "metadata": {},
   "source": [
    "#2. Access\n",
    "Accessing Substrings from a String|\n"
   ]
  },
  {
   "cell_type": "code",
   "execution_count": 15,
   "id": "64301f46-f0eb-437a-9d5a-1fc838a90082",
   "metadata": {},
   "outputs": [
    {
     "name": "stdout",
     "output_type": "stream",
     "text": [
      "hello\n"
     ]
    }
   ],
   "source": [
    "# Concept of Indexing\n",
    "c = \"hello\"\n",
    "print(c)"
   ]
  },
  {
   "cell_type": "code",
   "execution_count": 16,
   "id": "51597ec4-381f-408c-9e18-b8bdb20d1319",
   "metadata": {},
   "outputs": [
    {
     "name": "stdout",
     "output_type": "stream",
     "text": [
      "h\n"
     ]
    }
   ],
   "source": [
    "print(c[0])"
   ]
  },
  {
   "cell_type": "markdown",
   "id": "1f6fc46f-5cfb-4646-94cf-955fa1d3e4f5",
   "metadata": {},
   "source": [
    "\n",
    "#Indexing Types:Positive,\n",
    "Negative\n",
    "\n",
    "\n",
    "\n"
   ]
  },
  {
   "cell_type": "code",
   "execution_count": 20,
   "id": "ac56cf75-5f01-4a60-a6d9-ea89677fa006",
   "metadata": {},
   "outputs": [
    {
     "name": "stdout",
     "output_type": "stream",
     "text": [
      "d\n"
     ]
    }
   ],
   "source": [
    "print(c[-1])"
   ]
  },
  {
   "cell_type": "markdown",
   "id": "0a51f8c2-1bcd-424a-96da-9b08a5250afc",
   "metadata": {},
   "source": [
    "# Slicing\n"
   ]
  },
  {
   "cell_type": "code",
   "execution_count": null,
   "id": "716c47a3-8edd-495c-a113-3f0233e2a8c9",
   "metadata": {},
   "outputs": [],
   "source": [
    "c = \"Hello World\"\n",
    "print(c)"
   ]
  },
  {
   "cell_type": "code",
   "execution_count": 21,
   "id": "73df3135-b997-4773-9570-bd876372e1ce",
   "metadata": {},
   "outputs": [
    {
     "name": "stdout",
     "output_type": "stream",
     "text": [
      "Hello\n"
     ]
    }
   ],
   "source": [
    "print(c[0:5])"
   ]
  },
  {
   "cell_type": "code",
   "execution_count": 22,
   "id": "e9144d2e-7eaf-45a5-a673-4b6d614eb161",
   "metadata": {},
   "outputs": [
    {
     "name": "stdout",
     "output_type": "stream",
     "text": [
      "llo \n"
     ]
    }
   ],
   "source": [
    "print(c[2:6])"
   ]
  },
  {
   "cell_type": "code",
   "execution_count": 28,
   "id": "d0f03c09-db85-4e6d-9f67-97260e9805f9",
   "metadata": {},
   "outputs": [
    {
     "name": "stdout",
     "output_type": "stream",
     "text": [
      "Hello Wo\n"
     ]
    }
   ],
   "source": [
    "print(c[0:8])"
   ]
  },
  {
   "cell_type": "code",
   "execution_count": 29,
   "id": "174609d5-2b03-45c3-9550-77cd64ed1997",
   "metadata": {},
   "outputs": [
    {
     "name": "stdout",
     "output_type": "stream",
     "text": [
      "Hello World\n"
     ]
    }
   ],
   "source": [
    "print(c[:])"
   ]
  },
  {
   "cell_type": "code",
   "execution_count": 30,
   "id": "2cc32080-35e1-438f-abdc-d020e9d03e5f",
   "metadata": {},
   "outputs": [
    {
     "name": "stdout",
     "output_type": "stream",
     "text": [
      "Hello Wor\n"
     ]
    }
   ],
   "source": [
    "print(c[:9])"
   ]
  },
  {
   "cell_type": "code",
   "execution_count": 31,
   "id": "05e16fdb-7208-4bd2-9cd8-535a31d0326b",
   "metadata": {},
   "outputs": [
    {
     "name": "stdout",
     "output_type": "stream",
     "text": [
      "l\n"
     ]
    }
   ],
   "source": [
    "print(c[2:5:8])"
   ]
  },
  {
   "cell_type": "code",
   "execution_count": 32,
   "id": "c333bbd6-98c8-4d93-87ed-59f1e8779166",
   "metadata": {},
   "outputs": [
    {
     "name": "stdout",
     "output_type": "stream",
     "text": [
      "Wr\n"
     ]
    }
   ],
   "source": [
    "print(c[-5:-1:2])"
   ]
  },
  {
   "cell_type": "code",
   "execution_count": 33,
   "id": "d16654f0-eea8-45ba-a444-9ee48c1efd73",
   "metadata": {},
   "outputs": [
    {
     "name": "stdout",
     "output_type": "stream",
     "text": [
      "Hr\n"
     ]
    }
   ],
   "source": [
    "print(c[::8])"
   ]
  },
  {
   "cell_type": "code",
   "execution_count": 35,
   "id": "8e12a29d-8f80-4748-a8ea-834847101a8a",
   "metadata": {},
   "outputs": [
    {
     "name": "stdout",
     "output_type": "stream",
     "text": [
      "drW\n"
     ]
    }
   ],
   "source": [
    "print(c[-1:4:-2])"
   ]
  },
  {
   "cell_type": "markdown",
   "id": "17f59505-993a-49b2-baef-392bc4234eaa",
   "metadata": {},
   "source": [
    "#Add Chairs"
   ]
  },
  {
   "cell_type": "code",
   "execution_count": 47,
   "id": "0fece6a4-6a5e-4f1c-9efe-f6a8ea0620bd",
   "metadata": {},
   "outputs": [],
   "source": [
    "string1=\"Hello\"\n",
    "string2=\"world\""
   ]
  },
  {
   "cell_type": "code",
   "execution_count": 48,
   "id": "16ed215c-fa4e-4afa-9096-8e20d60e9a44",
   "metadata": {},
   "outputs": [
    {
     "name": "stdout",
     "output_type": "stream",
     "text": [
      "Hello world\n"
     ]
    }
   ],
   "source": [
    "print(string1+ \" \" +string2)"
   ]
  },
  {
   "cell_type": "code",
   "execution_count": 49,
   "id": "76e40648-8280-46b1-b024-ce1d0ab40fdf",
   "metadata": {},
   "outputs": [],
   "source": [
    "another_string = string1 + \",How are you \""
   ]
  },
  {
   "cell_type": "code",
   "execution_count": 50,
   "id": "7bd40fbe-db8c-4b33-adab-bc0d95085ed8",
   "metadata": {},
   "outputs": [
    {
     "data": {
      "text/plain": [
       "'Hello,How are you '"
      ]
     },
     "execution_count": 50,
     "metadata": {},
     "output_type": "execute_result"
    }
   ],
   "source": [
    "another_string"
   ]
  },
  {
   "cell_type": "markdown",
   "id": "1319f98c-94a1-4b25-ae1c-787f427e9bb5",
   "metadata": {},
   "source": [
    "#4. Edit & 5. Delete"
   ]
  },
  {
   "cell_type": "code",
   "execution_count": 52,
   "id": "41e5ee99-27dc-42ec-9876-963b2ea7054d",
   "metadata": {},
   "outputs": [
    {
     "name": "stdout",
     "output_type": "stream",
     "text": [
      "Hello\n"
     ]
    }
   ],
   "source": [
    "c = \"Hello\"\n",
    "print(c)"
   ]
  },
  {
   "cell_type": "code",
   "execution_count": 55,
   "id": "707923d4-0447-4ac2-b546-072ef0d4b9ff",
   "metadata": {},
   "outputs": [
    {
     "ename": "TypeError",
     "evalue": "'str' object does not support item assignment",
     "output_type": "error",
     "traceback": [
      "\u001b[1;31m---------------------------------------------------------------------------\u001b[0m",
      "\u001b[1;31mTypeError\u001b[0m                                 Traceback (most recent call last)",
      "Cell \u001b[1;32mIn[55], line 1\u001b[0m\n\u001b[1;32m----> 1\u001b[0m c[\u001b[38;5;241m0\u001b[39m] \u001b[38;5;241m=\u001b[39m \u001b[38;5;124m'\u001b[39m\u001b[38;5;124mx\u001b[39m\u001b[38;5;124m'\u001b[39m\n",
      "\u001b[1;31mTypeError\u001b[0m: 'str' object does not support item assignment"
     ]
    }
   ],
   "source": [
    "c[0] = 'x' # we can not edit or replace the character"
   ]
  },
  {
   "cell_type": "code",
   "execution_count": 63,
   "id": "911c869b-a9ac-4663-852e-7cfaf69f612c",
   "metadata": {},
   "outputs": [],
   "source": [
    "#Deletion\n",
    "c= \"world\""
   ]
  },
  {
   "cell_type": "code",
   "execution_count": 64,
   "id": "bd26281b-8cfb-4261-8401-80e000ea77d8",
   "metadata": {},
   "outputs": [
    {
     "data": {
      "text/plain": [
       "'world'"
      ]
     },
     "execution_count": 64,
     "metadata": {},
     "output_type": "execute_result"
    }
   ],
   "source": [
    "c"
   ]
  },
  {
   "cell_type": "code",
   "execution_count": 65,
   "id": "48d6396f-7e9a-4aca-afe5-b8c83c4cf2f8",
   "metadata": {},
   "outputs": [],
   "source": [
    "del(c)"
   ]
  },
  {
   "cell_type": "code",
   "execution_count": 66,
   "id": "e2a34775-603b-4fad-8879-1f3a759f8c13",
   "metadata": {},
   "outputs": [
    {
     "ename": "NameError",
     "evalue": "name 'c' is not defined",
     "output_type": "error",
     "traceback": [
      "\u001b[1;31m---------------------------------------------------------------------------\u001b[0m",
      "\u001b[1;31mNameError\u001b[0m                                 Traceback (most recent call last)",
      "Cell \u001b[1;32mIn[66], line 1\u001b[0m\n\u001b[1;32m----> 1\u001b[0m \u001b[38;5;28mprint\u001b[39m(c)\n",
      "\u001b[1;31mNameError\u001b[0m: name 'c' is not defined"
     ]
    }
   ],
   "source": [
    "print(c)"
   ]
  },
  {
   "cell_type": "code",
   "execution_count": 3,
   "id": "9e0f6587-d111-477c-9128-0560019651ab",
   "metadata": {},
   "outputs": [
    {
     "ename": "NameError",
     "evalue": "name 'c' is not defined",
     "output_type": "error",
     "traceback": [
      "\u001b[1;31m---------------------------------------------------------------------------\u001b[0m",
      "\u001b[1;31mNameError\u001b[0m                                 Traceback (most recent call last)",
      "Cell \u001b[1;32mIn[3], line 1\u001b[0m\n\u001b[1;32m----> 1\u001b[0m \u001b[38;5;28;01mdel\u001b[39;00m(c)\n",
      "\u001b[1;31mNameError\u001b[0m: name 'c' is not defined"
     ]
    }
   ],
   "source": [
    "del(c)"
   ]
  },
  {
   "cell_type": "code",
   "execution_count": 4,
   "id": "36b024e7-1255-487e-83de-3058d5bd1d95",
   "metadata": {},
   "outputs": [
    {
     "name": "stdout",
     "output_type": "stream",
     "text": [
      "hello\n"
     ]
    }
   ],
   "source": [
    "c='hello'\n",
    "print(c)"
   ]
  },
  {
   "cell_type": "code",
   "execution_count": 6,
   "id": "373787e7-05cc-4403-965f-647d54a315a9",
   "metadata": {},
   "outputs": [
    {
     "ename": "NameError",
     "evalue": "name 'c' is not defined",
     "output_type": "error",
     "traceback": [
      "\u001b[1;31m---------------------------------------------------------------------------\u001b[0m",
      "\u001b[1;31mNameError\u001b[0m                                 Traceback (most recent call last)",
      "Cell \u001b[1;32mIn[6], line 1\u001b[0m\n\u001b[1;32m----> 1\u001b[0m \u001b[38;5;28;01mdel\u001b[39;00m(c)\n",
      "\u001b[1;31mNameError\u001b[0m: name 'c' is not defined"
     ]
    }
   ],
   "source": [
    "del(c)"
   ]
  },
  {
   "cell_type": "code",
   "execution_count": null,
   "id": "ad181833-c4bf-468f-bf5c-b6107594cf03",
   "metadata": {},
   "outputs": [],
   "source": []
  },
  {
   "cell_type": "code",
   "execution_count": null,
   "id": "09c3b470-30f5-4793-8c2d-00eec2af3684",
   "metadata": {},
   "outputs": [],
   "source": []
  }
 ],
 "metadata": {
  "kernelspec": {
   "display_name": "Python 3 (ipykernel)",
   "language": "python",
   "name": "python3"
  },
  "language_info": {
   "codemirror_mode": {
    "name": "ipython",
    "version": 3
   },
   "file_extension": ".py",
   "mimetype": "text/x-python",
   "name": "python",
   "nbconvert_exporter": "python",
   "pygments_lexer": "ipython3",
   "version": "3.12.7"
  }
 },
 "nbformat": 4,
 "nbformat_minor": 5
}
